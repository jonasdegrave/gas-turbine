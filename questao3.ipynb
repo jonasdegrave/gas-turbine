{
 "cells": [
  {
   "cell_type": "markdown",
   "metadata": {},
   "source": [
    "## Exercício 3: Evolução dos Motores Turbofan\n",
    "\n",
    "* Eloi Antonio\n",
    "* Gabriel Henrique"
   ]
  },
  {
   "cell_type": "markdown",
   "metadata": {},
   "source": [
    "\n",
    "Deseja-se produzir 100 kN no início da decolagem (Mach = 0) ao nível do mar (Ta =\n",
    "288,2K e Pa = 101,3 kPa) usando motores turbofans com tecnologias de diferentes\n",
    "décadas, conforme tabela abaixo (ponto de projeto estático ao nível do mar).\n",
    "\n",
    "|  Década do motor     |   T04 [K] |   B |  Razão de pressão total |   Razão de pressão de compressor |\n",
    "|:------|----------------:|-------------------:|-------:|------------------:|\n",
    "| 60/70 |         1323 |              2 |  15 |            10 |\n",
    "| 70/80 |          1523 |              4 | 25 |             16.67 |\n",
    "| 80/90 |          1623 |              5 |  32 |             21.33 |\n",
    "| 90/00 |          1823 |              8|  36  |             24 |\n",
    "| 00/10 |          1973  |              10 |  48 |             32 |"
   ]
  },
  {
   "cell_type": "markdown",
   "metadata": {},
   "source": [
    "## A) Parâmetros de desempenho na condição estática e no nível do mar\n",
    "\n",
    "Compare a vazão de ar, consumo de combustível, consumo específico de combustível e empuxo específico (parâmetros de desempenho) na condição de projeto, estática ao nível do mar."
   ]
  },
  {
   "cell_type": "markdown",
   "metadata": {},
   "source": [
    "#### Geração dos resultados \n",
    "\n",
    "Para a resolução deste exercício são utilizados os valores de eficiência dos componentes, constante do gás para o ar e poder calorífico do combustível definidos para o Exercício 2. Para garantir que os diferentes motores gerassem o empuxo total igual a 100 kN na condição estática a nível do mar foram calibrados os valores de vazão mássica de ar na entrada para cada motor. Os resultados são indicados nas tabelas e gráficos seguintes:"
   ]
  },
  {
   "cell_type": "code",
   "execution_count": null,
   "metadata": {},
   "outputs": [],
   "source": [
    "import model_reference as mf\n",
    "import numpy as np\n",
    "import matplotlib.pyplot as plt\n",
    "import pandas as pd\n",
    "import warnings\n",
    "\n",
    "plt.style.use('seaborn')\n",
    "warnings.filterwarnings('ignore')\n",
    "\n",
    "values_60 = {\n",
    "    'pa': 101.3,\n",
    "    'ta': 288.2,\n",
    "    'n_d': 0.97,\n",
    "    'n_f': 0.85,\n",
    "    'n_c': 0.85,\n",
    "    'n_b': 1.0,\n",
    "    'n_t': 0.9,\n",
    "    'n_tf': 0.9,\n",
    "    'n_n': 0.98,\n",
    "    'n_nf': 0.98,\n",
    "    'gamma_d': 1.4,\n",
    "    'gamma_f': 1.4,\n",
    "    'gamma_c': 1.37,\n",
    "    'gamma_b': 1.35,\n",
    "    'gamma_t': 1.33,\n",
    "    'gamma_tf': 1.33,\n",
    "    'gamma_n': 1.36,\n",
    "    'gamma_nf': 1.40,\n",
    "    'prc': 10,          # Razão de pressão do compressor\n",
    "    'prf': 1.5,         # Razão de pressão do fan\n",
    "    'bypass_ratio': 2,  # B\n",
    "    'pc_fuel': 45000,\n",
    "    'cp_fuel': 1.110,\n",
    "    'r': 288.3,\n",
    "    't04': 1323,          # T04  \n",
    "    'mach': 0,\n",
    "    'mass_flow': 266.45, # Vazão mássica (fluxo de massa)\n",
    "    }\n",
    "\n",
    "turbofan_60 = mf.TurboFan(values_60)\n",
    "performance_results_60 = turbofan_60.sumarise_results()\n",
    "thermodynamic_results_60 = turbofan_60.sumarise()\n",
    "\n",
    "# Criação de dataframe que contém os valores de interesse para todos os motores (adicionando o primeiro motor)\n",
    "performance_results_q3 = performance_results_60.loc[['hot_mass_flow', 'fuel_consumption', 'TSFC', 'specific_thrust'], : ]\n",
    "performance_results_q3 = performance_results_q3.rename({1: '60/70'}, axis=1)"
   ]
  },
  {
   "cell_type": "code",
   "execution_count": null,
   "id": "e7542680",
   "metadata": {},
   "outputs": [],
   "source": [
    "# Instanciando motor geração década de 70/80\n",
    "values_70 = values_60.copy()\n",
    "values_70.update({'t04': 1523,'bypass_ratio':4,'prc':16.67,'mass_flow':306.150})\n",
    "\n",
    "turbofan_70 = mf.TurboFan(values_70)\n",
    "performance_results_70 = turbofan_70.sumarise_results()\n",
    "thermodynamic_results_70 = turbofan_70.sumarise()\n",
    "\n",
    "# Adição do segundo motor ao dataset geral\n",
    "performance_results_q3['70/80'] = performance_results_70.loc[['hot_mass_flow', 'fuel_consumption', 'TSFC', 'specific_thrust'], : ]\n",
    "\n",
    "# Instanciando motor geração década de 80/90\n",
    "values_80 = values_60.copy()\n",
    "values_80.update({'t04': 1623,'bypass_ratio':5,'prc':21.33, 'mass_flow': 318.351})\n",
    "\n",
    "turbofan_80 = mf.TurboFan(values_80)\n",
    "performance_results_80= turbofan_80.sumarise_results()\n",
    "thermodynamic_results_80= turbofan_80.sumarise()\n",
    "\n",
    "# Adição do terceiro motor ao dataset geral\n",
    "performance_results_q3['80/90'] = performance_results_80.loc[['hot_mass_flow', 'fuel_consumption', 'TSFC', 'specific_thrust'], : ]\n",
    "\n",
    "# Instanciando motor geração década de 90/00\n",
    "values_90 = values_60.copy()\n",
    "values_90.update({'t04': 1823,'bypass_ratio':8,'prc':24,'mass_flow':343.350})\n",
    "\n",
    "turbofan_90 = mf.TurboFan(values_90)\n",
    "performance_results_90 = turbofan_90.sumarise_results()\n",
    "thermodynamic_results_90 = turbofan_90.sumarise()\n",
    "\n",
    "# Adição do quarto motor ao dataset geral\n",
    "performance_results_q3['90/00'] = performance_results_90.loc[['hot_mass_flow', 'fuel_consumption', 'TSFC', 'specific_thrust'], : ]\n",
    "\n",
    "# Instanciando motor geração década de 00/10\n",
    "values_00 = values_60.copy()\n",
    "values_00.update({'t04': 1973,'bypass_ratio':10,'prc':32,'mass_flow':356.221})\n",
    "\n",
    "turbofan_00 = mf.TurboFan(values_00)\n",
    "performance_results_00 = turbofan_00.sumarise_results()\n",
    "thermodynamic_results_00 = turbofan_00.sumarise()\n",
    "\n",
    "# Adição do quinto motor ao dataset geral\n",
    "performance_results_q3['00/10'] = performance_results_00.loc[['hot_mass_flow', 'fuel_consumption', 'TSFC', 'specific_thrust'], : ]"
   ]
  },
  {
   "cell_type": "code",
   "execution_count": null,
   "id": "9159fd3d",
   "metadata": {},
   "outputs": [],
   "source": [
    "['Geração do Motor','mass_flow', 'total_thrust']\n",
    "\n",
    "motores = ['60/70','70/80','80/90','90/00','00/10']\n",
    "\n",
    "mass_flow = [round(turbofan_60.mass_flow,3),\n",
    "            round(turbofan_70.mass_flow,3),\n",
    "            round(turbofan_80.mass_flow,3),\n",
    "            round(turbofan_90.mass_flow,3),\n",
    "            round(turbofan_00.mass_flow,3)]\n",
    "total_thrust = [round(performance_results_60.loc['thrust_total'],1),\n",
    "                round(performance_results_70.loc['thrust_total'],1),\n",
    "                round(performance_results_80.loc['thrust_total'],1),\n",
    "                round(performance_results_90.loc['thrust_total'],1),\n",
    "                round(performance_results_00.loc['thrust_total'],1)]\n",
    "\n",
    "#df = pd.DataFrame(list(zip(motores, mass_flow,total_thrust)),\n",
    "#               columns =['Década do motor', ' Vazão mássica de ar na entrada [kg/s]',' Empuxo total [kN]'])\n",
    "df = pd.DataFrame(list(zip(mass_flow,total_thrust)), index = motores,\n",
    "               columns =[' Vazão mássica de ar na entrada [kg/s]',' Empuxo total [kN]'])\n",
    "df.index.rename('Década do motor',inplace=True)\n",
    "print(df.to_markdown())"
   ]
  },
  {
   "cell_type": "markdown",
   "id": "034aa4e9",
   "metadata": {},
   "source": [
    "***Calibração da vazão mássica de ar***\n",
    "\n",
    "| Década do motor   |    Vazão mássica de ar na entrada [kg/s] |    Empuxo total [kN] |\n",
    "|:------------------|-----------------------------------------:|---------------------:|\n",
    "| 60/70             |                                  266.338 |                  100 |\n",
    "| 70/80             |                                  306.021 |                  100 |\n",
    "| 80/90             |                                  318.217 |                  100 |\n",
    "| 90/00             |                                  343.206 |                  100 |\n",
    "| 00/10             |                                  356.071 |                  100 |"
   ]
  },
  {
   "cell_type": "code",
   "execution_count": null,
   "id": "26f579b2",
   "metadata": {},
   "outputs": [],
   "source": [
    "print(performance_results_q3.transpose().round(3).to_markdown())"
   ]
  },
  {
   "cell_type": "markdown",
   "id": "ccac98ac",
   "metadata": {},
   "source": [
    "***Comparação dos parâmetros de desempenho entre os motores***\n",
    "\n",
    "|  Década do motor     |   Vazão mássica de gases quentes [kg/s] |   Consumo de combustível [kg/s] |   TSFC [Kg/(kN s)] |   Empuxo Específico [(kN s)/kg] |\n",
    "|:------|----------------:|-------------------:|-------:|------------------:|\n",
    "| 60/70 |          88.779 |              1.491 |  0.015 |             1.126 |\n",
    "| 70/80 |          61.204 |              1.179 |  0.012 |             1.634 |\n",
    "| 80/90 |          53.036 |              1.083 |  0.011 |             1.886 |\n",
    "| 90/00 |          38.134 |              0.951 |  0.01  |             2.622 |\n",
    "| 00/10 |          32.37  |              0.874 |  0.009 |             3.089 |"
   ]
  },
  {
   "cell_type": "markdown",
   "id": "dee667b7",
   "metadata": {},
   "source": [
    "***Gráficos contendo os parâmetros de desempenho***"
   ]
  },
  {
   "cell_type": "code",
   "execution_count": null,
   "id": "50b48fcc",
   "metadata": {},
   "outputs": [],
   "source": [
    "fontsize_label = 12 \n",
    "fontsize_title = 15\n",
    "\n",
    "aux=0\n",
    "cols = 2\n",
    "rows = 2\n",
    "\n",
    "fig, ax = plt.subplots(nrows=rows, ncols=cols, figsize=(16,20))\n",
    "\n",
    "fig.suptitle('Parâmetros de desempenho de motores de diferentes décadas',fontsize=fontsize_title, y=0.92)#, fontsize=30)\n",
    "\n",
    "# Definicão dos títulos e indices dos gráficos\n",
    "titulos=['Fluxo mássico do bocal de gases quentes x Década','Consumo de combustível x Década','TSFC x Década','Empuxo Específico x Década']\n",
    "ylabels=['Fluxo mássico do bocal de gases quentes [kg/s]','Consumo de combustível [kg/s]','Consumo específico de Combustível [kg/(kN s)]','Empuxo Específico [kN/kg]']\n",
    "\n",
    "for i in range(0,rows):\n",
    "    for j in range(0,cols):\n",
    "        plt.sca(ax[i,j])\n",
    "        ax[i,j].set_ylabel('Década de fabricação do motor',fontsize=fontsize_label)\n",
    "        ax[i,j].set_xlabel(ylabels[aux],fontsize=fontsize_label)\n",
    "        bars = plt.barh(['60/70','70/80','80/90','90/00','00/10'],performance_results_q3.iloc[aux])\n",
    "        #[xmin xmax ymin ymax]\n",
    "        plt.axis([0, max(performance_results_q3.iloc[aux])*1.1,-0.5 , 4.5])\n",
    "        plt.title(titulos[aux])\n",
    "        for  bar in bars:\n",
    "            width = bar.get_width()\n",
    "            label_y = bar.get_y() + bar.get_height() / 2\n",
    "            plt.text(width, label_y, s=f'{width:.3f}')\n",
    "        aux += 1\n",
    "\n",
    "# save the plot as a file\n",
    "fig.savefig('images/questao3/itemA.jpg',\n",
    "            format='jpeg',\n",
    "            dpi=300,\n",
    "            bbox_inches='tight')"
   ]
  },
  {
   "cell_type": "markdown",
   "metadata": {},
   "source": [
    "<img src=\"images/questao3/itemA.jpg\" alt=\"Comparação das diferentes geracoes de motores\" style=\"width: 15cm;\"/>"
   ]
  },
  {
   "cell_type": "markdown",
   "id": "089c210c",
   "metadata": {},
   "source": [
    "#### Análise dos resultados\n",
    "\n",
    "A partir dos dados é possível concluir que houve um aumento da eficiência na geração de empuxo ao modernizar os motores turbofan. Isso pode ser confirmado quando verificado que para um mesmo valor de empuxo (nesse exercício o empuxo total gerado foi de 100kN) menores valores de consumo de combustível específico e maiores valores do empuxo específico são obtidos a medida em que são analisados motores de décadas subsequentes.\n",
    " \n",
    "Ademais é possível constatar a diminuição do fluxo mássico de gases quentes a medida que se avança em gerações subsequentes de motores turbofan. Que pode ser explicado pelos seguintes fatores:\n",
    "- Aumento da razão de passagem é possibilitado um aumento na geração do empuxo sem a necessidade de aumento da vazão mássica que adentra o interior do motor; \n",
    "- Aumento da razão de pressão do compressor possibilitando que um menor fluxo mássico de ar de gases quentes seja capaz de produzir uma quantidade maior de empuxo."
   ]
  },
  {
   "cell_type": "markdown",
   "id": "fe07708f",
   "metadata": {},
   "source": [
    "### B) Variação da rotação do compressor na condição estática a nível do mar\n",
    "Ainda na condição estática e ao nível do mar, varie a rotação até 70% de N2 e\n",
    "compare como cada motor se comporta sobre os parâmetros de desempenho e\n",
    "empuxo em valores absolutos e normalizados pela condição de 100% de N2."
   ]
  },
  {
   "cell_type": "markdown",
   "id": "f08b5740",
   "metadata": {},
   "source": [
    "#### Geração dos resultados \n",
    "\n",
    "Partindo dos valores de projeto definidos no item \"a\", foram variadas os valores de velocidade de rotação do compressor (N2) e os índices de desempenho de cada motor nessas condições foram avaliadas. A seguir são apresentados os gráficos contendo os resultados encontrados, tanto em valores absolutos quanto em valores normalizados. Essa normalização foi realizada tendo como referência os valores no ponto de projeto (N2 = 100%) calculados no item \"a\"."
   ]
  },
  {
   "cell_type": "markdown",
   "id": "3a16cb0a",
   "metadata": {},
   "source": [
    "***Gráficos contendo os parâmetros de desempenho para motores***\n"
   ]
  },
  {
   "cell_type": "code",
   "execution_count": null,
   "id": "9a6effe1",
   "metadata": {},
   "outputs": [],
   "source": [
    "# Instanciando novo dataframe a partir dos resultados para N2 = 100%\n",
    "performance_results_3b = performance_results_q3.copy(deep=True)\n",
    "performance_results_3b.loc['n2'] = [1,1,1,1,1]"
   ]
  },
  {
   "cell_type": "code",
   "execution_count": null,
   "id": "881931f8",
   "metadata": {},
   "outputs": [],
   "source": [
    "performance_list= []\n",
    "for i in np.linspace(1.0,0.7,10):\n",
    "    # Setando nova rotação em n2\n",
    "    turbofan_60.set_n2(i)\n",
    "    turbofan_70.set_n2(i)\n",
    "    turbofan_80.set_n2(i)\n",
    "    turbofan_90.set_n2(i)\n",
    "    turbofan_00.set_n2(i)\n",
    "\n",
    "    # Atualizando o dataframe com novos resultados\n",
    "    performance_results_3b['60/70'] = turbofan_60.sumarise_results().loc[['hot_mass_flow', 'fuel_consumption', 'TSFC', 'specific_thrust'], : ]\n",
    "    performance_results_3b['70/80'] = turbofan_70.sumarise_results().loc[['hot_mass_flow', 'fuel_consumption', 'TSFC', 'specific_thrust'], : ]\n",
    "    performance_results_3b['80/90'] = turbofan_80.sumarise_results().loc[['hot_mass_flow', 'fuel_consumption', 'TSFC', 'specific_thrust'], : ]\n",
    "    performance_results_3b['90/00'] = turbofan_90.sumarise_results().loc[['hot_mass_flow', 'fuel_consumption', 'TSFC', 'specific_thrust'], : ]\n",
    "    performance_results_3b['00/10'] = turbofan_00.sumarise_results().loc[['hot_mass_flow', 'fuel_consumption', 'TSFC', 'specific_thrust'], : ]\n",
    "    performance_results_3b.loc['n2']=[i,i,i,i,i]\n",
    "    \n",
    "    # Adicionando os resultados na listas de dataframes\n",
    "    performance_list.append(performance_results_3b.copy(deep=True))"
   ]
  },
  {
   "cell_type": "code",
   "execution_count": null,
   "id": "91ae8171",
   "metadata": {},
   "outputs": [],
   "source": [
    "cols = 2\n",
    "rows = 2\n",
    "\n",
    "fig, ax = plt.subplots(nrows=rows, ncols=cols, figsize=(16,20))\n",
    "\n",
    "fig.suptitle('Parâmetros de desempenho para motores de diferentes décadas',fontsize=fontsize_title, y=0.92)#, fontsize=30)\n",
    "\n",
    "# Definicão dos títulos e indices dos gráficos\n",
    "titulos=['Fluxo mássico de gases quentes x Rotação de N2','Consumo de combustível x Rotação de N2','Fluxo mássico normalizado x Rotação de N2','Consumo de combustível normalizado x Rotação de N2']\n",
    "ylabels=['Fluxo mássico de gases quentes [kg/s]','Consumo de combustível [kg/s]','Fluxo mássico normalizado','Consumo de combustível normalizado']\n",
    "labels = ['60/70','70/80','80/90','90/00','00/10']\n",
    "\n",
    "aux = 0\n",
    "i=0\n",
    "for j in range(0,cols):\n",
    "    plt.sca(ax[i,j])\n",
    "    ax[i,j].set_xlabel('Rotação de N2 em relação ao valor de projeto',fontsize=fontsize_label)\n",
    "    ax[i,j].set_ylabel(ylabels[aux],fontsize=fontsize_label)\n",
    "    ax[i,j].set_ylim(0,1.2*performance_list[0][labels[0]].iloc[aux])\n",
    "    for k in range(0,5):\n",
    "        plt.plot(np.linspace(1.0,0.7,10),\n",
    "        [performance_list[0][labels[k]].iloc[aux],\n",
    "        performance_list[1][labels[k]].iloc[aux],\n",
    "        performance_list[2][labels[k]].iloc[aux],\n",
    "        performance_list[3][labels[k]].iloc[aux],\n",
    "        performance_list[4][labels[k]].iloc[aux],\n",
    "        performance_list[5][labels[k]].iloc[aux],\n",
    "        performance_list[6][labels[k]].iloc[aux],\n",
    "        performance_list[7][labels[k]].iloc[aux],\n",
    "        performance_list[8][labels[k]].iloc[aux],\n",
    "        performance_list[9][labels[k]].iloc[aux]],label= labels[k], marker='o')\n",
    "    plt.title(titulos[aux])\n",
    "    plt.legend()\n",
    "    aux += 1\n",
    "i = 1\n",
    "aux = 0\n",
    "for j in range(0,cols):\n",
    "    plt.sca(ax[i,j])\n",
    "    ax[i,j].set_xlabel('Rotação de N2 em relação ao valor de projeto',fontsize=fontsize_label)\n",
    "    ax[i,j].set_ylabel(ylabels[aux+2],fontsize=fontsize_label)\n",
    "    ax[i,j].set_ylim(0,1.2*performance_list[0][labels[0]].iloc[aux]/performance_list[0][labels[0]].iloc[aux])\n",
    "    for k in range(0,5):\n",
    "        plt.plot(np.linspace(1.0,0.7,10),\n",
    "        [performance_list[0][labels[k]].iloc[aux]/performance_list[0][labels[k]].iloc[aux],\n",
    "        performance_list[1][labels[k]].iloc[aux]/performance_list[0][labels[k]].iloc[aux],\n",
    "        performance_list[2][labels[k]].iloc[aux]/performance_list[0][labels[k]].iloc[aux],\n",
    "        performance_list[3][labels[k]].iloc[aux]/performance_list[0][labels[k]].iloc[aux],\n",
    "        performance_list[4][labels[k]].iloc[aux]/performance_list[0][labels[k]].iloc[aux],\n",
    "        performance_list[5][labels[k]].iloc[aux]/performance_list[0][labels[k]].iloc[aux],\n",
    "        performance_list[6][labels[k]].iloc[aux]/performance_list[0][labels[k]].iloc[aux],\n",
    "        performance_list[7][labels[k]].iloc[aux]/performance_list[0][labels[k]].iloc[aux],\n",
    "        performance_list[8][labels[k]].iloc[aux]/performance_list[0][labels[k]].iloc[aux],\n",
    "        performance_list[9][labels[k]].iloc[aux]/performance_list[0][labels[k]].iloc[aux]],label= labels[k], marker='o')\n",
    "    plt.title(titulos[aux+2])\n",
    "    plt.legend()\n",
    "    aux += 1\n",
    "\n",
    "# save the plot as a file\n",
    "fig.savefig('images/questao3/itemB_1.jpg',\n",
    "            format='jpeg',\n",
    "            dpi=300,\n",
    "            bbox_inches='tight')\n"
   ]
  },
  {
   "cell_type": "markdown",
   "id": "44c06319",
   "metadata": {},
   "source": [
    "<img src=\"images/questao3/itemB_1.jpg\" alt=\"Fluxo mássico e consumo de combustível das diferentes geracoes de motores variando N2\" style=\"width: 15cm;\"/>"
   ]
  },
  {
   "cell_type": "code",
   "execution_count": null,
   "id": "e63aaecf",
   "metadata": {},
   "outputs": [],
   "source": [
    "cols = 2\n",
    "rows = 2\n",
    "fig, ax = plt.subplots(nrows=rows, ncols=cols, figsize=(16,20))\n",
    "\n",
    "fig.suptitle('Parâmetros de desempenho para motores de diferentes décadas',fontsize=fontsize_title)\n",
    "# Definicão dos títulos e indices dos gráficos\n",
    "titulos=['TSFC x velocidade rotação de N2','Empuxo Específico x velocidade de rotação de N2','TSFC normalizado x velocidade de rotação de N2','Empuxo Específico normalizado x velocidade de rotação de N2']\n",
    "ylabels=['Consumo específico de combustível [kg/(kN s)]','Empuxo específico [kN/kg]','Consumo específico de combustível normalizado','Empuxo específico normalizado']\n",
    "labels = ['60/70','70/80','80/90','90/00','00/10']\n",
    "\n",
    "aux = 2\n",
    "i=0\n",
    "for j in range(0,cols):\n",
    "    plt.sca(ax[i,j])\n",
    "    ax[i,j].set_xlabel('Rotação de N2 em relação ao valor de projeto',fontsize=fontsize_label)\n",
    "    ax[i,j].set_ylabel(ylabels[aux-2],fontsize=fontsize_label)\n",
    "    ax[i,j].set_ylim(0,1.2*max(performance_list[0][labels[0]].iloc[aux], performance_list[0][labels[4]].iloc[aux]))\n",
    "    for k in range(0,5):\n",
    "        plt.plot(np.linspace(1.0,0.7,10),\n",
    "        [performance_list[0][labels[k]].iloc[aux],\n",
    "        performance_list[1][labels[k]].iloc[aux],\n",
    "        performance_list[2][labels[k]].iloc[aux],\n",
    "        performance_list[3][labels[k]].iloc[aux],\n",
    "        performance_list[4][labels[k]].iloc[aux],\n",
    "        performance_list[5][labels[k]].iloc[aux],\n",
    "        performance_list[6][labels[k]].iloc[aux],\n",
    "        performance_list[7][labels[k]].iloc[aux],\n",
    "        performance_list[8][labels[k]].iloc[aux],\n",
    "        performance_list[9][labels[k]].iloc[aux]],label= labels[k], marker='o')\n",
    "    plt.title(titulos[aux-2])\n",
    "    plt.legend()\n",
    "    aux += 1\n",
    "i = 1\n",
    "aux = 2\n",
    "for j in range(0,cols):\n",
    "    plt.sca(ax[i,j])\n",
    "    ax[i,j].set_xlabel('Rotação de N2 em relação ao valor de projeto',fontsize=fontsize_label)\n",
    "    ax[i,j].set_ylabel(ylabels[aux],fontsize=fontsize_label)\n",
    "    ax[i,j].set_ylim(0,1.2*performance_list[0][labels[0]].iloc[aux]/performance_list[0][labels[0]].iloc[aux])\n",
    "    for k in range(0,5):\n",
    "        plt.plot(np.linspace(1.0,0.7,10),\n",
    "        [performance_list[0][labels[k]].iloc[aux]/performance_list[0][labels[k]].iloc[aux],\n",
    "        performance_list[1][labels[k]].iloc[aux]/performance_list[0][labels[k]].iloc[aux],\n",
    "        performance_list[2][labels[k]].iloc[aux]/performance_list[0][labels[k]].iloc[aux],\n",
    "        performance_list[3][labels[k]].iloc[aux]/performance_list[0][labels[k]].iloc[aux],\n",
    "        performance_list[4][labels[k]].iloc[aux]/performance_list[0][labels[k]].iloc[aux],\n",
    "        performance_list[5][labels[k]].iloc[aux]/performance_list[0][labels[k]].iloc[aux],\n",
    "        performance_list[6][labels[k]].iloc[aux]/performance_list[0][labels[k]].iloc[aux],\n",
    "        performance_list[7][labels[k]].iloc[aux]/performance_list[0][labels[k]].iloc[aux],\n",
    "        performance_list[8][labels[k]].iloc[aux]/performance_list[0][labels[k]].iloc[aux],\n",
    "        performance_list[9][labels[k]].iloc[aux]/performance_list[0][labels[k]].iloc[aux]],label= labels[k], marker='o')\n",
    "    plt.title(titulos[aux])\n",
    "    \n",
    "    plt.legend(loc='lower right')\n",
    "    aux += 1\n",
    "\n",
    "# save the plot as a file\n",
    "fig.savefig('images/questao3/itemB_2.jpg',\n",
    "            format='jpeg',\n",
    "            dpi=300,\n",
    "            bbox_inches='tight')"
   ]
  },
  {
   "cell_type": "markdown",
   "id": "40669298",
   "metadata": {},
   "source": [
    "<img src=\"images/questao3/itemB_2.jpg\" alt=\"TSFC e Empuxo Específico das diferentes geracoes de motores variando N2\" style=\"width: 15cm;\"/>"
   ]
  },
  {
   "cell_type": "markdown",
   "id": "e3e66976",
   "metadata": {},
   "source": [
    "#### Análise dos resultados\n",
    "\n",
    "A partir dos gráficos é possível verificar que conforme a rotação do compressor é diminuída, há uma menor vazão de ar quente no motor, visto que há uma relação diretamente proporcional entre a rotação do compressor e a quantidade de fluxo de ar que admite. Ademais, também é observada uma redução do consumo de combustível com a redução da rotação, a qual inclusive é mais acentuada do que a queda de vazão mássica de ar quente. Esta redução do consumo de combustível ocorre, primeiramente, por conta da redução da vazão mássica de ar quente no motor, que implica na diminuição da necessidade de injeção de combustível para ignitar o ar. Mas a redução do consumo de combustível também ocorre por questões de manutenção do motor: como o motor não está operando em máxima potência quando a rotação do compressor é reduzida, a câmara de combustão do motor não precisa operar na mesma temperatura em que opera na condição de rotação máxima, o que é desejável para que reduzir a danificação dos componentes da parte quente do motor; e para ter essa diminuição de temperatura, a razão ar/combustível precisa ser reduzida, o que implica na redução mais acelerada do consumo de combustível.\n",
    "\n",
    "No que diz respeito à comparação entre diferentes gerações de motores, é possível perceber que os motores desenvolvidos nas décadas mais recentes apresentam uma melhora significativa na quantidade de fluxo de ar e de combustível consumido. Porém, o comportamento normalizado em função da diminuição de rotação é similar para todas as gerações, com uma certa vantagem para as gerações mais novas.\n",
    "\n",
    "A partir do gráfico de consumo específico de combustível (TSFC) é observado um comportamento não-linear à medida que a variação de rotação do compressor. Nisto com a diminuição da rotação até cerca de 85% da rotação de N2 em ponto de projeto o parâmetro TSFC é levemente reduzido, mas ao diminuir ainda mais N2, ocorre o comportamento inverso com o aumento de TSFC. Isso pode ser explicado sabendo que a nas rotações próximas ao ponto de projeto operação do motor é mantida com uma eficiência praticamente constante, mas nos regimes de menor rotação, a eficiência do motor começa a ser comprometida, resultando na necessidade de maior TSFC.\n",
    "\n",
    "E com o aumento do TSFC aliado à redução da razão combustível-ar, o empuxo específico (que consiste na divisão entre a razão combustível-ar e o TSFC) acaba sofrendo uma redução com a diminuição da rotação do compressor. Inicialmente, a rotações próximas do ponto de projeto, o empuxo específico, sofre menores reduções, visto que o TSFC praticamente não sofre alteração e, assim, não interfere na perda de empuxo específico. Porém, à medida que o TSFC vai sendo aumentado, uma vez que diminui-se a rotação N2, o empuxo específico passa a ter uma taxa de redução ainda mais acentuada.\n",
    "\n",
    "Porém, para os modelos de motores turbofan que apresentam alta razão de passagem (B>5) são percebidos pontos de inflexão tanto no gráfico de empuxo específico x rotação de N2 quanto de TSFC x rotação de N2. Esses pontos revelam uma limitação no modelo para representar o comportamento de motores com alta razão de passagem. Ao qual está relacionada a diminuição da pressão no bocal de saída dos gases quentes chegando esta a ser menor que a pressão atmosférica o que resulta em valores de velocidade de saída do bocal de gases quentes não condizentes (valores NaN) com o observado fisicamente, assim se pode concluir para o motor da década de 2000-2010 os valores disponíveis nos gráficos são validos de 100% até 85% de N2 e para o motor da década de 1990/2000 existe validade dos dados de 100% até aproximadamente 80% de N2. \n",
    "\n",
    "Portanto comparando os motores de diferentes gerações, é possível notar que os motores desenvolvidos nas décadas mais recentes, são mais eficientes tanto no consumo de combustível (já que apresentam menor TSFC) e na geração de empuxo específico. Finalmente no que se refere ao TSFC, também é observado que os motores turbofan mais novos são capazes de se manter mais eficientes a velocidades de rotação do compressor mais baixas, o que é comprovado pelo menor aumento do TSFC."
   ]
  },
  {
   "cell_type": "markdown",
   "id": "345d533a",
   "metadata": {},
   "source": [
    "### C) Parâmetros de desempenho a voo de cruzeiro\n",
    "Pensando no voo de cruzeiro a Mach 0,85 e 12.200m ((Ta = 216,7K e Pa =\n",
    "18,75 kPa) e que os motores operam a 85% de N2, calcule os parâmetros de\n",
    "desempenho anteriores, somando-se a eles o empuxo gerado."
   ]
  },
  {
   "cell_type": "markdown",
   "id": "8ce059f4",
   "metadata": {},
   "source": [
    "#### Geração dos resultados \n",
    "\n",
    "Nesse exercício manteve-se os valores de eficiências dos componentes do motor, de $\\gamma$, da constantes do gás e poder calorífico do combustível  do item \"a\".\n",
    "\n",
    "Porém para o cálculo dos parâmetros de desempenho nas condições estabelecidas foi realizada uma nova avaliação de operação dos motores a voo de cruzeiro (M=0.85, Ta=216,7 K e Pa= 18,75 kPa) e com uma rotação do compressor igual a 85% do valor de projeto.\n",
    "\n",
    "Ademais foram atualizadas as vazões mássicas de ar para a altitude de 12.200 m. Dessa maneira são disponibilizados na tabela e gráficos seguintes os resultados obtidos:"
   ]
  },
  {
   "cell_type": "code",
   "execution_count": null,
   "id": "1b3d95a1",
   "metadata": {},
   "outputs": [],
   "source": [
    "values_60.update({'mach': 0.85, 'pa': 18.75,'ta': 216.7})\n",
    "values_70.update({'mach': 0.85, 'pa': 18.75,'ta': 216.7})\n",
    "values_80.update({'mach': 0.85, 'pa': 18.75,'ta': 216.7})\n",
    "values_90.update({'mach': 0.85, 'pa': 18.75,'ta': 216.7})\n",
    "values_00.update({'mach': 0.85, 'pa': 18.75,'ta': 216.7})\n",
    "\n",
    "# Atualizando objetos com os valores do problema\n",
    "turbofan_60 = mf.TurboFan(values_60)\n",
    "turbofan_70 = mf.TurboFan(values_70)\n",
    "turbofan_80 = mf.TurboFan(values_80)\n",
    "turbofan_90 = mf.TurboFan(values_90)\n",
    "turbofan_00 = mf.TurboFan(values_00)\n",
    "\n",
    "# Setando a rotação de N2 para 85%\n",
    "turbofan_60.set_n2(0.85)\n",
    "turbofan_70.set_n2(0.85)\n",
    "turbofan_80.set_n2(0.85)\n",
    "turbofan_90.set_n2(0.85)\n",
    "turbofan_00.set_n2(0.85)"
   ]
  },
  {
   "cell_type": "code",
   "execution_count": null,
   "id": "fbfe78c3",
   "metadata": {},
   "outputs": [],
   "source": [
    "# Inicializando dataframe do exercício \n",
    "performance_results_3c = performance_results_q3.copy(deep=True)\n",
    "\n",
    "# Adicionando ao dataframe a linha relativa ao Empuxo total\n",
    "performance_results_3c.loc['thrust_total'] = [0,0,0,0,0]\n",
    "\n",
    "# Atualizando valores a partir da nova condição de voo\n",
    "performance_results_3c['60/70'] = turbofan_60.sumarise_results().loc[['hot_mass_flow', 'fuel_consumption', 'TSFC', 'specific_thrust','thrust_total'], : ]\n",
    "performance_results_3c['70/80'] = turbofan_70.sumarise_results().loc[['hot_mass_flow', 'fuel_consumption', 'TSFC', 'specific_thrust','thrust_total'], : ]\n",
    "performance_results_3c['80/90'] = turbofan_80.sumarise_results().loc[['hot_mass_flow', 'fuel_consumption', 'TSFC', 'specific_thrust','thrust_total'], : ]\n",
    "performance_results_3c['90/00'] = turbofan_90.sumarise_results().loc[['hot_mass_flow', 'fuel_consumption', 'TSFC', 'specific_thrust','thrust_total'], : ]\n",
    "performance_results_3c['00/10'] = turbofan_00.sumarise_results().loc[['hot_mass_flow', 'fuel_consumption', 'TSFC', 'specific_thrust','thrust_total'], : ]\n",
    "performance_results_3c.loc['n2'] = [0.85,0.85,0.85,0.85,0.85]"
   ]
  },
  {
   "cell_type": "code",
   "execution_count": null,
   "id": "cbfac161",
   "metadata": {},
   "outputs": [],
   "source": [
    "print(performance_results_3c.transpose().round(3).to_markdown())\n",
    "# print(performance_results.transpose().round(3).to_latex())"
   ]
  },
  {
   "cell_type": "markdown",
   "id": "d63bc183",
   "metadata": {},
   "source": [
    "**Comparação entre os motores turbofan de diferentes décadas**"
   ]
  },
  {
   "cell_type": "markdown",
   "metadata": {},
   "source": [
    "\n",
    "|  Década do motor     |   Vazão mássica de gases quentes [kg/s] |   Consumo de combustível [kg/s] |   TSFC [Kg/(kN s)] |   Empuxo Específico [(kN s)/kg] | Empuxo total [kN] | N2 |\n",
    "|:------|----------------:|-------------------:|-------:|------------------:|---------------:|-----:|\n",
    "| 60/70 |          13.415 |              0.201 |  0.026 |             0.583 |          7.822 | 0.85 |\n",
    "| 70/80 |           9.031 |              0.154 |  0.022 |             0.76  |          6.867 | 0.85 |\n",
    "| 80/90 |           7.78  |              0.141 |  0.021 |             0.849 |          6.609 | 0.85 |\n",
    "| 90/00 |           5.54  |              0.121 |  0.02  |             1.09  |          6.038 | 0.85 |\n",
    "| 00/10 |           4.687 |              0.111 |  0.019 |             1.237 |          5.797 | 0.85 |"
   ]
  },
  {
   "cell_type": "markdown",
   "id": "24c54487",
   "metadata": {},
   "source": [
    "***Gráficos contendo os parâmetros de desempenho***"
   ]
  },
  {
   "cell_type": "code",
   "execution_count": null,
   "id": "de88eb02",
   "metadata": {},
   "outputs": [],
   "source": [
    "ylabels = ['Vazão mássica de ar quente', 'Consumo de combustível', 'TSFC', 'Empuxo Específico']\n",
    "titulos = list(map(lambda x: x + \" vs Década do Motor\", ylabels))\n",
    "aux=0\n",
    "cols = 2\n",
    "rows = 2\n",
    "fig, ax = plt.subplots(nrows=rows, ncols=cols, figsize=(16,20))\n",
    "\n",
    "fig.suptitle('Parâmetros de desempenho absolutos, M=0,85 e h=12200 m',fontsize=fontsize_title, y=0.92)#, fontsize=30)\n",
    "\n",
    "for i in range(0,rows):\n",
    "    for j in range(0,cols):\n",
    "        plt.sca(ax[i,j])\n",
    "        ax[i,j].set_ylabel('Década de fabricação do motor',fontsize=fontsize_label)\n",
    "        ax[i,j].set_xlabel(ylabels[aux],fontsize=fontsize_label)\n",
    "        bars = plt.barh(['60/70','70/80','80/90','90/00','00/10'],performance_results_3c.iloc[aux])\n",
    "        #[xmin xmax ymin ymax]\n",
    "        plt.axis([0, max(performance_results_3c.iloc[aux])*1.1,-0.5 , 4.5])\n",
    "        plt.title(titulos[aux])\n",
    "        for  bar in bars:\n",
    "            width = bar.get_width()\n",
    "            label_y = bar.get_y() + bar.get_height() / 2\n",
    "            plt.text(width, label_y, s=f'{width:.3f}')\n",
    "        aux += 1\n",
    "\n",
    "# save the plot as a file\n",
    "fig.savefig('images/questao3/itemC_1.jpg',\n",
    "            format='jpeg',\n",
    "            dpi=300,\n",
    "            bbox_inches='tight')"
   ]
  },
  {
   "cell_type": "markdown",
   "id": "0dc5c94c",
   "metadata": {},
   "source": [
    "<img src=\"images/questao3/itemC_1.jpg\" alt=\"Parametros de desempenho das diferentes geracoes de motores\" style=\"width: 15cm;\"/>"
   ]
  },
  {
   "cell_type": "markdown",
   "metadata": {},
   "source": [
    "<img src=\"images/questao3/itemC_3.jpg\" alt=\"Parametros de desempenho entre operação á nivel do mar e em voo de cruzeiro\" style=\"width: 15cm;\"/>"
   ]
  },
  {
   "cell_type": "code",
   "execution_count": null,
   "id": "0da0763e",
   "metadata": {},
   "outputs": [],
   "source": [
    "fig = plt.figure(figsize=(8,10))\n",
    "bars = plt.barh(['60/70', '70/80', '80/90', '90/00', '00/10'],\n",
    "                performance_results_3c.loc['thrust_total'])\n",
    "plt.axis([0, max(performance_results_3c.loc['thrust_total'])*1.1, -0.5, 4.5])\n",
    "for bar in bars:\n",
    "    width = bar.get_width()\n",
    "    label_y = bar.get_y() + bar.get_height() / 2\n",
    "    plt.text(width, label_y, s=f'{width:.3f}')\n",
    "\n",
    "plt.title('Empuxo Gerado x Década de fabricação do motor', fontsize=fontsize_title)\n",
    "plt.ylabel('Década de fabricação do motor', fontsize = fontsize_label)\n",
    "plt.xlabel('Empuxo resultante [kN]', fontsize = fontsize_label)\n",
    "\n",
    "fig.savefig('images/questao3/itemC_2.jpg',\n",
    "            format='jpeg',\n",
    "            dpi=350,\n",
    "            bbox_inches='tight')"
   ]
  },
  {
   "cell_type": "markdown",
   "id": "e6b5d896",
   "metadata": {},
   "source": [
    "<img src=\"images/questao3/itemC_2.jpg\" alt=\"Empuxo gerado pelas diferentes geracoes de motores\" style=\"width: 7cm;\"/>"
   ]
  },
  {
   "cell_type": "markdown",
   "id": "5421cb93",
   "metadata": {},
   "source": [
    "#### Análise dos resultados\n",
    "\n",
    "Com o aumento da altitude de voo é possível identificar um aumento do TSFC e diminuição do empuxo específico, o que é consequência da queda de massa específica do ar e do fluxo de quantidade de movimento na entrada do motor (que é acrescido com a razão de passagem e velocidade de voo). Este último é diminuido do empuxo gerado pela exaustão dos gases nas saídas dos bocais. \n",
    "\n",
    "A redução verificada na vazão mássica de gases quentes é consequência direta da diminuição da vazão da massa de ar que entra no motor que por sua vez é resultado da diminuição da massa específica do ar atmosférico em maiores altitudes. \n",
    "Em relação ao empuxo gerado nas condições de vôo em cruzeiro é possível notar que há uma redução do seu valor quando comparado com o valor verificado em condições á nível do mar. Além disso os motores mais recentes necessitam gerar menos empuxo para manter a aeronave nas condições de voo de cruzeiro o que corrobora com a maior eficiência de gerações mais novas de motores. \n",
    "\n",
    "Há considerável avanço do empuxo específico de gerações mais recentes de motores turbofan, isso é devido principalmente ao aumento da razão de passagem. Dessa maneira a vazão mássica pelo bocal frio aumentou em gerações mais modernas de motores enquanto que a massa de ar que entra pelo compressor reduziu. Porém existe um efeito negativo nomeado *ram drag* que diz respeito a redução no empuxo total proporcional a velocidade de voo.\n",
    "\n",
    "Similarmente ao verificado no item \"a\" ocorre a diminuição do consumo de combustível, uma vez que há menor necessidade de sua injeção na mistura ar-combustível.\n"
   ]
  },
  {
   "cell_type": "code",
   "execution_count": 26,
   "metadata": {},
   "outputs": [
    {
     "name": "stderr",
     "output_type": "stream",
     "text": [
      "[NbConvertApp] WARNING | pattern 'True' matched no files\n",
      "[NbConvertApp] Converting notebook questao3.ipynb to html\n",
      "[NbConvertApp] ERROR | Notebook JSON is invalid: data must be valid exactly by one of oneOf definition\n",
      "\n",
      "Failed validating <unset> in notebook:\n",
      "\n",
      "On instance:\n",
      "<unset>\n",
      "[NbConvertApp] Writing 601842 bytes to questao3.html\n"
     ]
    }
   ],
   "source": [
    "#!jupyter nbconvert --to html --no-input --TemplateExporter.exclude_output_prompt = True questao3.ipynb"
   ]
  }
 ],
 "metadata": {
  "interpreter": {
   "hash": "a78182b1cc05c5f482ee58b52768c7d25c1162b333397ada3cd2d927001289a0"
  },
  "kernelspec": {
   "display_name": "Python 3.9.7 64-bit",
   "language": "python",
   "name": "python3"
  },
  "language_info": {
   "codemirror_mode": {
    "name": "ipython",
    "version": 3
   },
   "file_extension": ".py",
   "mimetype": "text/x-python",
   "name": "python",
   "nbconvert_exporter": "python",
   "pygments_lexer": "ipython3",
   "version": "3.9.7"
  },
  "orig_nbformat": 4
 },
 "nbformat": 4,
 "nbformat_minor": 2
}
