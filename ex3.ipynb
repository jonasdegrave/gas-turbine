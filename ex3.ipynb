{
 "cells": [
  {
   "cell_type": "markdown",
   "metadata": {},
   "source": [
    "## Questão 3 \n",
    "\n",
    "Deseja-se produzir 100 kN no início da decolagem (Mach = 0) ao nível do mar (Ta =\n",
    "288,2K e Pa = 101,3 kPa) usando motores turbofans com tecnologias de diferentes\n",
    "décadas, conforme tabela abaixo (ponto de projeto estático ao nível do mar)."
   ]
  },
  {
   "cell_type": "markdown",
   "metadata": {},
   "source": [
    "**A)** Compare a vazão de ar, consumo de combustível, consumo específico de combustível e empuxo específico (parâmetros de desempenho) na condição de projeto, estática ao nível do mar."
   ]
  },
  {
   "cell_type": "code",
   "execution_count": null,
   "metadata": {},
   "outputs": [],
   "source": [
    "import model_reference as mf\n",
    "import numpy as np\n",
    "import matplotlib.pyplot as plt\n",
    "import pandas as pd\n",
    "import warnings\n",
    "\n",
    "plt.style.use('seaborn')\n",
    "warnings.filterwarnings('ignore')\n",
    "\n",
    "values_60 = {\n",
    "    'pa': 101.3,\n",
    "    'ta': 288.2,\n",
    "    'n_d': 0.97,\n",
    "    'n_f': 0.85,\n",
    "    'n_c': 0.85,\n",
    "    'n_b': 1.0,\n",
    "    'n_t': 0.9,\n",
    "    'n_tf': 0.9,\n",
    "    'n_n': 0.98,\n",
    "    'n_nf': 0.98,\n",
    "    'gamma_d': 1.4,\n",
    "    'gamma_f': 1.4,\n",
    "    'gamma_c': 1.37,\n",
    "    'gamma_b': 1.35,\n",
    "    'gamma_t': 1.33,\n",
    "    'gamma_tf': 1.33,\n",
    "    'gamma_n': 1.36,\n",
    "    'gamma_nf': 1.40,\n",
    "    'prc': 10,          # Razão de pressão do compressor\n",
    "    'prf': 1.5,         # Razão de pressão do fan\n",
    "    'bypass_ratio': 2,  # B\n",
    "    'pc_fuel': 45000,\n",
    "    'cp_fuel': 1.110,\n",
    "    'r': 288.3,\n",
    "    't04': 1323,          # T04  \n",
    "    'mach': 0,\n",
    "    'mass_flow': 266.45, # Vazão mássica (fluxo de massa)\n",
    "    }\n",
    "\n",
    "turbofan_60 = mf.TurboFan(values_60)\n",
    "performance_results_60 = turbofan_60.sumarise_results()\n",
    "thermodynamic_results_60 = turbofan_60.sumarise()\n",
    "\n",
    "# Criação de dataframe que contém os valores de interesse para todos os motores (adicionando o primeiro motor)\n",
    "performance_results = performance_results_60.loc[['hot_mass_flow', 'fuel_consumption', 'TSFC', 'specific_thrust'], : ]\n",
    "performance_results = performance_results.rename({1: '60/70'}, axis=1)\n",
    "\n",
    "performance_results\n"
   ]
  },
  {
   "cell_type": "code",
   "execution_count": null,
   "metadata": {},
   "outputs": [],
   "source": [
    "turbofan_60.sumarise()"
   ]
  },
  {
   "cell_type": "code",
   "execution_count": null,
   "metadata": {},
   "outputs": [],
   "source": [
    "values_70 = values_60.copy()\n",
    "values_70.update({'t04': 1523,'bypass_ratio':4,'prc':16.67,'mass_flow':306.150})\n",
    "\n",
    "turbofan_70 = mf.TurboFan(values_70)\n",
    "performance_results_70 = turbofan_70.sumarise_results()\n",
    "thermodynamic_results_70 = turbofan_70.sumarise()\n",
    "\n",
    "# Adição do segundo motor ao dataset geral\n",
    "performance_results['70/80'] = performance_results_70.loc[['hot_mass_flow', 'fuel_consumption', 'TSFC', 'specific_thrust'], : ]\n",
    "\n",
    "performance_results_70"
   ]
  },
  {
   "cell_type": "code",
   "execution_count": null,
   "metadata": {},
   "outputs": [],
   "source": [
    "values_80 = values_60.copy()\n",
    "values_80.update({'t04': 1623,'bypass_ratio':5,'prc':21.33, 'mass_flow': 318.351})\n",
    "\n",
    "turbofan_80 = mf.TurboFan(values_80)\n",
    "performance_results_80= turbofan_80.sumarise_results()\n",
    "thermodynamic_results_80= turbofan_80.sumarise()\n",
    "\n",
    "# Adição do terceiro motor ao dataset geral\n",
    "performance_results['80/90'] = performance_results_80.loc[['hot_mass_flow', 'fuel_consumption', 'TSFC', 'specific_thrust'], : ]\n",
    "\n",
    "performance_results_80"
   ]
  },
  {
   "cell_type": "code",
   "execution_count": null,
   "metadata": {},
   "outputs": [],
   "source": [
    "values_90 = values_60.copy()\n",
    "values_90.update({'t04': 1823,'bypass_ratio':8,'prc':24,'mass_flow':343.350})\n",
    "\n",
    "turbofan_90 = mf.TurboFan(values_90)\n",
    "performance_results_90 = turbofan_90.sumarise_results()\n",
    "thermodynamic_results_90 = turbofan_90.sumarise()\n",
    "\n",
    "# Adição do quarto motor ao dataset geral\n",
    "performance_results['90/00'] = performance_results_90.loc[['hot_mass_flow', 'fuel_consumption', 'TSFC', 'specific_thrust'], : ]\n",
    "\n",
    "performance_results_90"
   ]
  },
  {
   "cell_type": "code",
   "execution_count": null,
   "metadata": {},
   "outputs": [],
   "source": [
    "values_00 = values_60.copy()\n",
    "values_00.update({'t04': 1973,'bypass_ratio':10,'prc':32,'mass_flow':356.221})\n",
    "\n",
    "turbofan_00 = mf.TurboFan(values_00)\n",
    "performance_results_00 = turbofan_00.sumarise_results()\n",
    "thermodynamic_results_00 = turbofan_00.sumarise()\n",
    "\n",
    "# Adição do quinto motor ao dataset geral\n",
    "performance_results['00/10'] = performance_results_00.loc[['hot_mass_flow', 'fuel_consumption', 'TSFC', 'specific_thrust'], : ]\n",
    "\n",
    "performance_results_00"
   ]
  },
  {
   "cell_type": "code",
   "execution_count": null,
   "metadata": {},
   "outputs": [],
   "source": [
    "performance_results"
   ]
  },
  {
   "cell_type": "code",
   "execution_count": null,
   "metadata": {},
   "outputs": [],
   "source": [
    "performance_results.transpose()"
   ]
  },
  {
   "cell_type": "code",
   "execution_count": null,
   "metadata": {},
   "outputs": [],
   "source": [
    "aux=0\n",
    "cols = 2\n",
    "rows = 2\n",
    "fontsize_label = 12 \n",
    "fontsize_title = 15\n",
    "\n",
    "fig, ax = plt.subplots(nrows=rows, ncols=cols, figsize=(16,20))\n",
    "\n",
    "\n",
    "fig.suptitle('Indices de performance de motores de diferentes décadas',fontsize=fontsize_title, y=0.92)#, fontsize=30)\n",
    "\n",
    "# Definicão dos títulos e indices dos gráficos\n",
    "titulos=['Fluxo mássico do bocal de gases quentes x Década','Consumo de combustível x Década','TSFC x Década','Empuxo Específico x Década']\n",
    "ylabels=['Fluxo mássico do bocal de gases quentes [kg/s]','Consumo de combustível [L/s]','Consumo específico de Combustível [kg/(kN s)]','Empuxo Específico [kN/kg]']\n",
    "\n",
    "for i in range(0,rows):\n",
    "    for j in range(0,cols):\n",
    "        plt.sca(ax[i,j])\n",
    "        ax[i,j].set_ylabel('Década de fabricação do motor',fontsize=fontsize_label)\n",
    "        ax[i,j].set_xlabel(ylabels[aux],fontsize=fontsize_label)\n",
    "        bars = plt.barh(['60/70','70/80','80/90','90/00','00/10'],performance_results.iloc[aux])\n",
    "        #[xmin xmax ymin ymax]\n",
    "        plt.axis([0, max(performance_results.iloc[aux])*1.1,-0.5 , 4.5])\n",
    "        plt.title(titulos[aux])\n",
    "        for  bar in bars:\n",
    "            width = bar.get_width()\n",
    "            label_y = bar.get_y() + bar.get_height() / 2\n",
    "            plt.text(width, label_y, s=f'{width:.3f}')\n",
    "        aux += 1"
   ]
  },
  {
   "cell_type": "code",
   "execution_count": null,
   "metadata": {},
   "outputs": [],
   "source": [
    "fig.savefig('images/questao3/itemA.jpg',\n",
    "            format='jpeg',\n",
    "            dpi=200,\n",
    "            bbox_inches='tight')"
   ]
  },
  {
   "cell_type": "markdown",
   "metadata": {},
   "source": [
    "A partir dos dados é possível concluir que houve um aumento da eficiência na geração de empuxo ao modernizar os motores turbofan. Isso pode ser confirmado quando verificado que para um mesmo valor de empuxo (nesse exercício o empuxo total gerado foi de 100kN) menores valores de consumo de combustível específico e maiores valores do empuxo específico são obtidos a medida em que são analisados motores de décadas subsequentes.\n",
    " \n",
    "Ademais é possível constatar a diminuição do fluxo mássico de gases quentes a medida que se avança em gerações subsequentes de motores turbofan. Que pode ser explicado pelos seguintes fatores:\n",
    "- Aumento da razão de passagem é possibilitado um aumento na geração do empuxo sem a necessidade de aumento da vazão mássica que adentra o interior do motor; \n",
    "- Aumento da razão de pressão do compressor possibilitando que um menor fluxo mássico de ar de gases quentes seja capaz de produzir uma quantidade maior de empuxo."
   ]
  },
  {
   "cell_type": "markdown",
   "metadata": {},
   "source": [
    "**B)** Ainda na condição estática e ao nível do mar, varie a rotação até 70% de N2 e\n",
    "compare como cada motor se comporta sobre os parâmetros de desempenho e\n",
    "empuxo em valores absolutos e normalizados pela condição de 100% de N2."
   ]
  },
  {
   "cell_type": "code",
   "execution_count": null,
   "metadata": {},
   "outputs": [],
   "source": [
    "# Inicializando dataframe do exercício já com resultados para n2= 1 (100% rotacao)\n",
    "performance_results_3b = performance_results.copy(deep=True)\n",
    "performance_results_3b.loc['n2'] = [1,1,1,1,1]\n",
    "performance_results_3b"
   ]
  },
  {
   "cell_type": "code",
   "execution_count": null,
   "metadata": {},
   "outputs": [],
   "source": [
    "performance_list= []\n",
    "for i in np.linspace(1.0,0.7,10):\n",
    "    # Setando nova rotação em n2\n",
    "    turbofan_60.set_n2(i)\n",
    "    turbofan_70.set_n2(i)\n",
    "    turbofan_80.set_n2(i)\n",
    "    turbofan_90.set_n2(i)\n",
    "    turbofan_00.set_n2(i)\n",
    "\n",
    "    # Atualizando o dataframe com novos resultados\n",
    "    performance_results_3b['60/70'] = turbofan_60.sumarise_results().loc[['hot_mass_flow', 'fuel_consumption', 'TSFC', 'specific_thrust'], : ]\n",
    "    performance_results_3b['70/80'] = turbofan_70.sumarise_results().loc[['hot_mass_flow', 'fuel_consumption', 'TSFC', 'specific_thrust'], : ]\n",
    "    performance_results_3b['80/90'] = turbofan_80.sumarise_results().loc[['hot_mass_flow', 'fuel_consumption', 'TSFC', 'specific_thrust'], : ]\n",
    "    performance_results_3b['90/00'] = turbofan_90.sumarise_results().loc[['hot_mass_flow', 'fuel_consumption', 'TSFC', 'specific_thrust'], : ]\n",
    "    performance_results_3b['00/10'] = turbofan_00.sumarise_results().loc[['hot_mass_flow', 'fuel_consumption', 'TSFC', 'specific_thrust'], : ]\n",
    "    performance_results_3b.loc['n2']=[i,i,i,i,i]\n",
    "    \n",
    "    # Adicionando os resultados na listas de dataframes\n",
    "    performance_list.append(performance_results_3b.copy(deep=True))"
   ]
  },
  {
   "cell_type": "code",
   "execution_count": null,
   "metadata": {},
   "outputs": [],
   "source": [
    "cols = 2\n",
    "rows = 2\n",
    "fig, ax = plt.subplots(nrows=rows, ncols=cols, figsize=(16,20))\n",
    "\n",
    "fig.suptitle('Parâmetros de desempenho para motores de diferentes décadas',fontsize=fontsize_title, y=0.92)#, fontsize=30)\n",
    "\n",
    "# Definicão dos títulos e indices dos gráficos\n",
    "titulos=['Fluxo mássico de gases quentes x Rotação de N2','Consumo de combustível x Rotação de N2','Fluxo mássico normalizado x Rotação de N2','Consumo de combustível normalizado x Rotação de N2']\n",
    "ylabels=['Fluxo mássico de gases quentes [kg/s]','Consumo de combustível [L/s]','Fluxo mássico normalizado','Consumo de combustível normalizado']\n",
    "labels = ['60/70','70/80','80/90','90/00','00/10']\n",
    "\n",
    "aux = 0\n",
    "i=0\n",
    "for j in range(0,cols):\n",
    "    plt.sca(ax[i,j])\n",
    "    ax[i,j].set_xlabel('Rotação de N2 em relação ao valor de projeto',fontsize=fontsize_label)\n",
    "    ax[i,j].set_ylabel(ylabels[aux],fontsize=fontsize_label)\n",
    "    for k in range(0,5):\n",
    "        plt.plot(np.linspace(1.0,0.7,10),\n",
    "        [performance_list[0][labels[k]].iloc[aux],\n",
    "        performance_list[1][labels[k]].iloc[aux],\n",
    "        performance_list[2][labels[k]].iloc[aux],\n",
    "        performance_list[3][labels[k]].iloc[aux],\n",
    "        performance_list[4][labels[k]].iloc[aux],\n",
    "        performance_list[5][labels[k]].iloc[aux],\n",
    "        performance_list[6][labels[k]].iloc[aux],\n",
    "        performance_list[7][labels[k]].iloc[aux],\n",
    "        performance_list[8][labels[k]].iloc[aux],\n",
    "        performance_list[9][labels[k]].iloc[aux]],label= labels[k], marker='o')\n",
    "    plt.title(titulos[aux])\n",
    "    plt.legend()\n",
    "    aux += 1\n",
    "i = 1\n",
    "aux = 0\n",
    "for j in range(0,cols):\n",
    "    plt.sca(ax[i,j])\n",
    "    ax[i,j].set_xlabel('Rotação de N2 em relação ao valor de projeto',fontsize=fontsize_label)\n",
    "    ax[i,j].set_ylabel(ylabels[aux+2],fontsize=fontsize_label)\n",
    "    for k in range(0,5):\n",
    "        plt.plot(np.linspace(1.0,0.7,10),\n",
    "        [performance_list[0][labels[k]].iloc[aux]/performance_list[0][labels[k]].iloc[aux],\n",
    "        performance_list[1][labels[k]].iloc[aux]/performance_list[0][labels[k]].iloc[aux],\n",
    "        performance_list[2][labels[k]].iloc[aux]/performance_list[0][labels[k]].iloc[aux],\n",
    "        performance_list[3][labels[k]].iloc[aux]/performance_list[0][labels[k]].iloc[aux],\n",
    "        performance_list[4][labels[k]].iloc[aux]/performance_list[0][labels[k]].iloc[aux],\n",
    "        performance_list[5][labels[k]].iloc[aux]/performance_list[0][labels[k]].iloc[aux],\n",
    "        performance_list[6][labels[k]].iloc[aux]/performance_list[0][labels[k]].iloc[aux],\n",
    "        performance_list[7][labels[k]].iloc[aux]/performance_list[0][labels[k]].iloc[aux],\n",
    "        performance_list[8][labels[k]].iloc[aux]/performance_list[0][labels[k]].iloc[aux],\n",
    "        performance_list[9][labels[k]].iloc[aux]/performance_list[0][labels[k]].iloc[aux]],label= labels[k], marker='o')\n",
    "    plt.title(titulos[aux+2])\n",
    "    plt.legend()\n",
    "    aux += 1\n"
   ]
  },
  {
   "cell_type": "code",
   "execution_count": null,
   "metadata": {},
   "outputs": [],
   "source": [
    "fig.savefig('images/questao3/itemB_1.jpg',\n",
    "            format='jpeg',\n",
    "            dpi=200,\n",
    "            bbox_inches='tight')"
   ]
  },
  {
   "cell_type": "markdown",
   "metadata": {},
   "source": [
    " Dos gráficos é possível constatar a diminuição do fluxo mássico dos gases quentes a medida em que se diminui a velocidade de rotação do compressor (N2), uma vez que é diminuido a vazão de massa de ar que adentra o motor. Também é identificada a redução do consumo de combustível uma vez que se faz necessário menor quantidade de combustível para a mistura ótima de ar-combustível para a rotação de N2. Como resultado dos avanços tecnológicos percebe-se a diminuição do consumo de combustível e de vazão mássica de gases quentes nos motores de gerações mais recentes. "
   ]
  },
  {
   "cell_type": "code",
   "execution_count": null,
   "metadata": {},
   "outputs": [],
   "source": [
    "cols = 2\n",
    "rows = 2\n",
    "fig, ax = plt.subplots(nrows=rows, ncols=cols, figsize=(16,20))\n",
    "\n",
    "fig.suptitle('Parâmetros de desempenho para motores de diferentes décadas',fontsize=fontsize_title, y=0.92)\n",
    "# Definicão dos títulos e indices dos gráficos\n",
    "titulos=['TSFC x velocidade rotação de N2','Empuxo Específico x veocidade de rotação de N2','TSFC normalizado x velocidade de rotação de N2','Empuxo Específico normalizado x velocidade de rotação de N2']\n",
    "ylabels=['Consumo específico de combustível [kg/(kN s)]','Empuxo específico [kN/kg]','Consumo específico de combustível normalizado','Empuxo específico normalizado']\n",
    "labels = ['60/70','70/80','80/90','90/00','00/10']\n",
    "\n",
    "aux = 2\n",
    "i=0\n",
    "for j in range(0,cols):\n",
    "    plt.sca(ax[i,j])\n",
    "    ax[i,j].set_xlabel('Rotação de N2 em relação ao valor de projeto',fontsize=fontsize_label)\n",
    "    ax[i,j].set_ylabel(ylabels[aux-2],fontsize=fontsize_label)\n",
    "    for k in range(0,5):\n",
    "        plt.plot(np.linspace(1.0,0.7,10),\n",
    "        [performance_list[0][labels[k]].iloc[aux],\n",
    "        performance_list[1][labels[k]].iloc[aux],\n",
    "        performance_list[2][labels[k]].iloc[aux],\n",
    "        performance_list[3][labels[k]].iloc[aux],\n",
    "        performance_list[4][labels[k]].iloc[aux],\n",
    "        performance_list[5][labels[k]].iloc[aux],\n",
    "        performance_list[6][labels[k]].iloc[aux],\n",
    "        performance_list[7][labels[k]].iloc[aux],\n",
    "        performance_list[8][labels[k]].iloc[aux],\n",
    "        performance_list[9][labels[k]].iloc[aux]],label= labels[k], marker='o')\n",
    "    plt.title(titulos[aux-2])\n",
    "    plt.legend()\n",
    "    aux += 1\n",
    "i = 1\n",
    "aux = 2\n",
    "for j in range(0,cols):\n",
    "    plt.sca(ax[i,j])\n",
    "    ax[i,j].set_xlabel('Rotação de N2 em relação ao valor de projeto',fontsize=fontsize_label)\n",
    "    ax[i,j].set_ylabel(ylabels[aux],fontsize=fontsize_label)\n",
    "    ax[i,j].set_xlim(0,1)\n",
    "    \n",
    "    for k in range(0,5):\n",
    "        plt.plot(np.linspace(1.0,0.7,10),\n",
    "        [performance_list[0][labels[k]].iloc[aux]/performance_list[0][labels[k]].iloc[aux],\n",
    "        performance_list[1][labels[k]].iloc[aux]/performance_list[0][labels[k]].iloc[aux],\n",
    "        performance_list[2][labels[k]].iloc[aux]/performance_list[0][labels[k]].iloc[aux],\n",
    "        performance_list[3][labels[k]].iloc[aux]/performance_list[0][labels[k]].iloc[aux],\n",
    "        performance_list[4][labels[k]].iloc[aux]/performance_list[0][labels[k]].iloc[aux],\n",
    "        performance_list[5][labels[k]].iloc[aux]/performance_list[0][labels[k]].iloc[aux],\n",
    "        performance_list[6][labels[k]].iloc[aux]/performance_list[0][labels[k]].iloc[aux],\n",
    "        performance_list[7][labels[k]].iloc[aux]/performance_list[0][labels[k]].iloc[aux],\n",
    "        performance_list[8][labels[k]].iloc[aux]/performance_list[0][labels[k]].iloc[aux],\n",
    "        performance_list[9][labels[k]].iloc[aux]/performance_list[0][labels[k]].iloc[aux]],label= labels[k], marker='o')\n",
    "    plt.title(titulos[aux])\n",
    "    plt.legend()\n",
    "    aux += 1"
   ]
  },
  {
   "cell_type": "code",
   "execution_count": null,
   "metadata": {},
   "outputs": [],
   "source": [
    "fig.savefig('images/questao3/itemB_2.jpg',\n",
    "            format='jpeg',\n",
    "            dpi=200,\n",
    "            bbox_inches='tight')"
   ]
  },
  {
   "cell_type": "markdown",
   "metadata": {},
   "source": [
    "Tendo como base os resultados obtidos é possível identificar o aumento do empuxo específico a medida em que se compara os motores turbofan de diferentes décadas, sendo o mais recente aquele que apresenta maior valor. Á proporção em que se diminui a velocidade de rotação do compressor (N2) é possível identificar a redução do empuxo devido ao distanciamento do ponto de projeto;\n",
    "\n",
    "Ainda é notável a redução do consumo de combustível específico (TSFC) nas gerações mais recentes de motores. Ademais se percebe uma relação não linear entre a velocidade de rotação de compressor e TSFC com mínimo próximo ao valor de 85% da rotação N2 de projeto. Isso está relacionado as taxas de queda do empuxo específico e da razão combustível-ar: inicialmente para maiores rotações de N2 há uma queda mais acentuada da razão combustível-ar e menos acentuada do empuxo específico o que faz com que seja reduzido TSFC; porém, a partir de um certo valor de rotação do compressor (aproximadamente N2 igual a 85% do valor de projeto) o empuxo específico passa a apresentar uma taxa de queda maior que a da razão combustível-ar fazendo com que o TSFC aumente.  \n",
    "\n",
    "Porém, para os modelos de motores turbofan que apresentam alta razão de passagem (B>5) é percebido tanto no gráfico de empuxo específico x velocidade de rotação de N2 quanto de TSFC x velocidade de rotação de N2 pontos que indicam uma leve mudança de comportamento. Esses pontos revelam uma limitação no modelo para representar o comportamento de motores com alta razão de passagem. Ao qual está relacionada a ... . "
   ]
  },
  {
   "cell_type": "markdown",
   "metadata": {},
   "source": [
    "**C)** Pensando no voo de cruzeiro a Mach 0,85 e 12.200m ((Ta = 216,7K e Pa =\n",
    "18,75 kPa) e que os motores operam a 85% de N2, calcule os parâmetros de\n",
    "desempenho anteriores, somando-se a eles o empuxo gerado."
   ]
  },
  {
   "cell_type": "code",
   "execution_count": null,
   "metadata": {},
   "outputs": [],
   "source": [
    "values_60.update({'mach': 0.85, 'pa': 18.75,'ta': 216.7})\n",
    "values_70.update({'mach': 0.85, 'pa': 18.75,'ta': 216.7})\n",
    "values_80.update({'mach': 0.85, 'pa': 18.75,'ta': 216.7})\n",
    "values_90.update({'mach': 0.85, 'pa': 18.75,'ta': 216.7})\n",
    "values_00.update({'mach': 0.85, 'pa': 18.75,'ta': 216.7})\n",
    "\n",
    "# Atualizando objetos com os valores do problema\n",
    "turbofan_60 = mf.TurboFan(values_60)\n",
    "turbofan_70 = mf.TurboFan(values_70)\n",
    "turbofan_80 = mf.TurboFan(values_80)\n",
    "turbofan_90 = mf.TurboFan(values_90)\n",
    "turbofan_00 = mf.TurboFan(values_00)\n",
    "\n",
    "# Setando a rotação de N2 para 85%\n",
    "turbofan_60.set_n2(0.85)\n",
    "turbofan_70.set_n2(0.85)\n",
    "turbofan_80.set_n2(0.85)\n",
    "turbofan_90.set_n2(0.85)\n",
    "turbofan_00.set_n2(0.85)"
   ]
  },
  {
   "cell_type": "code",
   "execution_count": null,
   "metadata": {},
   "outputs": [],
   "source": [
    "turbofan_60.sumarise_results()"
   ]
  },
  {
   "cell_type": "code",
   "execution_count": null,
   "metadata": {},
   "outputs": [],
   "source": [
    "# Inicializando dataframe do exercício \n",
    "performance_results_3c = performance_results.copy(deep=True)\n",
    "\n",
    "\n",
    "performance_results_3c.loc['thrust_total'] = [0,0,0,0,0]\n",
    "performance_results_3c['60/70'] = turbofan_60.sumarise_results().loc[['hot_mass_flow', 'fuel_consumption', 'TSFC', 'specific_thrust','thrust_total'], : ]\n",
    "performance_results_3c['70/80'] = turbofan_70.sumarise_results().loc[['hot_mass_flow', 'fuel_consumption', 'TSFC', 'specific_thrust','thrust_total'], : ]\n",
    "performance_results_3c['80/90'] = turbofan_80.sumarise_results().loc[['hot_mass_flow', 'fuel_consumption', 'TSFC', 'specific_thrust','thrust_total'], : ]\n",
    "performance_results_3c['90/00'] = turbofan_90.sumarise_results().loc[['hot_mass_flow', 'fuel_consumption', 'TSFC', 'specific_thrust','thrust_total'], : ]\n",
    "performance_results_3c['00/10'] = turbofan_00.sumarise_results().loc[['hot_mass_flow', 'fuel_consumption', 'TSFC', 'specific_thrust','thrust_total'], : ]\n",
    "performance_results_3c.loc['n2'] = [0.85,0.85,0.85,0.85,0.85]\n",
    "\n",
    "performance_results_3c"
   ]
  },
  {
   "cell_type": "code",
   "execution_count": null,
   "metadata": {},
   "outputs": [],
   "source": [
    "aux=0\n",
    "cols = 2\n",
    "rows = 2\n",
    "fig, ax = plt.subplots(nrows=rows, ncols=cols, figsize=(16,20))\n",
    "\n",
    "fig.suptitle('Parâmetros de desempenho absolutos, M=0,85 e h=12200 m',fontsize=fontsize_title, y=0.92)#, fontsize=30)\n",
    "\n",
    "for i in range(0,rows):\n",
    "    for j in range(0,cols):\n",
    "        plt.sca(ax[i,j])\n",
    "        ax[i,j].set_ylabel('Década de fabricação do motor',fontsize=fontsize_label)\n",
    "        ax[i,j].set_xlabel(ylabels[aux],fontsize=fontsize_label)\n",
    "        bars = plt.barh(['60/70','70/80','80/90','90/00','00/10'],performance_results_3c.iloc[aux])\n",
    "        #[xmin xmax ymin ymax]\n",
    "        plt.axis([0, max(performance_results_3c.iloc[aux])*1.1,-0.5 , 4.5])\n",
    "        plt.title(titulos[aux])\n",
    "        for  bar in bars:\n",
    "            width = bar.get_width()\n",
    "            label_y = bar.get_y() + bar.get_height() / 2\n",
    "            plt.text(width, label_y, s=f'{width:.3f}')\n",
    "        aux += 1"
   ]
  },
  {
   "cell_type": "code",
   "execution_count": null,
   "metadata": {},
   "outputs": [],
   "source": [
    "fig.savefig('images/questao3/itemC_1.jpg',\n",
    "            format='jpeg',\n",
    "            dpi=200,\n",
    "            bbox_inches='tight')"
   ]
  },
  {
   "cell_type": "code",
   "execution_count": null,
   "metadata": {},
   "outputs": [],
   "source": [
    "#fig, ax =plt.subplots()\n",
    "\n",
    "fig = plt.figure(figsize=(8,10))\n",
    "bars = plt.barh(['60/70', '70/80', '80/90', '90/00', '00/10'],\n",
    "                performance_results_3c.loc['thrust_total'])\n",
    "plt.axis([0, max(performance_results_3c.loc['thrust_total'])*1.1, -0.5, 4.5])\n",
    "for bar in bars:\n",
    "    width = bar.get_width()\n",
    "    label_y = bar.get_y() + bar.get_height() / 2\n",
    "    plt.text(width, label_y, s=f'{width:.3f}')\n",
    "\n",
    "plt.title('Empuxo Gerado x Década de fabricação do motor', fontsize=fontsize_title)\n",
    "plt.ylabel('Década de fabricação do motor', fontsize = fontsize_label)\n",
    "plt.xlabel('Empuxo resultante [kN]', fontsize = fontsize_label)"
   ]
  },
  {
   "cell_type": "code",
   "execution_count": null,
   "metadata": {},
   "outputs": [],
   "source": [
    "fig.savefig('images/questao3/itemC_2.jpg',\n",
    "            format='jpeg',\n",
    "            dpi=200,\n",
    "            bbox_inches='tight')"
   ]
  },
  {
   "cell_type": "markdown",
   "metadata": {},
   "source": [
    "Com o aumento da altitude de vôo é possível identificar um aumento do TSFC e diminuição do empuxo específico, o que é consequência da queda de massa específica do ar e do fluxo de quantidade de movimento na entrada do motor (que é acrescido com a razão de passagem e velocidade de voo). Este último é diminuido do empuxo gerado pela exaustão dos gases nas saídas dos bocais.\n",
    "\n",
    "A redução verificada na vazão mássica de gases quentes é consequência direta da diminuição da vazão da massa de ar que entra no motor que por sua vez é resultado da diminuição da massa específica do ar atmosférico em maiores altitudes. \n",
    "\n",
    "Similarmente ao verificado no item a) ocorre a diminuição do consumo de combústivel uma vez que há menor necessidade de sua injeção na mistura ar-combustível.\n",
    "\n",
    "Em relação ao empuxo gerado nas condições de vôo em cruzeiro é possível notar que há uma redução do seu valor quando comparado com o valor verificado em condições á nível do mar. Além disso os motores mais recentes necessitam gerar menos empuxo para manter a aeronave nas condições de vôo de cruzeiro o que corrobora com a maior eficiência de gerações mais novas de motores.\n",
    "\n"
   ]
  }
 ],
 "metadata": {
  "interpreter": {
   "hash": "e1735dd0795dce195fb98475ccf229151ed44a61fb274eb18cdb7c8302916985"
  },
  "kernelspec": {
   "display_name": "Python 3.10.2 64-bit",
   "language": "python",
   "name": "python3"
  },
  "language_info": {
   "codemirror_mode": {
    "name": "ipython",
    "version": 3
   },
   "file_extension": ".py",
   "mimetype": "text/x-python",
   "name": "python",
   "nbconvert_exporter": "python",
   "pygments_lexer": "ipython3",
   "version": "3.10.2"
  },
  "orig_nbformat": 4
 },
 "nbformat": 4,
 "nbformat_minor": 2
}
