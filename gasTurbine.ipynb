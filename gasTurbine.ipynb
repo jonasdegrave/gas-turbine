{
 "cells": [
  {
   "cell_type": "markdown",
   "id": "0695ebf7",
   "metadata": {},
   "source": [
    "<div>\n",
    "<table><tr>\n",
    "<td>\n",
    "<img src=\"images/ITA_logo.png\" alt=\"Instituto Tecnológico da Aeronáutica (ITA)\" style=\"width: 200px;\"/>\n",
    "    </td>\n",
    "<td>\n",
    "<img src=\"images/Embraer_logo.png\" alt=\"Empresa Brasileira de Aeronáutica (Embraer)\" style=\"width: 200px;\"/>\n",
    "    </td>\n",
    "    </tr></table\n",
    "</div>"
   ]
  },
  {
   "cell_type": "markdown",
   "id": "1b7cc47c",
   "metadata": {},
   "source": [
    "# EMBRAER | ITA\n",
    "\n",
    "## ENGENHARIA AERONÁUTICA E MECÂNICA - PEE 30\n",
    "\n",
    "### AC-701 : SISTEMAS PROPULSIVOS - PROF. LACAVA\n",
    "\n",
    "### Autores:\n",
    "\n",
    "* Camilla Santos ( 'email' )\n",
    "* Eloi Antonio ( 'email' )\n",
    "* Gabriel Henrique ( 'email' )\n",
    "* Jonas Degrave (jonasdegrave@poli.ufrj.br)\n",
    "* Lucas Schroeder  ( 'email' )\n",
    "* Matheus Monteverde ( 'email' )\n",
    "* Orlando Gabriel ( 'email' )\n",
    "* Rafael Bayão ( 'email' )\n",
    "\n",
    "## Turbojato:\n",
    "\n",
    "* a\n",
    "* b\n",
    "\n",
    "## Turbofan:\n",
    "\n",
    "* c\n",
    "* d\n",
    "\n",
    "## Turbohélice:\n",
    "\n",
    "* e\n",
    "* f\n",
    "\n",
    "## Ramjet:\n",
    "\n",
    "* g\n",
    "* h\n",
    "\n",
    "\n"
   ]
  },
  {
   "cell_type": "code",
   "execution_count": null,
   "id": "fe333a87",
   "metadata": {},
   "outputs": [],
   "source": []
  },
  {
   "cell_type": "code",
   "execution_count": null,
   "id": "66163aa8",
   "metadata": {},
   "outputs": [],
   "source": []
  }
 ],
 "metadata": {
  "kernelspec": {
   "display_name": "Python 3 (ipykernel)",
   "language": "python",
   "name": "python3"
  },
  "language_info": {
   "codemirror_mode": {
    "name": "ipython",
    "version": 3
   },
   "file_extension": ".py",
   "mimetype": "text/x-python",
   "name": "python",
   "nbconvert_exporter": "python",
   "pygments_lexer": "ipython3",
   "version": "3.10.4"
  }
 },
 "nbformat": 4,
 "nbformat_minor": 5
}
