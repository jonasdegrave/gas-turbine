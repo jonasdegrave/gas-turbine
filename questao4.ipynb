{
 "cells": [
  {
   "cell_type": "markdown",
   "metadata": {},
   "source": [
    "### Exercício 4\n",
    "\n",
    "Tomando em conta o motor turbo hélice com as seguintes características operacionais no início da decolagem (Mach = 0 e rotação máxima) ao nível do mar (Ta = 288,2 K e Pa = 101,3 kPa): vazão de ar 6,7 kg/s, razão de compressão 12, temperatura total na saída da câmara de combustão 1400 K, além de :\n",
    "\n",
    "<div><center>\n",
    "<img src=\"images/questao4_tabela.png\" alt=\"Tabela da questão 4\" style=\"width: 300px;\"/>\n",
    "</center></div>\n",
    "\n",
    "Poder calorífico inferior do combustível: 4500 kJ/kg\n",
    "Cp turbina livre isentrópica: 1.16 kJ/(kg.K)\n",
    "Cp turbina livre: 1.11 kJ/(kg.K)"
   ]
  },
  {
   "cell_type": "code",
   "execution_count": 36,
   "metadata": {},
   "outputs": [
    {
     "name": "stdout",
     "output_type": "stream",
     "text": [
      "1439\n",
      "2.406000000000857\n",
      "1282\n",
      "0.9572000000000047\n",
      "T04:  0.9572    1335.134755\n",
      "Name: t04, dtype: float64\n"
     ]
    }
   ],
   "source": [
    "import model_reference as mf\n",
    "import numpy as np\n",
    "import pandas as pd\n",
    "import warnings\n",
    "\n",
    "values = {\n",
    "    'mass_flow': 6.7,  # Vazão mássica = vazão de ar no compressor [kg/s]\n",
    "    't04': 1400,       # Temperatura da saída da câmara de combustão [K]\n",
    "    'prc': 12,         # Razão de pressão do compressor\n",
    "    'mach': 0,         # Mach de voo [M]\n",
    "    'ta': 288.2,       # Temperatura ambiente [K]\n",
    "    'pa': 101.3,       # Pressão ambiente [kPa]\n",
    "    'n_d': 0.85,       # Eficiência da entrada de ar\n",
    "    'gamma_d': 1.4,    # Gamma da entrada de ar\n",
    "    'n_c': 0.75,       # Eficiência do compressor\n",
    "    'gamma_c': 1.37,   # Gamma do compressor\n",
    "    'n_b': 1,          # Eficiência da câmera de combustão\n",
    "    'gamma_b': 1.35,   # Gamma da câmera de combustão\n",
    "    'n_t': 0.9,        # Eficiência da turbina do compressor\n",
    "    'gamma_t': 1.33,   # Gamma da turbina do compressor\n",
    "    'n_tl': 0.9,       # Eficiência da turbina livre\n",
    "    'gamma_tl': 1.33,  # Gamma da turbina livre\n",
    "    'n_n': 0.98,       # Eficiência do bocal de gases quentes\n",
    "    'gamma_n': 1.36,   # Gamma do bocal de gases quentes\n",
    "    'pc_fuel': 45000,  # Poder calorífico inferior do combustível [kJ/kg]\n",
    "    'cp_fuel': 1.110,  # Cp no combustor [kJ/(kg.K)]\n",
    "    'cp_tl': 1.160,    # Cp da turbina livre [kJ/(kg.K)]\n",
    "    'r': 288.3,        # R médio m2/(s2.K)\n",
    "    'pr_tl': 2.87,                # Razão de pressão da turbina livre    \n",
    "    'gearbox_power_ratio': 0.98,     # Razão de potência da gearbox\n",
    "    'propeller_efficiency': 0.85, # Eficiência da hélice\n",
    "    }\n",
    "\n",
    "# Como os valores não foram dados, considera-se que a razão de potência da gearbox \n",
    "# é 0.98 e a eficiência da hélice é 0.85. Também, como não foram informados alguns outros\n",
    "# valores foram utilizados: n_b = 1, gamma_b = 1.35, cp_fuel = 1.11, R = 288.3\n",
    "\n",
    "# Para calibrar o motor inicialmente para permitir que a potência do motor produzida seja 1440 kW\n",
    "turbine_power_target = 1440 #[kW]\n",
    "\n",
    "turbine_pressure_ratio = 2.0\n",
    "values[\"pr_tl\"] = turbine_pressure_ratio\n",
    "turbine_pressure_ratio_delta = 0.0001\n",
    "\n",
    "turboprop = mf.TurboProp(values)\n",
    "turboprop.set_n2(1)\n",
    "\n",
    "performance_results = turboprop.sumarise_results()\n",
    "\n",
    "while(int(performance_results.loc['turbine_power']) < turbine_power_target):\n",
    "    turbine_pressure_ratio = turbine_pressure_ratio + turbine_pressure_ratio_delta\n",
    "    values[\"pr_tl\"] = turbine_pressure_ratio\n",
    "    turboprop = mf.TurboProp(values)\n",
    "    performance_results = turboprop.sumarise_results()\n",
    "\n",
    "turbine_pressure_ratio = turbine_pressure_ratio - turbine_pressure_ratio_delta\n",
    "values[\"pr_tl\"] = turbine_pressure_ratio\n",
    "turboprop = mf.TurboProp(values)\n",
    "performance_results = turboprop.sumarise_results()\n",
    "print(int(performance_results.loc['turbine_power']))\n",
    "print(turbine_pressure_ratio)\n",
    "performance_results\n",
    "\n",
    "# Calibrar o motor para potência 1282kW\n",
    "N2 = 1\n",
    "N2_delta = 0.0001\n",
    "turbine_power_target = 1282 #[kw]\n",
    "\n",
    "while(int(performance_results.loc['turbine_power']) > turbine_power_target):\n",
    "    N2 = N2 - N2_delta\n",
    "    turboprop = mf.TurboProp(values)\n",
    "    turboprop.set_n2(N2)\n",
    "    performance_results = turboprop.sumarise_results()\n",
    "\n",
    "print(int(performance_results.loc['turbine_power']))\n",
    "print(N2)\n",
    "performance_results\n",
    "print(\"T04: \",turboprop.sumarise().loc['t04'])\n"
   ]
  },
  {
   "cell_type": "markdown",
   "metadata": {},
   "source": []
  }
 ],
 "metadata": {
  "interpreter": {
   "hash": "0cba474e7825f64be150054d33f41c13189b23e3584ee774a895505ffe3f9592"
  },
  "kernelspec": {
   "display_name": "Python 3.10.4 64-bit",
   "language": "python",
   "name": "python3"
  },
  "language_info": {
   "name": "python",
   "version": "3.10.4"
  },
  "orig_nbformat": 4
 },
 "nbformat": 4,
 "nbformat_minor": 2
}
