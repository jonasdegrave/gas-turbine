{
 "cells": [
  {
   "cell_type": "markdown",
   "metadata": {},
   "source": [
    "# Propulsion Module Examples\n",
    "Solving the course examples of AC701."
   ]
  },
  {
   "cell_type": "markdown",
   "metadata": {},
   "source": [
    "## Example 2.1: TurboJet"
   ]
  },
  {
   "cell_type": "markdown",
   "metadata": {},
   "source": [
    "### Exercise Information\n",
    "\n",
    " Calculate the specific thrust and specific consumption (TSFC) for a turbojet engine operating at Mach 0.85 and at 12,200 m (Pa = 18.75kPa and Ta = 216.7 K). Use the data below for efficiencies and specific heat ratios.\n",
    "\n",
    "| Component  | Adiabatic Efficiency | Specific Heat Ratio |\n",
    "|------------|----------------------|---------------------|\n",
    "| diffuser   | 0,97                 | 1,40                |\n",
    "| compressor | 0,85                 | 1,37                |\n",
    "| combustion | 1,00                 | 1,35                |\n",
    "| turbine    | 0.90                 | 1,33                |\n",
    "| nozzle     | 0,98                 | 1,36                |\n",
    "\n",
    "Operating Parameters:\n",
    "\n",
    "| Pressure Ration in Compressor            | 30                |\n",
    "|------------------------------------------|-------------------|\n",
    "| Outlet temperature in combustion chamber | 1600 K            |\n",
    "| Lower Heating Value of the Fuel          | 45000 kJ/kg       |\n",
    "| Mean R                                   | 288,3 m^2/(s^2.K) |\n",
    "| specific heat in the combustion chamber  | 1,11 kJ/(kg.K)    |\n",
    "\n"
   ]
  },
  {
   "cell_type": "markdown",
   "metadata": {},
   "source": [
    "### Exercise Computation"
   ]
  },
  {
   "cell_type": "code",
   "execution_count": null,
   "metadata": {},
   "outputs": [],
   "source": []
  },
  {
   "cell_type": "markdown",
   "metadata": {},
   "source": [
    "## Example 2.2: TurboFan"
   ]
  },
  {
   "cell_type": "markdown",
   "metadata": {},
   "source": [
    "### Exercise Information\n",
    "\n",
    " Calculate the specific thrust and specific consumption (TSFC) for a turbofan engine operating at Mach 0.85 and at 12,200 m (Pa = 18.75kPa and Ta = 216.7 K). Use the data below for efficiencies and specific heat ratios.\n",
    "\n",
    "| Component          | Adiabatic Efficiency | Specific Heat Ratio |\n",
    "|--------------------|----------------------|---------------------|\n",
    "| intake             | 0,97                 | 1,40                |\n",
    "| fan                | 0,85                 | 1,40                |\n",
    "| compressor         | 0,85                 | 1,37                |\n",
    "| combustion         | 1,00                 | 1,35                |\n",
    "| compressor turbine | 0.90                 | 1,33                |\n",
    "| compressor fan     | 0.90                 | 1,33                |\n",
    "| Hot air nozzle     | 0,98                 | 1,36                |\n",
    "| Fan nozzle         | 0,98                 | 1,40                |\n",
    "\n",
    "Operating Parameters:\n",
    "\n",
    "| Outlet temperature in combustion chamber | 1600 K            |\n",
    "|------------------------------------------|-------------------|\n",
    "| Pressure Ration in Compressor            | 20                |\n",
    "| Pressure Ration in Fan                   | 1.5               |\n",
    "| Air passsage ratio                       | 5.0               |\n",
    "| Lower Heating Value of the Fuel          | 45000 kJ/kg       |\n",
    "| Mean R                                   | 288,3 m^2/(s^2.K) |\n",
    "| specific heat in the combustion chamber  | 1,11 kJ/(kg.K)    |\n",
    "\n"
   ]
  },
  {
   "cell_type": "markdown",
   "metadata": {},
   "source": [
    "### Exercise Computation"
   ]
  },
  {
   "cell_type": "code",
   "execution_count": null,
   "metadata": {},
   "outputs": [],
   "source": []
  },
  {
   "cell_type": "markdown",
   "metadata": {},
   "source": [
    "## Example 2.3: TurboFan - Baseline Project Computation"
   ]
  },
  {
   "cell_type": "markdown",
   "metadata": {},
   "source": [
    "### Exercise Information\n",
    "\n",
    "Operating Engine Parameters:\n",
    "\n",
    "| Baseline Operating Condition             |                   |\n",
    "|------------------------------------------|-------------------|\n",
    "| Mass Flux                                | 756 kg/s          |\n",
    "| Outlet temperature in combustion chamber | 1550 K            |\n",
    "| Pressure Ration in Compressor            | 17.2              |\n",
    "| Pressure Ration in Booster               | 1.00              |\n",
    "| Pressure Ration in Fan                   | 1.69              |\n",
    "| Air bypass ratio                         | 4.69              |\n",
    "| Pressure loss in combustion chamber      |  5 %              |\n",
    "\n",
    "Operating Condition:\n",
    "\n",
    "| Flight Operation Condition               |                   |\n",
    "|------------------------------------------|-------------------|\n",
    "| Flight  Mach                             | 0                 |\n",
    "| Atmospheric Pressure                     | 101.63 kPa        |\n",
    "| Atmospheric Temperature                  | 290 K             |\n",
    "| % of maximum compressor rotation         | 1.00              |\n",
    "\n",
    "\n",
    "Efficiency and specific heat ratio data:\n",
    "\n",
    "| Component          | Adiabatic Efficiency | Specific Heat Ratio |\n",
    "|--------------------|----------------------|---------------------|\n",
    "| intake             | 0,97                 | 1,40                |\n",
    "| fan                | 0,93                 | 1,40                |\n",
    "| compressor         | 0,90                 | 1,37                |\n",
    "| combustion         | 0,9995               | 1,35                |\n",
    "| compressor turbine | 0.95                 | 1,33                |\n",
    "| compressor fan     | 0.932                | 1,33                |\n",
    "| Hot air nozzle     | 0,98                 | 1,36                |\n",
    "| Fan nozzle         | 0,98                 | 1,40                |\n",
    "\n",
    "Thermodynamic Data:\n",
    "\n",
    "| Thermodynamic Data                       |                   |\n",
    "|------------------------------------------|-------------------|\n",
    "| Lower Heating Value of the Fuel          | 45000 kJ/kg       |\n",
    "| Mean R                                   | 288,3 m^2/(s^2.K) |\n",
    "| specific heat in the combustion chamber  | 1,11 kJ/(kg.K)    |\n",
    "\n"
   ]
  },
  {
   "cell_type": "markdown",
   "metadata": {},
   "source": [
    "### Exercise Computation"
   ]
  },
  {
   "cell_type": "code",
   "execution_count": null,
   "metadata": {},
   "outputs": [],
   "source": []
  },
  {
   "cell_type": "markdown",
   "metadata": {},
   "source": [
    "## Example 7.1: TurboProp - Calibrating Model"
   ]
  },
  {
   "cell_type": "markdown",
   "metadata": {},
   "source": [
    "### Exercise Information\n",
    "\n",
    "Taking the data for the PW127 engine at sea level and stationary: free turbine shaft power 2457 kW, compressor air flow 8.49 kg/s, compressor pressure ratio 15.77 and combustion chamber outlet temperature 1600K. Calibrate the engine in the performance simulation to obtain shaft power close to the reported by the manufacturer.\n",
    "\n",
    "Operating Engine Parameters:\n",
    "\n",
    "| Baseline Operating Condition             |                   |\n",
    "|------------------------------------------|-------------------|\n",
    "| Mass Flux                                | 8.49 kg/s         |\n",
    "| Outlet temperature in combustion chamber | 1600 K            |\n",
    "| Pressure Ration in Compressor            | 15.77             |\n",
    "\n",
    "\n",
    "Operating Condition:\n",
    "\n",
    "| Flight Operation Condition               |                   |\n",
    "|------------------------------------------|-------------------|\n",
    "| Flight  Mach                             | 0                 |\n",
    "| Atmospheric Pressure                     | 101.30 kPa        |\n",
    "| Atmospheric Temperature                  | 288.15 K          |\n",
    "| % of maximum compressor rotation         | 1.00              |\n",
    "\n",
    "\n",
    "Efficiency and specific heat ratio data:\n",
    "\n",
    "| Component          | Adiabatic Efficiency | Specific Heat Ratio |\n",
    "|--------------------|----------------------|---------------------|\n",
    "| intake             | 0,85                 | 1,40                |\n",
    "| compressor         | 0,75                 | 1,37                |\n",
    "| combustion         | 1,00                 | 1,35                |\n",
    "| compressor turbine | 0,90                 | 1,33                |\n",
    "| free turbine       | 0,90                 | 1,33                |\n",
    "| hot air nozzle     | 0,98                 | 1,36                |\n",
    "\n",
    "Thermodynamic Data:\n",
    "\n",
    "| Thermodynamic Data                       |                   |\n",
    "|------------------------------------------|-------------------|\n",
    "| Lower Heating Value of the Fuel          | 45000 kJ/kg       |\n",
    "| Mean R                                   | 288,3 m^2/(s^2.K) |\n",
    "| specific heat in the combustion chamber  | 1,11 kJ/(kg.K)    |\n",
    "\n",
    "Engine Parameters varied to achieve the manufacture perfomance:\n",
    "\n",
    "| Engine Parameters                        |                   |\n",
    "|------------------------------------------|-------------------|\n",
    "| Pressure Ratio in the Free Turbine       | 2.87              |\n",
    "| % of maximum rotation in the compressor  | 1.00              |\n",
    "\n",
    "\n",
    "\n",
    "\n",
    "\n",
    "\n"
   ]
  },
  {
   "cell_type": "markdown",
   "metadata": {},
   "source": [
    "### Part 1: Exercise computation\n",
    "Calibrating the model to the manufacturer report with pressure ratio in the turbine equal to 2.87 and % of maximum rotation equals to 1.00."
   ]
  },
  {
   "cell_type": "code",
   "execution_count": 3,
   "metadata": {},
   "outputs": [
    {
     "ename": "TypeError",
     "evalue": "first argument must be an iterable of pandas objects, you passed an object of type \"DataFrame\"",
     "output_type": "error",
     "traceback": [
      "\u001b[1;31m---------------------------------------------------------------------------\u001b[0m",
      "\u001b[1;31mTypeError\u001b[0m                                 Traceback (most recent call last)",
      "\u001b[1;32mc:\\Users\\mmmon\\git\\gas-turbine\\model_reference\\notebook_course_examples.ipynb Cell 17'\u001b[0m in \u001b[0;36m<cell line: 40>\u001b[1;34m()\u001b[0m\n\u001b[0;32m     <a href='vscode-notebook-cell:/c%3A/Users/mmmon/git/gas-turbine/model_reference/notebook_course_examples.ipynb#ch0000016?line=37'>38</a>\u001b[0m performance_results2 \u001b[39m=\u001b[39m turboprop\u001b[39m.\u001b[39msumarise_results()\n\u001b[0;32m     <a href='vscode-notebook-cell:/c%3A/Users/mmmon/git/gas-turbine/model_reference/notebook_course_examples.ipynb#ch0000016?line=38'>39</a>\u001b[0m thermodynamic_results2 \u001b[39m=\u001b[39m turboprop\u001b[39m.\u001b[39msumarise()\n\u001b[1;32m---> <a href='vscode-notebook-cell:/c%3A/Users/mmmon/git/gas-turbine/model_reference/notebook_course_examples.ipynb#ch0000016?line=39'>40</a>\u001b[0m pd\u001b[39m.\u001b[39;49mconcat(thermodynamic_results1, thermodynamic_results2)\n\u001b[0;32m     <a href='vscode-notebook-cell:/c%3A/Users/mmmon/git/gas-turbine/model_reference/notebook_course_examples.ipynb#ch0000016?line=40'>41</a>\u001b[0m pd\u001b[39m.\u001b[39mconcat(performance_results1, performance_results2)\n",
      "File \u001b[1;32mD:\\Program Files\\python\\lib\\site-packages\\pandas\\core\\reshape\\concat.py:285\u001b[0m, in \u001b[0;36mconcat\u001b[1;34m(objs, axis, join, ignore_index, keys, levels, names, verify_integrity, sort, copy)\u001b[0m\n\u001b[0;32m     <a href='file:///d%3A/Program%20Files/python/lib/site-packages/pandas/core/reshape/concat.py?line=81'>82</a>\u001b[0m \u001b[39mdef\u001b[39;00m \u001b[39mconcat\u001b[39m(\n\u001b[0;32m     <a href='file:///d%3A/Program%20Files/python/lib/site-packages/pandas/core/reshape/concat.py?line=82'>83</a>\u001b[0m     objs: Union[Iterable[\u001b[39m\"\u001b[39m\u001b[39mNDFrame\u001b[39m\u001b[39m\"\u001b[39m], Mapping[Label, \u001b[39m\"\u001b[39m\u001b[39mNDFrame\u001b[39m\u001b[39m\"\u001b[39m]],\n\u001b[0;32m     <a href='file:///d%3A/Program%20Files/python/lib/site-packages/pandas/core/reshape/concat.py?line=83'>84</a>\u001b[0m     axis\u001b[39m=\u001b[39m\u001b[39m0\u001b[39m,\n\u001b[1;32m   (...)\u001b[0m\n\u001b[0;32m     <a href='file:///d%3A/Program%20Files/python/lib/site-packages/pandas/core/reshape/concat.py?line=91'>92</a>\u001b[0m     copy: \u001b[39mbool\u001b[39m \u001b[39m=\u001b[39m \u001b[39mTrue\u001b[39;00m,\n\u001b[0;32m     <a href='file:///d%3A/Program%20Files/python/lib/site-packages/pandas/core/reshape/concat.py?line=92'>93</a>\u001b[0m ) \u001b[39m-\u001b[39m\u001b[39m>\u001b[39m FrameOrSeriesUnion:\n\u001b[0;32m     <a href='file:///d%3A/Program%20Files/python/lib/site-packages/pandas/core/reshape/concat.py?line=93'>94</a>\u001b[0m     \u001b[39m\"\"\"\u001b[39;00m\n\u001b[0;32m     <a href='file:///d%3A/Program%20Files/python/lib/site-packages/pandas/core/reshape/concat.py?line=94'>95</a>\u001b[0m \u001b[39m    Concatenate pandas objects along a particular axis with optional set logic\u001b[39;00m\n\u001b[0;32m     <a href='file:///d%3A/Program%20Files/python/lib/site-packages/pandas/core/reshape/concat.py?line=95'>96</a>\u001b[0m \u001b[39m    along the other axes.\u001b[39;00m\n\u001b[1;32m   (...)\u001b[0m\n\u001b[0;32m    <a href='file:///d%3A/Program%20Files/python/lib/site-packages/pandas/core/reshape/concat.py?line=282'>283</a>\u001b[0m \u001b[39m    ValueError: Indexes have overlapping values: ['a']\u001b[39;00m\n\u001b[0;32m    <a href='file:///d%3A/Program%20Files/python/lib/site-packages/pandas/core/reshape/concat.py?line=283'>284</a>\u001b[0m \u001b[39m    \"\"\"\u001b[39;00m\n\u001b[1;32m--> <a href='file:///d%3A/Program%20Files/python/lib/site-packages/pandas/core/reshape/concat.py?line=284'>285</a>\u001b[0m     op \u001b[39m=\u001b[39m _Concatenator(\n\u001b[0;32m    <a href='file:///d%3A/Program%20Files/python/lib/site-packages/pandas/core/reshape/concat.py?line=285'>286</a>\u001b[0m         objs,\n\u001b[0;32m    <a href='file:///d%3A/Program%20Files/python/lib/site-packages/pandas/core/reshape/concat.py?line=286'>287</a>\u001b[0m         axis\u001b[39m=\u001b[39;49maxis,\n\u001b[0;32m    <a href='file:///d%3A/Program%20Files/python/lib/site-packages/pandas/core/reshape/concat.py?line=287'>288</a>\u001b[0m         ignore_index\u001b[39m=\u001b[39;49mignore_index,\n\u001b[0;32m    <a href='file:///d%3A/Program%20Files/python/lib/site-packages/pandas/core/reshape/concat.py?line=288'>289</a>\u001b[0m         join\u001b[39m=\u001b[39;49mjoin,\n\u001b[0;32m    <a href='file:///d%3A/Program%20Files/python/lib/site-packages/pandas/core/reshape/concat.py?line=289'>290</a>\u001b[0m         keys\u001b[39m=\u001b[39;49mkeys,\n\u001b[0;32m    <a href='file:///d%3A/Program%20Files/python/lib/site-packages/pandas/core/reshape/concat.py?line=290'>291</a>\u001b[0m         levels\u001b[39m=\u001b[39;49mlevels,\n\u001b[0;32m    <a href='file:///d%3A/Program%20Files/python/lib/site-packages/pandas/core/reshape/concat.py?line=291'>292</a>\u001b[0m         names\u001b[39m=\u001b[39;49mnames,\n\u001b[0;32m    <a href='file:///d%3A/Program%20Files/python/lib/site-packages/pandas/core/reshape/concat.py?line=292'>293</a>\u001b[0m         verify_integrity\u001b[39m=\u001b[39;49mverify_integrity,\n\u001b[0;32m    <a href='file:///d%3A/Program%20Files/python/lib/site-packages/pandas/core/reshape/concat.py?line=293'>294</a>\u001b[0m         copy\u001b[39m=\u001b[39;49mcopy,\n\u001b[0;32m    <a href='file:///d%3A/Program%20Files/python/lib/site-packages/pandas/core/reshape/concat.py?line=294'>295</a>\u001b[0m         sort\u001b[39m=\u001b[39;49msort,\n\u001b[0;32m    <a href='file:///d%3A/Program%20Files/python/lib/site-packages/pandas/core/reshape/concat.py?line=295'>296</a>\u001b[0m     )\n\u001b[0;32m    <a href='file:///d%3A/Program%20Files/python/lib/site-packages/pandas/core/reshape/concat.py?line=297'>298</a>\u001b[0m     \u001b[39mreturn\u001b[39;00m op\u001b[39m.\u001b[39mget_result()\n",
      "File \u001b[1;32mD:\\Program Files\\python\\lib\\site-packages\\pandas\\core\\reshape\\concat.py:320\u001b[0m, in \u001b[0;36m_Concatenator.__init__\u001b[1;34m(self, objs, axis, join, keys, levels, names, ignore_index, verify_integrity, copy, sort)\u001b[0m\n\u001b[0;32m    <a href='file:///d%3A/Program%20Files/python/lib/site-packages/pandas/core/reshape/concat.py?line=305'>306</a>\u001b[0m \u001b[39mdef\u001b[39;00m \u001b[39m__init__\u001b[39m(\n\u001b[0;32m    <a href='file:///d%3A/Program%20Files/python/lib/site-packages/pandas/core/reshape/concat.py?line=306'>307</a>\u001b[0m     \u001b[39mself\u001b[39m,\n\u001b[0;32m    <a href='file:///d%3A/Program%20Files/python/lib/site-packages/pandas/core/reshape/concat.py?line=307'>308</a>\u001b[0m     objs: Union[Iterable[\u001b[39m\"\u001b[39m\u001b[39mNDFrame\u001b[39m\u001b[39m\"\u001b[39m], Mapping[Label, \u001b[39m\"\u001b[39m\u001b[39mNDFrame\u001b[39m\u001b[39m\"\u001b[39m]],\n\u001b[1;32m   (...)\u001b[0m\n\u001b[0;32m    <a href='file:///d%3A/Program%20Files/python/lib/site-packages/pandas/core/reshape/concat.py?line=316'>317</a>\u001b[0m     sort\u001b[39m=\u001b[39m\u001b[39mFalse\u001b[39;00m,\n\u001b[0;32m    <a href='file:///d%3A/Program%20Files/python/lib/site-packages/pandas/core/reshape/concat.py?line=317'>318</a>\u001b[0m ):\n\u001b[0;32m    <a href='file:///d%3A/Program%20Files/python/lib/site-packages/pandas/core/reshape/concat.py?line=318'>319</a>\u001b[0m     \u001b[39mif\u001b[39;00m \u001b[39misinstance\u001b[39m(objs, (ABCSeries, ABCDataFrame, \u001b[39mstr\u001b[39m)):\n\u001b[1;32m--> <a href='file:///d%3A/Program%20Files/python/lib/site-packages/pandas/core/reshape/concat.py?line=319'>320</a>\u001b[0m         \u001b[39mraise\u001b[39;00m \u001b[39mTypeError\u001b[39;00m(\n\u001b[0;32m    <a href='file:///d%3A/Program%20Files/python/lib/site-packages/pandas/core/reshape/concat.py?line=320'>321</a>\u001b[0m             \u001b[39m\"\u001b[39m\u001b[39mfirst argument must be an iterable of pandas \u001b[39m\u001b[39m\"\u001b[39m\n\u001b[0;32m    <a href='file:///d%3A/Program%20Files/python/lib/site-packages/pandas/core/reshape/concat.py?line=321'>322</a>\u001b[0m             \u001b[39mf\u001b[39m\u001b[39m'\u001b[39m\u001b[39mobjects, you passed an object of type \u001b[39m\u001b[39m\"\u001b[39m\u001b[39m{\u001b[39;00m\u001b[39mtype\u001b[39m(objs)\u001b[39m.\u001b[39m\u001b[39m__name__\u001b[39m\u001b[39m}\u001b[39;00m\u001b[39m\"\u001b[39m\u001b[39m'\u001b[39m\n\u001b[0;32m    <a href='file:///d%3A/Program%20Files/python/lib/site-packages/pandas/core/reshape/concat.py?line=322'>323</a>\u001b[0m         )\n\u001b[0;32m    <a href='file:///d%3A/Program%20Files/python/lib/site-packages/pandas/core/reshape/concat.py?line=324'>325</a>\u001b[0m     \u001b[39mif\u001b[39;00m join \u001b[39m==\u001b[39m \u001b[39m\"\u001b[39m\u001b[39mouter\u001b[39m\u001b[39m\"\u001b[39m:\n\u001b[0;32m    <a href='file:///d%3A/Program%20Files/python/lib/site-packages/pandas/core/reshape/concat.py?line=325'>326</a>\u001b[0m         \u001b[39mself\u001b[39m\u001b[39m.\u001b[39mintersect \u001b[39m=\u001b[39m \u001b[39mFalse\u001b[39;00m\n",
      "\u001b[1;31mTypeError\u001b[0m: first argument must be an iterable of pandas objects, you passed an object of type \"DataFrame\""
     ]
    }
   ],
   "source": [
    "from turboprop import TurboProp\n",
    "import pandas as pd\n",
    "\n",
    "values = {\n",
    "    'mass_flow': 8.49,\n",
    "    't04': 1600,\n",
    "    'prc': 15.77,\n",
    "    'u_in': 0,\n",
    "    'ta': 288.15,\n",
    "    'pa': 101.30,\n",
    "    'n_d': 0.85,\n",
    "    'gamma_d': 1.4,\n",
    "    'n_c': 0.75,\n",
    "    'gamma_c': 1.37,\n",
    "    'n_b': 1,\n",
    "    'gamma_b': 1.35,\n",
    "    'n_t': 0.9,\n",
    "    'gamma_t': 1.33,\n",
    "    'n_tl': 0.9,\n",
    "    'gamma_tl': 1.33,\n",
    "    'n_n': 0.98,\n",
    "    'gamma_n': 1.36,\n",
    "    'pc_fuel': 45000,\n",
    "    'cp_fuel': 1.110,\n",
    "    'cp_tl': 1.160,\n",
    "    'r': 288.3,\n",
    "    'pr_tl': 2.87,\n",
    "    'gearbox_power_ratio': 0.98,\n",
    "    'propeller_efficiency': 0.85,\n",
    "    }\n",
    "\n",
    "turboprop = TurboProp(values)\n",
    "performance_results1 = turboprop.sumarise_results()\n",
    "thermodynamic_results1 = turboprop.sumarise()\n",
    "\n",
    "\n",
    "turboprop.set_n2(0.941)\n",
    "performance_results2 = turboprop.sumarise_results()\n",
    "thermodynamic_results2 = turboprop.sumarise()\n",
    "pd.concat([thermodynamic_results1, thermodynamic_results2], axis=1)\n",
    "pd.concat([performance_results1, performance_results2], axis=1)\n",
    "\n"
   ]
  },
  {
   "cell_type": "markdown",
   "metadata": {},
   "source": [
    "### Part 2: Comparing to Manufacturer Report\n",
    "\n",
    "The thermodynamic power of the turbine is superior to the limit power of the gearbox.\n",
    "Thus, the solution is to reduce the compressor rotation.\n",
    "\n",
    "Engine Parameters varied to achieve the manufacture perfomance:\n",
    "\n",
    "| Engine Parameters                        |                   |\n",
    "|------------------------------------------|-------------------|\n",
    "| Pressure Ratio in the Free Turbine       | 2.87              |\n",
    "| % of maximum rotation in the compressor  | 0.941             |"
   ]
  },
  {
   "cell_type": "code",
   "execution_count": null,
   "metadata": {},
   "outputs": [],
   "source": []
  },
  {
   "cell_type": "markdown",
   "metadata": {},
   "source": [
    "## Example 7.2: TurboProp - Flight Condition Simulation"
   ]
  },
  {
   "cell_type": "markdown",
   "metadata": {},
   "source": [
    "### Exercise Information\n",
    "\n",
    "Now simulate the engine operating at 7,000 m and Mach 0.45, keeping other input parameters constant compared to Example 8.1. As operating strategy consider N1 = 100% and N2 = 85%.\n",
    "\n",
    "Operating Engine Parameters:\n",
    "\n",
    "| Baseline Operating Condition             |                   |\n",
    "|------------------------------------------|-------------------|\n",
    "| Mass Flux                                | 8.49 kg/s         |\n",
    "| Outlet temperature in combustion chamber | 1600 K            |\n",
    "| Pressure Ration in Compressor            | 15.77             |\n",
    "\n",
    "\n",
    "Operating Condition:\n",
    "\n",
    "| Flight Operation Condition               |                   |\n",
    "|------------------------------------------|-------------------|\n",
    "| Flight  Mach                             | 0.45              |\n",
    "| Atmospheric Pressure                     | 41.00 kPa         |\n",
    "| Atmospheric Temperature                  | 246.55 K          |\n",
    "| % of maximum compressor rotation         | 0.85              |\n",
    "\n",
    "\n",
    "Efficiency and specific heat ratio data:\n",
    "\n",
    "| Component          | Adiabatic Efficiency | Specific Heat Ratio |\n",
    "|--------------------|----------------------|---------------------|\n",
    "| intake             | 0,85                 | 1,40                |\n",
    "| compressor         | 0,75                 | 1,37                |\n",
    "| combustion         | 1,00                 | 1,35                |\n",
    "| compressor turbine | 0,90                 | 1,33                |\n",
    "| free turbine       | 0,90                 | 1,33                |\n",
    "| hot air nozzle     | 0,98                 | 1,36                |\n",
    "\n",
    "Thermodynamic Data:\n",
    "\n",
    "| Thermodynamic Data                       |                   |\n",
    "|------------------------------------------|-------------------|\n",
    "| Lower Heating Value of the Fuel          | 45000 kJ/kg       |\n",
    "| Mean R                                   | 288,3 m^2/(s^2.K) |\n",
    "| specific heat in the combustion chamber  | 1,11 kJ/(kg.K)    |\n",
    "\n",
    "\n",
    "\n",
    "\n",
    "\n",
    "\n"
   ]
  },
  {
   "cell_type": "markdown",
   "metadata": {},
   "source": [
    "### Part 1: Exercise computation\n",
    "Calibrating the model to the manufacturer report with pressure ratio in the turbine equal to 2.87 and % of maximum rotation equals to 1.00."
   ]
  },
  {
   "cell_type": "code",
   "execution_count": null,
   "metadata": {},
   "outputs": [],
   "source": []
  },
  {
   "cell_type": "markdown",
   "metadata": {},
   "source": [
    "## Example 7.3: TurboFan - Comparing to TurboProp 7.2"
   ]
  },
  {
   "cell_type": "markdown",
   "metadata": {},
   "source": [
    "### Exercise Information\n",
    "\n",
    "Simulate a turbofan engine to fulfill the same mission\n",
    "of the turbofan engine in example 8.2, i.e. generate thrust of 4.26 kN at 7,000 m and flight Mach 0.45. To make the simulations we took as reference data from the PW545B engine, with a total pressure ratio of 12.5 and a passage ratio of 4.2 in the take-off condition at sea level. Some assumptions were made for the simulation as will be discussed in the following.\n",
    "\n",
    "Operating Engine Parameters:\n",
    "\n",
    "| Baseline Operating Condition             |                   |\n",
    "|------------------------------------------|-------------------|\n",
    "| Outlet temperature in combustion chamber | 1550 K            |\n",
    "| Pressure Ration in Compressor            | 8.33              |\n",
    "| Pressure Ration in Booster               | 1.00              |\n",
    "| Pressure Ration in Fan                   | 1.50              |\n",
    "| Air bypass ratio                         | 4.2               |\n",
    "| Pressure loss in combustion chamber      |  0 %              |\n",
    "\n",
    "Operating Condition:\n",
    "\n",
    "| Flight Operation Condition               |                   |\n",
    "|------------------------------------------|-------------------|\n",
    "| Flight  Mach                             | 0.45              |\n",
    "| Atmospheric Pressure                     | 41.00 kPa         |\n",
    "| Atmospheric Temperature                  | 246.55 K          |\n",
    "| % of maximum compressor rotation         | 0.85              |\n",
    "\n",
    "\n",
    "Efficiency and specific heat ratio data:\n",
    "\n",
    "| Component          | Adiabatic Efficiency | Specific Heat Ratio |\n",
    "|--------------------|----------------------|---------------------|\n",
    "| intake             | 0,97                 | 1,40                |\n",
    "| fan                | 0,90                 | 1,40                |\n",
    "| compressor         | 0,75                 | 1,37                |\n",
    "| combustion         | 0,9995               | 1,35                |\n",
    "| compressor turbine | 0.90                 | 1,33                |\n",
    "| compressor fan     | 0.90                 | 1,33                |\n",
    "| Hot air nozzle     | 0,98                 | 1,36                |\n",
    "| Fan nozzle         | 0,98                 | 1,40                |\n",
    "\n",
    "Thermodynamic Data:\n",
    "\n",
    "| Thermodynamic Data                       |                   |\n",
    "|------------------------------------------|-------------------|\n",
    "| Lower Heating Value of the Fuel          | 45000 kJ/kg       |\n",
    "| Mean R                                   | 288,3 m^2/(s^2.K) |\n",
    "| specific heat in the combustion chamber  | 1,11 kJ/(kg.K)    |\n",
    "\n",
    "Engine Parameters varied to achieve the TurboProp example 7.2  perfomance:\n",
    "\n",
    "| Engine Parameters                        |                   |\n",
    "|------------------------------------------|-------------------|\n",
    "| Mass Flux                                | 88.42 kg/s        |\n",
    "\n"
   ]
  },
  {
   "cell_type": "markdown",
   "metadata": {},
   "source": [
    "### Exercise Computation"
   ]
  },
  {
   "cell_type": "code",
   "execution_count": null,
   "metadata": {},
   "outputs": [],
   "source": []
  }
 ],
 "metadata": {
  "interpreter": {
   "hash": "4832126f7d4047808203b0af11e9afdb260dabb5323c882ffc138c3bbac44c58"
  },
  "kernelspec": {
   "display_name": "Python 3",
   "language": "python",
   "name": "python3"
  },
  "language_info": {
   "codemirror_mode": {
    "name": "ipython",
    "version": 3
   },
   "file_extension": ".py",
   "mimetype": "text/x-python",
   "name": "python",
   "nbconvert_exporter": "python",
   "pygments_lexer": "ipython3",
   "version": "3.9.1"
  }
 },
 "nbformat": 4,
 "nbformat_minor": 2
}
