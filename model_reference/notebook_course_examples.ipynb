{
 "cells": [
  {
   "cell_type": "markdown",
   "metadata": {},
   "source": [
    "# Propulsion Module Examples\n",
    "Solving the course examples of AC701."
   ]
  },
  {
   "cell_type": "markdown",
   "metadata": {},
   "source": [
    "## Example 2.1: TurboJet"
   ]
  },
  {
   "cell_type": "markdown",
   "metadata": {},
   "source": [
    "### Exercise Information\n",
    "\n",
    " Calculate the specific thrust and specific consumption (TSFC) for a turbojet engine operating at Mach 0.85 and at 12,200 m (Pa = 18.75kPa and Ta = 216.7 K). Use the data below for efficiencies and specific heat ratios.\n",
    "\n",
    "| Component  | Adiabatic Efficiency | Specific Heat Ratio |\n",
    "|------------|----------------------|---------------------|\n",
    "| diffuser   | 0,97                 | 1,40                |\n",
    "| compressor | 0,85                 | 1,37                |\n",
    "| combustion | 1,00                 | 1,35                |\n",
    "| turbine    | 0.90                 | 1,33                |\n",
    "| nozzle     | 0,98                 | 1,36                |\n",
    "\n",
    "Operating Parameters:\n",
    "\n",
    "| Pressure Ration in Compressor            | 30                |\n",
    "|------------------------------------------|-------------------|\n",
    "| Outlet temperature in combustion chamber | 1600 K            |\n",
    "| Lower Heating Value of the Fuel          | 45000 kJ/kg       |\n",
    "| Mean R                                   | 288,3 m^2/(s^2.K) |\n",
    "| specific heat in the combustion chamber  | 1,11 kJ/(kg.K)    |\n",
    "\n"
   ]
  },
  {
   "cell_type": "markdown",
   "metadata": {},
   "source": [
    "### Exercise Computation"
   ]
  },
  {
   "cell_type": "code",
   "execution_count": null,
   "metadata": {},
   "outputs": [],
   "source": []
  },
  {
   "cell_type": "markdown",
   "metadata": {},
   "source": [
    "## Example 2.2: TurboFan"
   ]
  },
  {
   "cell_type": "markdown",
   "metadata": {},
   "source": [
    "### Exercise Information\n",
    "\n",
    " Calculate the specific thrust and specific consumption (TSFC) for a turbofan engine operating at Mach 0.85 and at 12,200 m (Pa = 18.75kPa and Ta = 216.7 K). Use the data below for efficiencies and specific heat ratios.\n",
    "\n",
    "| Component          | Adiabatic Efficiency | Specific Heat Ratio |\n",
    "|--------------------|----------------------|---------------------|\n",
    "| intake             | 0,97                 | 1,40                |\n",
    "| fan                | 0,85                 | 1,40                |\n",
    "| compressor         | 0,85                 | 1,37                |\n",
    "| combustion         | 1,00                 | 1,35                |\n",
    "| compressor turbine | 0.90                 | 1,33                |\n",
    "| compressor fan     | 0.90                 | 1,33                |\n",
    "| Hot air nozzle     | 0,98                 | 1,36                |\n",
    "| Fan nozzle         | 0,98                 | 1,40                |\n",
    "\n",
    "Operating Parameters:\n",
    "\n",
    "| Outlet temperature in combustion chamber | 1600 K            |\n",
    "|------------------------------------------|-------------------|\n",
    "| Pressure Ration in Compressor            | 20                |\n",
    "| Pressure Ration in Fan                   | 1.5               |\n",
    "| Air passsage ratio                       | 5.0               |\n",
    "| Lower Heating Value of the Fuel          | 45000 kJ/kg       |\n",
    "| Mean R                                   | 288,3 m^2/(s^2.K) |\n",
    "| specific heat in the combustion chamber  | 1,11 kJ/(kg.K)    |\n",
    "\n"
   ]
  },
  {
   "cell_type": "markdown",
   "metadata": {},
   "source": [
    "### Exercise Computation"
   ]
  },
  {
   "cell_type": "code",
   "execution_count": null,
   "metadata": {},
   "outputs": [],
   "source": []
  },
  {
   "cell_type": "markdown",
   "metadata": {},
   "source": [
    "## Example 2.3: TurboFan - Baseline Project Computation"
   ]
  },
  {
   "cell_type": "markdown",
   "metadata": {},
   "source": [
    "### Exercise Information\n",
    "\n",
    "Operating Engine Parameters:\n",
    "\n",
    "| Baseline Operating Condition             |                   |\n",
    "|------------------------------------------|-------------------|\n",
    "| Mass Flux                                | 756 kg/s          |\n",
    "| Outlet temperature in combustion chamber | 1550 K            |\n",
    "| Pressure Ration in Compressor            | 17.2              |\n",
    "| Pressure Ration in Booster               | 1.00              |\n",
    "| Pressure Ration in Fan                   | 1.69              |\n",
    "| Air bypass ratio                         | 4.69              |\n",
    "| Pressure loss in combustion chamber      |  5 %              |\n",
    "\n",
    "Operating Condition:\n",
    "\n",
    "| Flight Operation Condition               |                   |\n",
    "|------------------------------------------|-------------------|\n",
    "| Flight  Mach                             | 0                 |\n",
    "| Atmospheric Pressure                     | 101.63 kPa        |\n",
    "| Atmospheric Temperature                  | 290 K             |\n",
    "| % of maximum compressor rotation         | 1.00              |\n",
    "\n",
    "\n",
    "Efficiency and specific heat ratio data:\n",
    "\n",
    "| Component          | Adiabatic Efficiency | Specific Heat Ratio |\n",
    "|--------------------|----------------------|---------------------|\n",
    "| intake             | 0,97                 | 1,40                |\n",
    "| fan                | 0,93                 | 1,40                |\n",
    "| compressor         | 0,90                 | 1,37                |\n",
    "| combustion         | 0,9995               | 1,35                |\n",
    "| compressor turbine | 0.95                 | 1,33                |\n",
    "| compressor fan     | 0.932                | 1,33                |\n",
    "| Hot air nozzle     | 0,98                 | 1,36                |\n",
    "| Fan nozzle         | 0,98                 | 1,40                |\n",
    "\n",
    "Thermodynamic Data:\n",
    "\n",
    "| Thermodynamic Data                       |                   |\n",
    "|------------------------------------------|-------------------|\n",
    "| Lower Heating Value of the Fuel          | 45000 kJ/kg       |\n",
    "| Mean R                                   | 288,3 m^2/(s^2.K) |\n",
    "| specific heat in the combustion chamber  | 1,11 kJ/(kg.K)    |\n",
    "\n"
   ]
  },
  {
   "cell_type": "markdown",
   "metadata": {},
   "source": [
    "### Exercise Computation"
   ]
  },
  {
   "cell_type": "code",
   "execution_count": null,
   "metadata": {},
   "outputs": [],
   "source": []
  },
  {
   "cell_type": "markdown",
   "metadata": {},
   "source": [
    "## Example 7.1: TurboProp - Calibrating Model"
   ]
  },
  {
   "cell_type": "markdown",
   "metadata": {},
   "source": [
    "### Exercise Information\n",
    "\n",
    "Taking the data for the PW127 engine at sea level and stationary: free turbine shaft power 2457 kW, compressor air flow 8.49 kg/s, compressor pressure ratio 15.77 and combustion chamber outlet temperature 1600K. Calibrate the engine in the performance simulation to obtain shaft power close to the reported by the manufacturer.\n",
    "\n",
    "Operating Engine Parameters:\n",
    "\n",
    "| Baseline Operating Condition             |                   |\n",
    "|------------------------------------------|-------------------|\n",
    "| Mass Flux                                | 8.49 kg/s         |\n",
    "| Outlet temperature in combustion chamber | 1600 K            |\n",
    "| Pressure Ration in Compressor            | 15.77             |\n",
    "\n",
    "\n",
    "Operating Condition:\n",
    "\n",
    "| Flight Operation Condition               |                   |\n",
    "|------------------------------------------|-------------------|\n",
    "| Flight  Mach                             | 0                 |\n",
    "| Atmospheric Pressure                     | 101.30 kPa        |\n",
    "| Atmospheric Temperature                  | 288.15 K          |\n",
    "| % of maximum compressor rotation         | 1.00              |\n",
    "\n",
    "\n",
    "Efficiency and specific heat ratio data:\n",
    "\n",
    "| Component          | Adiabatic Efficiency | Specific Heat Ratio |\n",
    "|--------------------|----------------------|---------------------|\n",
    "| intake             | 0,85                 | 1,40                |\n",
    "| compressor         | 0,75                 | 1,37                |\n",
    "| combustion         | 1,00                 | 1,35                |\n",
    "| compressor turbine | 0,90                 | 1,33                |\n",
    "| free turbine       | 0,90                 | 1,33                |\n",
    "| hot air nozzle     | 0,98                 | 1,36                |\n",
    "\n",
    "Thermodynamic Data:\n",
    "\n",
    "| Thermodynamic Data                       |                   |\n",
    "|------------------------------------------|-------------------|\n",
    "| Lower Heating Value of the Fuel          | 45000 kJ/kg       |\n",
    "| Mean R                                   | 288,3 m^2/(s^2.K) |\n",
    "| specific heat in the combustion chamber  | 1,11 kJ/(kg.K)    |\n",
    "\n",
    "Engine Parameters varied to achieve the manufacture perfomance:\n",
    "\n",
    "| Engine Parameters                        |                   |\n",
    "|------------------------------------------|-------------------|\n",
    "| Pressure Ratio in the Free Turbine       | 2.87              |\n",
    "| % of maximum rotation in the compressor  | 1.00              |\n",
    "\n",
    "\n",
    "\n",
    "\n",
    "\n",
    "\n"
   ]
  },
  {
   "cell_type": "markdown",
   "metadata": {},
   "source": [
    "### Part 1: Exercise computation\n",
    "Calibrating the model to the manufacturer report with pressure ratio in the turbine equal to 2.87 and % of maximum rotation equals to 1.00."
   ]
  },
  {
   "cell_type": "code",
   "execution_count": null,
   "metadata": {},
   "outputs": [],
   "source": []
  },
  {
   "cell_type": "markdown",
   "metadata": {},
   "source": [
    "### Part 2: Comparing to Manufacturer Report\n",
    "\n",
    "The thermodynamic power of the turbine is superior to the limit power of the gearbox.\n",
    "Thus, the solution is to reduce the compressor rotation.\n",
    "\n",
    "Engine Parameters varied to achieve the manufacture perfomance:\n",
    "\n",
    "| Engine Parameters                        |                   |\n",
    "|------------------------------------------|-------------------|\n",
    "| Pressure Ratio in the Free Turbine       | 2.87              |\n",
    "| % of maximum rotation in the compressor  | 0.941             |"
   ]
  },
  {
   "cell_type": "code",
   "execution_count": null,
   "metadata": {},
   "outputs": [],
   "source": []
  },
  {
   "cell_type": "markdown",
   "metadata": {},
   "source": [
    "## Example 7.2: TurboProp - Flight Condition Simulation"
   ]
  },
  {
   "cell_type": "markdown",
   "metadata": {},
   "source": [
    "### Exercise Information\n",
    "\n",
    "Now simulate the engine operating at 7,000 m and Mach 0.45, keeping other input parameters constant compared to Example 8.1. As operating strategy consider N1 = 100% and N2 = 85%.\n",
    "\n",
    "Operating Engine Parameters:\n",
    "\n",
    "| Baseline Operating Condition             |                   |\n",
    "|------------------------------------------|-------------------|\n",
    "| Mass Flux                                | 8.49 kg/s         |\n",
    "| Outlet temperature in combustion chamber | 1600 K            |\n",
    "| Pressure Ration in Compressor            | 15.77             |\n",
    "\n",
    "\n",
    "Operating Condition:\n",
    "\n",
    "| Flight Operation Condition               |                   |\n",
    "|------------------------------------------|-------------------|\n",
    "| Flight  Mach                             | 0.45              |\n",
    "| Atmospheric Pressure                     | 41.00 kPa         |\n",
    "| Atmospheric Temperature                  | 246.55 K          |\n",
    "| % of maximum compressor rotation         | 0.85              |\n",
    "\n",
    "\n",
    "Efficiency and specific heat ratio data:\n",
    "\n",
    "| Component          | Adiabatic Efficiency | Specific Heat Ratio |\n",
    "|--------------------|----------------------|---------------------|\n",
    "| intake             | 0,85                 | 1,40                |\n",
    "| compressor         | 0,75                 | 1,37                |\n",
    "| combustion         | 1,00                 | 1,35                |\n",
    "| compressor turbine | 0,90                 | 1,33                |\n",
    "| free turbine       | 0,90                 | 1,33                |\n",
    "| hot air nozzle     | 0,98                 | 1,36                |\n",
    "\n",
    "Thermodynamic Data:\n",
    "\n",
    "| Thermodynamic Data                       |                   |\n",
    "|------------------------------------------|-------------------|\n",
    "| Lower Heating Value of the Fuel          | 45000 kJ/kg       |\n",
    "| Mean R                                   | 288,3 m^2/(s^2.K) |\n",
    "| specific heat in the combustion chamber  | 1,11 kJ/(kg.K)    |\n",
    "\n",
    "\n",
    "\n",
    "\n",
    "\n",
    "\n"
   ]
  },
  {
   "cell_type": "markdown",
   "metadata": {},
   "source": [
    "### Part 1: Exercise computation\n",
    "Calibrating the model to the manufacturer report with pressure ratio in the turbine equal to 2.87 and % of maximum rotation equals to 1.00."
   ]
  },
  {
   "cell_type": "code",
   "execution_count": null,
   "metadata": {},
   "outputs": [],
   "source": []
  },
  {
   "cell_type": "markdown",
   "metadata": {},
   "source": [
    "## Example 7.3: TurboFan - Comparing to TurboProp 7.2"
   ]
  },
  {
   "cell_type": "markdown",
   "metadata": {},
   "source": [
    "### Exercise Information\n",
    "\n",
    "Simulate a turbofan engine to fulfill the same mission\n",
    "of the turbofan engine in example 8.2, i.e. generate thrust of 4.26 kN at 7,000 m and flight Mach 0.45. To make the simulations we took as reference data from the PW545B engine, with a total pressure ratio of 12.5 and a passage ratio of 4.2 in the take-off condition at sea level. Some assumptions were made for the simulation as will be discussed in the following.\n",
    "\n",
    "Operating Engine Parameters:\n",
    "\n",
    "| Baseline Operating Condition             |                   |\n",
    "|------------------------------------------|-------------------|\n",
    "| Outlet temperature in combustion chamber | 1550 K            |\n",
    "| Pressure Ration in Compressor            | 8.33              |\n",
    "| Pressure Ration in Booster               | 1.00              |\n",
    "| Pressure Ration in Fan                   | 1.50              |\n",
    "| Air bypass ratio                         | 4.2               |\n",
    "| Pressure loss in combustion chamber      |  0 %              |\n",
    "\n",
    "Operating Condition:\n",
    "\n",
    "| Flight Operation Condition               |                   |\n",
    "|------------------------------------------|-------------------|\n",
    "| Flight  Mach                             | 0.45              |\n",
    "| Atmospheric Pressure                     | 41.00 kPa         |\n",
    "| Atmospheric Temperature                  | 246.55 K          |\n",
    "| % of maximum compressor rotation         | 0.85              |\n",
    "\n",
    "\n",
    "Efficiency and specific heat ratio data:\n",
    "\n",
    "| Component          | Adiabatic Efficiency | Specific Heat Ratio |\n",
    "|--------------------|----------------------|---------------------|\n",
    "| intake             | 0,97                 | 1,40                |\n",
    "| fan                | 0,90                 | 1,40                |\n",
    "| compressor         | 0,75                 | 1,37                |\n",
    "| combustion         | 0,9995               | 1,35                |\n",
    "| compressor turbine | 0.90                 | 1,33                |\n",
    "| compressor fan     | 0.90                 | 1,33                |\n",
    "| Hot air nozzle     | 0,98                 | 1,36                |\n",
    "| Fan nozzle         | 0,98                 | 1,40                |\n",
    "\n",
    "Thermodynamic Data:\n",
    "\n",
    "| Thermodynamic Data                       |                   |\n",
    "|------------------------------------------|-------------------|\n",
    "| Lower Heating Value of the Fuel          | 45000 kJ/kg       |\n",
    "| Mean R                                   | 288,3 m^2/(s^2.K) |\n",
    "| specific heat in the combustion chamber  | 1,11 kJ/(kg.K)    |\n",
    "\n",
    "Engine Parameters varied to achieve the TurboProp example 7.2  perfomance:\n",
    "\n",
    "| Engine Parameters                        |                   |\n",
    "|------------------------------------------|-------------------|\n",
    "| Mass Flux                                | 88.42 kg/s        |\n",
    "\n"
   ]
  },
  {
   "cell_type": "markdown",
   "metadata": {},
   "source": [
    "### Exercise Computation"
   ]
  },
  {
   "cell_type": "code",
   "execution_count": null,
   "metadata": {},
   "outputs": [],
   "source": []
  }
 ],
 "metadata": {
  "interpreter": {
   "hash": "4832126f7d4047808203b0af11e9afdb260dabb5323c882ffc138c3bbac44c58"
  },
  "kernelspec": {
   "display_name": "Python 3",
   "language": "python",
   "name": "python3"
  },
  "language_info": {
   "codemirror_mode": {
    "name": "ipython",
    "version": 3
   },
   "file_extension": ".py",
   "mimetype": "text/x-python",
   "name": "python",
   "nbconvert_exporter": "python",
   "pygments_lexer": "ipython3",
   "version": "3.9.1"
  }
 },
 "nbformat": 4,
 "nbformat_minor": 2
}
