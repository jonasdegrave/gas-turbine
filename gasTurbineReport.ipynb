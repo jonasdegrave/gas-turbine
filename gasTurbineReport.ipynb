{
 "cells": [
  {
   "cell_type": "markdown",
   "id": "0453c1bd",
   "metadata": {},
   "source": [
    "<div><center>\n",
    "<table><tr>\n",
    "<td>\n",
    "<img src=\"images/Embraer_logo.png\" alt=\"Empresa Brasileira de Aeronáutica (Embraer)\" style=\"width: 300px;\"/>\n",
    "    </td>\n",
    "<td>\n",
    "<img src=\"images/ITA_logo.png\" alt=\"Instituto Tecnológico da Aeronáutica (ITA)\" style=\"width: 300px;\"/>\n",
    "    </td>\n",
    "    </tr></table\n",
    "</center></div>"
   ]
  },
  {
   "cell_type": "markdown",
   "id": "aaaf8b75",
   "metadata": {},
   "source": [
    "# EMBRAER | ITA\n",
    "\n",
    "## ENGENHARIA AERONÁUTICA E MECÂNICA - PEE 30\n",
    "\n",
    "### AC-701 : SISTEMAS PROPULSIVOS - PROF. LACAVA\n",
    "\n",
    "### Autores:\n",
    "\n",
    "* Camilla Santos\n",
    "* Eloi Antonio\n",
    "* Gabriel Henrique\n",
    "* Jonas Degrave\n",
    "* Lucas Schroeder\n",
    "* Matheus Monteverde\n",
    "* Orlando Gabriel\n",
    "* Rafael Bayão\n",
    "\n",
    "## Turbojato:\n",
    "\n",
    "* a\n",
    "* b\n",
    "\n",
    "## Turbofan:\n",
    "\n",
    "* c\n",
    "* d\n",
    "\n",
    "## Turbohélice:\n",
    "\n",
    "* e\n",
    "* f\n",
    "\n",
    "## Ramjet:\n",
    "\n",
    "* g\n",
    "* h\n",
    "\n",
    "\n"
   ]
  },
  {
   "cell_type": "code",
   "execution_count": 1,
   "id": "69702be5",
   "metadata": {},
   "outputs": [],
   "source": [
    "# Importing needed libraries:\n",
    "import numpy\n",
    "import matplotlib as plt"
   ]
  },
  {
   "cell_type": "code",
   "execution_count": 1,
   "id": "b9891b5a",
   "metadata": {},
   "outputs": [
    {
     "name": "stdout",
     "output_type": "stream",
     "text": [
      "Hello, World!\n"
     ]
    }
   ],
   "source": [
    "print(\"Hello, World!\")"
   ]
  },
  {
   "cell_type": "code",
   "execution_count": 1,
   "id": "e3b86313",
   "metadata": {},
   "outputs": [
    {
     "name": "stdout",
     "output_type": "stream",
     "text": [
      "i: 0\n",
      "i: 1\n",
      "i: 2\n",
      "i: 3\n",
      "i: 4\n",
      "i: 5\n",
      "i: 6\n",
      "i: 7\n",
      "i: 8\n",
      "i: 9\n"
     ]
    }
   ],
   "source": [
    "for i in range(10):\n",
    "    print(\"i: {}\".format(i))"
   ]
  },
  {
   "cell_type": "markdown",
   "id": "91c4f3d1",
   "metadata": {},
   "source": [
    "## RAMJET"
   ]
  },
  {
   "cell_type": "code",
   "execution_count": null,
   "id": "459740ea",
   "metadata": {},
   "outputs": [],
   "source": [
    "from models import ramjet\n",
    "\n",
    "ramjet."
   ]
  }
 ],
 "metadata": {
  "kernelspec": {
   "display_name": "Python 3 (ipykernel)",
   "language": "python",
   "name": "python3"
  },
  "language_info": {
   "codemirror_mode": {
    "name": "ipython",
    "version": 3
   },
   "file_extension": ".py",
   "mimetype": "text/x-python",
   "name": "python",
   "nbconvert_exporter": "python",
   "pygments_lexer": "ipython3",
   "version": "3.10.4"
  }
 },
 "nbformat": 4,
 "nbformat_minor": 5
}
