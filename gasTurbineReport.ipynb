{
 "cells": [
  {
   "cell_type": "markdown",
   "id": "0453c1bd",
   "metadata": {},
   "source": [
    "<div><center>\n",
    "<table><tr>\n",
    "<td>\n",
    "<img src=\"images/Embraer_logo.png\" alt=\"Empresa Brasileira de Aeronáutica (Embraer)\" style=\"width: 300px;\"/>\n",
    "    </td>\n",
    "<td>\n",
    "<img src=\"images/ITA_logo.png\" alt=\"Instituto Tecnológico da Aeronáutica (ITA)\" style=\"width: 300px;\"/>\n",
    "    </td>\n",
    "    </tr></table\n",
    "</center></div>"
   ]
  },
  {
   "cell_type": "markdown",
   "id": "aaaf8b75",
   "metadata": {},
   "source": [
    "# EMBRAER | ITA\n",
    "\n",
    "## ENGENHARIA AERONÁUTICA E MECÂNICA - PEE 30\n",
    "\n",
    "### AC-701 : SISTEMAS PROPULSIVOS - PROF. LACAVA\n",
    "\n",
    "### Autores:\n",
    "\n",
    "* Camilla Santos\n",
    "* Eloi Antonio\n",
    "* Gabriel Henrique\n",
    "* Jonas Degrave\n",
    "* Lucas Schroeder\n",
    "* Matheus Monteverde\n",
    "* Orlando Gabriel\n",
    "* Rafael Bayão"
   ]
  },
  {
   "cell_type": "markdown",
   "id": "a6bd268a",
   "metadata": {},
   "source": [
    "---"
   ]
  },
  {
   "cell_type": "markdown",
   "id": "c1e68962",
   "metadata": {},
   "source": [
    "## Exercício 1: Montagem do Simulador\n",
    "\n",
    "* Matheus Monteverde\n",
    "* Rafael Bayão"
   ]
  },
  {
   "cell_type": "markdown",
   "id": "59637e24",
   "metadata": {},
   "source": [
    "### Estratégia para criação do simulador\n",
    "\n",
    "O simulador foi montado a partir de uma arquitetura de Programação Orientada a Objetos. Dessa forma, foram modelados processos que são herdados pelos componentes e esses são utilizados pelos motores a medida da necessidade. Os a lista de objetos e suas funções podem ser visualizados abaixo:\n",
    "\n",
    "Processos térmicos: cada processo armazena as propriedades adequadas para formulação de suas transformações.\n",
    "\n",
    "* ThermalProcess: Classe principal que implementa métodos genéricos isentrópicos e é herdada pelas demais.\n",
    "* StaticThermalProcess: implementa métodos para processos com entrada e saída com velocidades desprezíveis para o gás.\n",
    "* SpeedInThermalProcess: implementa métodos para processos com entrada com velocidade considerável e saída com velocidade desprezível para o gás.\n",
    "* SpeedOutThermalProcess: implementa métodos para processos com entrada com velocidade desprezível e saída com velocidade consideravel para o gás.\n",
    "\n",
    "Componentes: cada componente herda um processo térmico adequado ao seu funcionamento implementa as equações necessárias. Os valores de entrada são armazenados e os de saída calculados ao serem invocados. Por fim, implementam métodos para variar a rotação e resumir todos os parametros inclusos.\n",
    "\n",
    "* Diffuser_Adiab\n",
    "* Nozzle_Adiab\n",
    "* Compressor\n",
    "* Fan\n",
    "* Turbine\n",
    "* FanTurbine\n",
    "* FreeTurbine\n",
    "* CombustionChamber\n",
    "\n",
    "Motores: cada motor instancia sequencialmente os componentes necessários para o funcionamento e implementa métodos para ajustar globalmente a rotação e fornecer todas as propriedades de entrada e saída dos componentes e do próprio motor.\n",
    "\n",
    "* TurboJet\n",
    "* TurboFan\n",
    "* TurboProp"
   ]
  },
  {
   "cell_type": "markdown",
   "id": "11159e5e",
   "metadata": {},
   "source": [
    "### Exemplos resolvidos"
   ]
  },
  {
   "cell_type": "markdown",
   "id": "6012fc5c",
   "metadata": {},
   "source": [
    "#### Importação de pacotes"
   ]
  },
  {
   "cell_type": "code",
   "execution_count": 1,
   "id": "f610aa70",
   "metadata": {},
   "outputs": [],
   "source": [
    "import model_reference as mf\n",
    "import numpy as np\n",
    "import pandas as pd\n",
    "import matplotlib.pyplot as plt\n",
    "import warnings\n",
    "\n",
    "plt.style.use('seaborn')\n",
    "warnings.filterwarnings('ignore')"
   ]
  },
  {
   "cell_type": "markdown",
   "id": "74dc2b72",
   "metadata": {},
   "source": [
    "#### Exemplo 2.1: TurboJet\n",
    "\n",
    "Informações do exercício:\n",
    "\n",
    "Calcular o empuxo específico e consumo específico (TSFC) para um motor turbojato operando a Mach 0,85 e a 12.200 m (Pa = 18,75kPa e Ta = 216,7 K). Usar os dados abaixo para eficiências e razões de calor específico.\n",
    "\n",
    "| Componente | Eficiência Adiabática| $\\gamma$            |\n",
    "|------------|----------------------|-------------------  |\n",
    "| difusor    | 0,97                 | 1,40                |\n",
    "| compressor | 0,85                 | 1,37                |\n",
    "| combustão  | 1,00                 | 1,35                |\n",
    "| turbina    | 0.90                 | 1,33                |\n",
    "| bocal      | 0,98                 | 1,36                |\n",
    "\n",
    "Dados operacionais\n",
    "\n",
    "\n",
    "| Dados operacionais:                           | Valor             |\n",
    "|-----------------------------------------------|-------------------|\n",
    "| Razão de Pressão no compressor                | 30                |\n",
    "| Temperatura na sáida da câmara de combustão   | 1600 K            |\n",
    "| Poder Calorífico Inferior do Combustível      | 45000 kJ/kg       |\n",
    "| R Médio                                       | 288,3 m^2/(s^2.K) |\n",
    "| Cp no combustor                               | 1,11 kJ/(kg.K)    |"
   ]
  },
  {
   "cell_type": "markdown",
   "id": "4f3dfd5c",
   "metadata": {},
   "source": [
    "##### Solução"
   ]
  },
  {
   "cell_type": "code",
   "execution_count": 7,
   "id": "31ee8fb4",
   "metadata": {},
   "outputs": [
    {
     "data": {
      "text/html": [
       "<div>\n",
       "<style scoped>\n",
       "    .dataframe tbody tr th:only-of-type {\n",
       "        vertical-align: middle;\n",
       "    }\n",
       "\n",
       "    .dataframe tbody tr th {\n",
       "        vertical-align: top;\n",
       "    }\n",
       "\n",
       "    .dataframe thead th {\n",
       "        text-align: right;\n",
       "    }\n",
       "</style>\n",
       "<table border=\"1\" class=\"dataframe\">\n",
       "  <thead>\n",
       "    <tr style=\"text-align: right;\">\n",
       "      <th></th>\n",
       "      <th>Valores</th>\n",
       "    </tr>\n",
       "  </thead>\n",
       "  <tbody>\n",
       "    <tr>\n",
       "      <th>Temperatura na Saída Difusor</th>\n",
       "      <td>248.013150</td>\n",
       "    </tr>\n",
       "    <tr>\n",
       "      <th>Pressão na Saída Difusor</th>\n",
       "      <td>29.674830</td>\n",
       "    </tr>\n",
       "    <tr>\n",
       "      <th>Temperatura na Saída Compressor</th>\n",
       "      <td>687.349061</td>\n",
       "    </tr>\n",
       "    <tr>\n",
       "      <th>Pressão na Saída Compressor</th>\n",
       "      <td>890.244901</td>\n",
       "    </tr>\n",
       "    <tr>\n",
       "      <th>Razão combustível/ar</th>\n",
       "      <td>0.023437</td>\n",
       "    </tr>\n",
       "    <tr>\n",
       "      <th>Temperatura na Saída Turbina</th>\n",
       "      <td>1160.664089</td>\n",
       "    </tr>\n",
       "    <tr>\n",
       "      <th>Pressão na Saída Turbina</th>\n",
       "      <td>205.315935</td>\n",
       "    </tr>\n",
       "    <tr>\n",
       "      <th>Velocidade de Saída do ar</th>\n",
       "      <td>1078.304658</td>\n",
       "    </tr>\n",
       "    <tr>\n",
       "      <th>Consumo específico</th>\n",
       "      <td>0.027502</td>\n",
       "    </tr>\n",
       "    <tr>\n",
       "      <th>Velocidade de voo</th>\n",
       "      <td>251.382314</td>\n",
       "    </tr>\n",
       "    <tr>\n",
       "      <th>Empuxo específico</th>\n",
       "      <td>0.852195</td>\n",
       "    </tr>\n",
       "  </tbody>\n",
       "</table>\n",
       "</div>"
      ],
      "text/plain": [
       "                                     Valores\n",
       "Temperatura na Saída Difusor      248.013150\n",
       "Pressão na Saída Difusor           29.674830\n",
       "Temperatura na Saída Compressor   687.349061\n",
       "Pressão na Saída Compressor       890.244901\n",
       "Razão combustível/ar                0.023437\n",
       "Temperatura na Saída Turbina     1160.664089\n",
       "Pressão na Saída Turbina          205.315935\n",
       "Velocidade de Saída do ar        1078.304658\n",
       "Consumo específico                  0.027502\n",
       "Velocidade de voo                 251.382314\n",
       "Empuxo específico                   0.852195"
      ]
     },
     "execution_count": 7,
     "metadata": {},
     "output_type": "execute_result"
    }
   ],
   "source": [
    "values_ex2_1 = {\n",
    "    'ta':216.7,         # Temperatura ambiente\n",
    "    'pa':18.750,        # Pressão atmosférica\n",
    "    'gamma_d':1.4,      # gamma no difusor\n",
    "    'gamma_c':1.37,     # gamma no compressor\n",
    "    'gamma_b':1.35,     # gamma na combustão\n",
    "    'gamma_t':1.33,     # gamma na turbina\n",
    "    'gamma_n':1.36,     # gamma no bocal\n",
    "    'n_d':0.97,         # gamma no difusor\n",
    "    'n_c':0.85,         # gamma no compressor\n",
    "    'n_b':1,            # gamma na combustão\n",
    "    'n_t':0.9,          # gamma na turbina\n",
    "    'n_n':0.98,         # gamma no bocal\n",
    "    'prc':30,           # Taxa de compressão - compressor\n",
    "    'pc_fuel':45000,    # Poder Calorífico do combustível\n",
    "    'cp_fuel':1.110,    # Capacidade calorífica do ar no combustor\n",
    "    'r':288.3,          # R médio do ar\n",
    "    't04':1600,         # Temperatura na saída da camera de combustão\n",
    "    'mach':0.85         # mach de voo\n",
    "    }\n",
    "\n",
    "turbojet = mf.TurboJet(values_ex2_1)    # Instanciando o motor\n",
    "targets = ['t02','p02','t03', 'p03', 'f', 't05', 'p05', 'u_s', 'TSFC', 'u_i', 'specific_thrust']    # Definindo variáveis de interesse\n",
    "result_2_1 = (\n",
    "    turbojet.sumarise().\n",
    "    append(turbojet.sumarise_results()).\n",
    "    loc[targets]\n",
    ")\n",
    "clean_names = ['Temperatura na Saída Difusor', 'Pressão na Saída Difusor', \n",
    "'Temperatura na Saída Compressor', 'Pressão na Saída Compressor', \n",
    "'Razão combustível/ar', 'Temperatura na Saída Turbina', \n",
    "'Pressão na Saída Turbina', 'Velocidade de Saída do ar', \n",
    "'Consumo específico', 'Velocidade de voo', 'Empuxo específico']\n",
    "result_2_1.columns = ['Valores']\n",
    "result_2_1.rename(index = dict(zip(targets, clean_names)))"
   ]
  },
  {
   "cell_type": "markdown",
   "id": "96446a57",
   "metadata": {},
   "source": [
    "#### Comparação de resultados\n",
    "\n",
    "| Parâmetro                                                 | Modelo            | Referência do material    | $\\Delta$  |\n",
    "|-----------------------------------------------------------|-------------------|---------------------------|-----------|\n",
    "|Temp. total no final da entrada de ar                      | 248.013 K         | 248,013 K                 | 0 K       |\n",
    "|Press. total no final da entrada de ar                     | 296.7483 kPa      | 29,6748 kPa               | 0 kPa     |\n",
    "|Press. Total na saída do Compressor                        | 890,245 kPa       | 890,245 kPa               | 0 kPa     |\n",
    "|Temp. total na saída do Compressor                         | 687,349 K         | 687,349 K                 | 0 K       |\n",
    "|Razão Combustível/Ar                                       | 0,02344           | 0,02344                   | 0         |\n",
    "|Temp. total na saída da turbina do compressor              |1160,66 K          | 1160,66 K                 | 0 K       |\n",
    "|Press. total na saída da turbina do compressor             |205,316 kPa        |205,316 kPa                | 0 kPa     |\n",
    "|Velocidade de saída                                        |1078,3 m/s         | 1078,3 m/s                | 0 m/s     |\n",
    "|Consumo Específico                                         | 0,0275 kg/(kN.s)  | 0,0275 kg/(kN.s)          | 0 kg/(kN.s)|\n",
    "|Velocidade de vôo                                          |251,382 m/s        | 251,382 m/s               | 0 m/s     |\n",
    "|Empuxo Específico                                          |0,85219 kN.s/kg    | 0,85219 kN.s/kg           | 0 kN.s/kg |\n"
   ]
  },
  {
   "cell_type": "markdown",
   "id": "06466e42",
   "metadata": {},
   "source": [
    "## Exercício 2: Conceito da Operação do Motor Turbofan (ponto de projeto)\n",
    "\n",
    "* Lucas Schroeder\n",
    "* Jonas Degrave"
   ]
  },
  {
   "cell_type": "code",
   "execution_count": null,
   "id": "a8a545d1",
   "metadata": {},
   "outputs": [],
   "source": []
  },
  {
   "cell_type": "markdown",
   "id": "07bc94d6",
   "metadata": {},
   "source": [
    "## Exercício 3: Evolução dos Motores Turbofan\n",
    "\n",
    "* Eloi Antonio\n",
    "* Gabriel Henrique"
   ]
  },
  {
   "cell_type": "code",
   "execution_count": null,
   "id": "08d481cf",
   "metadata": {},
   "outputs": [],
   "source": []
  },
  {
   "cell_type": "markdown",
   "id": "0ff92b13",
   "metadata": {},
   "source": [
    "## Exercício 4: Operação dos Motores Turbo Hélice\n",
    "\n",
    "* Camilla Santos\n",
    "* Orlando Gabriel"
   ]
  },
  {
   "cell_type": "markdown",
   "id": "91c4f3d1",
   "metadata": {},
   "source": [
    "# RELATÓRIO TÉCNICO"
   ]
  },
  {
   "cell_type": "markdown",
   "id": "f9f7d1b0",
   "metadata": {},
   "source": []
  },
  {
   "cell_type": "code",
   "execution_count": 1,
   "id": "69702be5",
   "metadata": {},
   "outputs": [],
   "source": [
    "# Importing needed libraries:\n",
    "import numpy\n",
    "import matplotlib as plt"
   ]
  },
  {
   "cell_type": "code",
   "execution_count": 1,
   "id": "b9891b5a",
   "metadata": {},
   "outputs": [
    {
     "name": "stdout",
     "output_type": "stream",
     "text": [
      "Hello, World!\n"
     ]
    }
   ],
   "source": [
    "print(\"Hello, World!\")"
   ]
  },
  {
   "cell_type": "code",
   "execution_count": 1,
   "id": "e3b86313",
   "metadata": {},
   "outputs": [
    {
     "name": "stdout",
     "output_type": "stream",
     "text": [
      "i: 0\n",
      "i: 1\n",
      "i: 2\n",
      "i: 3\n",
      "i: 4\n",
      "i: 5\n",
      "i: 6\n",
      "i: 7\n",
      "i: 8\n",
      "i: 9\n"
     ]
    }
   ],
   "source": [
    "for i in range(10):\n",
    "    print(\"i: {}\".format(i))"
   ]
  },
  {
   "cell_type": "code",
   "execution_count": null,
   "id": "317da8b5",
   "metadata": {},
   "outputs": [],
   "source": []
  }
 ],
 "metadata": {
  "kernelspec": {
   "display_name": "Python 3 (ipykernel)",
   "language": "python",
   "name": "python3"
  },
  "language_info": {
   "codemirror_mode": {
    "name": "ipython",
    "version": 3
   },
   "file_extension": ".py",
   "mimetype": "text/x-python",
   "name": "python",
   "nbconvert_exporter": "python",
   "pygments_lexer": "ipython3",
   "version": "3.10.2"
  },
  "toc": {
   "base_numbering": 1,
   "nav_menu": {},
   "number_sections": true,
   "sideBar": true,
   "skip_h1_title": false,
   "title_cell": "Table of Contents",
   "title_sidebar": "Contents",
   "toc_cell": true,
   "toc_position": {
    "height": "calc(100% - 180px)",
    "left": "10px",
    "top": "150px",
    "width": "165px"
   },
   "toc_section_display": true,
   "toc_window_display": true
  }
 },
 "nbformat": 4,
 "nbformat_minor": 5
}
