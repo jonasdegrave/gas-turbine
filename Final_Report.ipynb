{
 "cells": [
  {
   "cell_type": "markdown",
   "id": "0453c1bd",
   "metadata": {},
   "source": [
    "<div><center>\n",
    "<table><tr>\n",
    "<td>\n",
    "<img src=\"images/Embraer_logo.png\" alt=\"Empresa Brasileira de Aeronáutica (Embraer)\" style=\"width: 300px;\"/>\n",
    "    </td>\n",
    "<td>\n",
    "<img src=\"images/ITA_logo.png\" alt=\"Instituto Tecnológico da Aeronáutica (ITA)\" style=\"width: 300px;\"/>\n",
    "    </td>\n",
    "    </tr></table\n",
    "</center></div>"
   ]
  },
  {
   "cell_type": "markdown",
   "id": "aaaf8b75",
   "metadata": {},
   "source": [
    "# EMBRAER | ITA\n",
    "\n",
    "## ENGENHARIA AERONÁUTICA E MECÂNICA - PEE 30\n",
    "\n",
    "### AC-701 : SISTEMAS PROPULSIVOS - PROF. LACAVA\n",
    "\n",
    "### Autores:\n",
    "\n",
    "* Camilla Santos\n",
    "* Eloi Antonio\n",
    "* Gabriel Henrique\n",
    "* Jonas Degrave\n",
    "* Lucas Schroeder\n",
    "* Matheus Monteverde\n",
    "* Orlando Gabriel\n",
    "* Rafael Bayão"
   ]
  },
  {
   "cell_type": "markdown",
   "id": "a6bd268a",
   "metadata": {},
   "source": [
    "---"
   ]
  },
  {
   "cell_type": "markdown",
   "id": "c1e68962",
   "metadata": {},
   "source": [
    "## Exercício 1: Montagem do Simulador\n",
    "\n",
    "* Matheus Monteverde\n",
    "* Rafael Bayão"
   ]
  },
  {
   "cell_type": "markdown",
   "id": "59637e24",
   "metadata": {},
   "source": [
    "### Estratégia para criação do simulador\n",
    "\n",
    "O simulador foi montado a partir de uma arquitetura de Programação Orientada a Objetos. Dessa forma, foram modelados processos que são herdados pelos componentes e esses são utilizados pelos motores a medida da necessidade. Os a lista de objetos e suas funções podem ser visualizados abaixo:\n",
    "\n",
    "Processos térmicos: cada processo armazena as propriedades adequadas para formulação de suas transformações.\n",
    "\n",
    "* ThermalProcess: Classe principal - implementa métodos genéricos isentrópicos e é herdada pelas demais.\n",
    "* StaticThermalProcess: implementa métodos para processos com entrada e saída com velocidades desprezíveis para o gás.\n",
    "* SpeedInThermalProcess: implementa métodos para processos com entrada a velocidade considerável e saída a velocidade desprezível.\n",
    "* SpeedOutThermalProcess: implementa métodos para processos com entrada a velocidade desprezível e saída a velocidade consideravel.\n",
    "\n",
    "<center><img src=\"images/questao1/thermal-processes.png\" alt=\"Thermal Process\"/></center>\n",
    "\n",
    "Componentes: cada componente herda um processo térmico adequado ao seu funcionamento implementa as equações necessárias. Os valores de entrada são armazenados e os de saída calculados ao serem invocados. Por fim, implementam métodos para variar a rotação e resumir todos os parametros inclusos.\n",
    "\n",
    "* Diffuser_Adiab\n",
    "* Nozzle_Adiab\n",
    "* Compressor\n",
    "* Fan\n",
    "* Turbine\n",
    "* FanTurbine\n",
    "* FreeTurbine\n",
    "* CombustionChamber\n",
    "\n",
    "Motores: cada motor instancia sequencialmente os componentes necessários para o funcionamento e implementa métodos para ajustar globalmente a rotação e fornecer todas as propriedades de entrada e saída dos componentes e do próprio motor.\n",
    "\n",
    "* TurboJet\n",
    "* TurboFan\n",
    "* TurboProp\n",
    "\n",
    "<div><center>\n",
    "<table><tr>\n",
    "<td>\n",
    "<img src=\"images/questao1/turbojet-schema.png\" alt=\"turbojet-schema\" style=\"height: 400px;\"/>\n",
    "    </td>\n",
    "<td>\n",
    "<img src=\"images/questao1/turbofan-schema.png\" alt=\"turbofan-schema\" style=\"height: 400px;\"/>\n",
    "    </td>\n",
    "    <td>\n",
    "<img src=\"images/questao1/turboprop-schema.png\" alt=\"turboprop-schema\" style=\"height: 400px;\"/>\n",
    "    </td>\n",
    "    </tr></table\n",
    "</center></div>"
   ]
  },
  {
   "cell_type": "markdown",
   "id": "83a5e34f",
   "metadata": {},
   "source": [
    "---"
   ]
  },
  {
   "cell_type": "markdown",
   "id": "8b2317c1",
   "metadata": {},
   "source": [
    "### Exemplo 2.1: TurboJet"
   ]
  },
  {
   "cell_type": "markdown",
   "id": "74dc2b72",
   "metadata": {},
   "source": [
    "#### Informações do exercício:\n",
    "\n",
    "Calcular o empuxo específico e consumo específico (TSFC) para um motor turbojato operando a Mach 0,85 e a 12.200 m (Pa = 18,75kPa e Ta = 216,7 K). Usar os dados abaixo para eficiências e razões de calor específico.\n",
    "\n",
    "| Componente | Eficiência Adiabática | $\\gamma$ |\n",
    "| :--------- |:---------------------:| -------- |\n",
    "| difusor    | 0,97                  | 1,40     |\n",
    "| compressor | 0,85                  | 1,37     |\n",
    "| combustão  | 1,00                  | 1,35     |\n",
    "| turbina    | 0.90                  | 1,33     |\n",
    "| bocal      | 0,98                  | 1,36     |\n",
    "\n",
    "Dados operacionais\n",
    "\n",
    "\n",
    "| Dados operacionais:                         | Valor             |\n",
    "| ------------------------------------------- | ----------------- |\n",
    "| Razão de Pressão no compressor              | 30                |\n",
    "| Temperatura na sáida da câmara de combustão | 1600 K            |\n",
    "| Poder Calorífico Inferior do Combustível    | 45000 kJ/kg       |\n",
    "| R Médio                                     | 288,3 m^2/(s^2.K) |\n",
    "| Cp no combustor                             | 1,11 kJ/(kg.K)    |\n",
    "\n"
   ]
  },
  {
   "cell_type": "markdown",
   "id": "96446a57",
   "metadata": {},
   "source": [
    "#### Comparação de resultados\n",
    "\n",
    "| Parâmetro                                      | Unidade   | Modelo   | Referência do material | $\\Delta$ em % |\n",
    "| ---------------------------------------------- | --------- | -------- | ---------------------- | ------------- |\n",
    "| Temp. total no final da entrada de ar          | K         | 248.013  | 248,013                | 0             |\n",
    "| Press. total no final da entrada de ar         | kPa       | 296.7483 | 29,6748                | 0             |\n",
    "| Press. Total na saída do Compressor            | kPa       | 890,245  | 890,245                | 0             |\n",
    "| Temp. total na saída do Compressor             | K         | 687,349  | 687,349                | 0             |\n",
    "| Razão Combustível/Ar                           | -         | 0,02344  | 0,02344                | 0             |\n",
    "| Temp. total na saída da turbina do compressor  | K         | 1160,66  | 1160,66                | 0             |\n",
    "| Press. total na saída da turbina do compressor | kPa       | 205,316  | 205,316                | 0             |\n",
    "| Velocidade de saída                            | m/s       | 1078,3   | 1078,3                 | 0             |\n",
    "| Consumo Específico                             | kg/(kN.s) | 0,0275   | 0,0275                 | 0             |\n",
    "| Velocidade de vôo                              | m/s       | 251,382  | 251,382                | 0             |\n",
    "| Empuxo Específico                              | kN.s/kg   | 0,85219  | 0,85219                | 0             |\n"
   ]
  },
  {
   "cell_type": "markdown",
   "id": "b10dace9",
   "metadata": {},
   "source": [
    "---"
   ]
  },
  {
   "cell_type": "markdown",
   "id": "5ad2aea9",
   "metadata": {},
   "source": [
    "### Exemplo 2.2: TurboFan"
   ]
  },
  {
   "cell_type": "markdown",
   "id": "f5e3ea55",
   "metadata": {},
   "source": [
    "#### Informações do exercício\n",
    "\n",
    "Calcular o empuxo específico e consumo específico (TSFC) para um motor turbofan operando a Mach 0,85 e a 12.200 m (Pa = 18,75 e Ta = 216,7 K). Usar os dados abaixo para eficiências e razões de calor específico. Comparar com exemplo anterior para o motor turbojato.\n",
    "\n",
    "| Componente             | Eficiências Adiabática | $\\gamma$ |\n",
    "| ---------------------- |:-----------:| -------- |\n",
    "| Entrada de ar          | 0,97        | 1,40     |\n",
    "| Fan                    | 0,85        | 1,40     |\n",
    "| Compressor             | 0,85        | 1,37     |\n",
    "| Câmara de combustão    | 1,00        | 1,35     |\n",
    "| Turbina do compressor  | 0.90        | 1,33     |\n",
    "| Turbina do fan         | 0.90        | 1,33     |\n",
    "| Bocal de gases quentes | 0,98        | 1,36     |\n",
    "| Bocal do fan           | 0,98        | 1,40     |\n",
    "\n",
    "Dados operacionais:\n",
    "\n",
    "| Parâmetro                                   | Valores         |\n",
    "| ------------------------------------------- | --------------- |\n",
    "| Temperatura na sáida da câmara de combustão | 1600 K          |\n",
    "| Razão de Pressão no compressor              | 20              |\n",
    "| Razão de Pressão no Fan                     | 1.5             |\n",
    "| Razão de Passagem                           | 5.0             |\n",
    "| Poder Calorífico Inferior do Combustível    | 45000 kJ/kg     |\n",
    "| R Médio                                     | 288,3 m2/(s2.K) |\n",
    "| Cp no combustor                             | 1,11 kJ/(kg.K)  |\n",
    "\n"
   ]
  },
  {
   "cell_type": "markdown",
   "id": "77270408",
   "metadata": {},
   "source": [
    "#### Comparação de resultados do modelo do Turbo Fan com o material\n",
    "\n",
    "| Parâmetro                                      | Unidade   | Modelo  | Referência do material | $\\Delta$ em % |\n",
    "| ---------------------------------------------- | --------- | ------- | ---------------------- | ------------- |\n",
    "| Temp. total no final da entrada de ar          | K         | 248,013 | 248,013                | 0             |\n",
    "| Press. total no final da entrada de ar         | kPa       | 29,6748 | 29,6748                | 0             |\n",
    "| Press. Total na saída do Fan                   | kPa       | 29,6748 | 29,6748                | 0             |\n",
    "| Temp. total na saída do Fan                    | K         | 283,851 | 283,851                | 0             |\n",
    "| Press. Total na saída do Compressor            | kPa       | 890,245 | 890,245                | 0             |\n",
    "| Temp. total na saída do Compressor             | K         | 699,879 | 699,879                | 0             |\n",
    "| Razão Combustível/Ar                           | -         | 0,02312 | 0,02312                | 0             |\n",
    "| Temp. total na saída da turbina do Compressor  | K         | 1183,97 | 1183,97                | 0             |\n",
    "| Press. total na saída da turbina do Compressor | kPa       | 225,281 | 225,281                | 0             |\n",
    "| Temp. total na saída da turbina do Fan         | K         | 968,945 | 968,945                | 0             |\n",
    "| Press. total na saída da turbina do Fan        | kPa       | 90,8277 | 90,8277                | 0             |\n",
    "| Velocidade de saída - Bocal do fan             | m/s       | 350,532 | 350,532                | 0             |\n",
    "| Velocidade de saída - Bocal de gases quentes   | m/s       | 840,335 | 840,335                | 0             |\n",
    "| Velocidade de vôo                              | m/s       | 251,382 | 251,382                | 0             |\n",
    "| Empuxo Específico                              | kN.s/kg   | 1,10413 | 1,10413                | 0             |\n",
    "| Consumo Específico                             | kg/(kN.s) | 0,02094 | 0,02094                | 0             |\n",
    "\n"
   ]
  },
  {
   "cell_type": "markdown",
   "id": "8ba738fb",
   "metadata": {},
   "source": [
    "---"
   ]
  },
  {
   "cell_type": "markdown",
   "id": "e037bf2f",
   "metadata": {},
   "source": [
    "### Exemplo 2.3: TurboFan - variação da rotação a partir do ponto de projeto"
   ]
  },
  {
   "cell_type": "markdown",
   "id": "e642aadd",
   "metadata": {},
   "source": [
    "#### Informações do exercício\n",
    "\n",
    "Condição de Projeto do Motor - Máxima Rotação - Nível do mar - 288,15K\n",
    "\n",
    "| Parâmetros                                  | Valores  |\n",
    "| ------------------------------------------- | -------- |\n",
    "| Vazão de ar                                 | 756 kg/s |\n",
    "| Tenoeratura na saída da câmara de combustão | 1550 K   |\n",
    "| Razão de Pressão no compressor              | 17.2     |\n",
    "| Razão de Pressão no Booster                 | 1.00     |\n",
    "| Razão de Pressão no Fan                     | 1.69     |\n",
    "| Razão de Passagem                           | 4.69     |\n",
    "| % de perda de pressão taotal na câmara      | 5 %      |\n",
    "\n",
    "Condições de Operação:\n",
    "\n",
    "| Condições de operação em voo      | Valores    |\n",
    "| --------------------------------- | ---------- |\n",
    "| Mach de voo                       | 0          |\n",
    "| Pressão atmosférica               | 101.63 kPa |\n",
    "| Temperatura atmosférica           | 290 K      |\n",
    "| % da rotação máxima no compressor | 1.00       |\n",
    "| % da rotação máxima no fan        | 1.00       |\n",
    "\n",
    "\n",
    "\n",
    "Eficiências e valores de $\\gamma$:\n",
    "\n",
    "| Componente             | Eficiências Adiabática | $\\gamma$ |\n",
    "| ---------------------- |:----------------------:| -------- |\n",
    "| Entrada de ar          | 0,97                   | 1,40     |\n",
    "| Fan                    | 0,93                   | 1,40     |\n",
    "| Compressor             | 0,90                   | 1,37     |\n",
    "| Câmara de combustão    | 0,9995                 | 1,35     |\n",
    "| Turbina do compressor  | 0.95                   | 1,33     |\n",
    "| Turbina do fan         | 0.932                  | 1,33     |\n",
    "| Bocal de gases quentes | 0,98                   | 1,36     |\n",
    "| Bocal do fan           | 0,98                   | 1,40     |\n",
    "\n",
    "\n",
    "Dados termodinâmicos:\n",
    "\n",
    "| Dados termodinâmicos                     | Valores         |\n",
    "| ---------------------------------------- | --------------- |\n",
    "| Poder Calorífico Inferior do Combustível | 45000 kJ/kg     |\n",
    "| R Médio                                  | 288,3 m2/(s2.K) |\n",
    "| Cp no combustor                          | 1,11 kJ/(kg.K)  |\n",
    "\n"
   ]
  },
  {
   "cell_type": "markdown",
   "id": "f4efc9ff",
   "metadata": {},
   "source": [
    "#### Solução"
   ]
  },
  {
   "cell_type": "markdown",
   "id": "89d92908",
   "metadata": {},
   "source": [
    "| Parâmetro                  |        1.0 |        0.9 |       0.8 |        0.7 |       0.6 |       0.5 |\n",
    "| :------------------------- | ---------: | ---------: | --------: | ---------: | --------: | --------: |\n",
    "| Rotação do Fan N1          |          1 |    0.87016 |    0.7285 |    0.58684 |   0.44518 |   0.30352 |\n",
    "| Empuxo Total               |    253.464 |    168.517 |   90.0758 |    48.2752 |   22.8478 |    12.024 |\n",
    "| TSFC                       | 0.00996902 | 0.00911273 | 0.0092772 | 0.00898977 | 0.0100623 | 0.0131675 |\n",
    "| Prf                        |       1.69 |    1.56341 |   1.38538 |    1.24073 |   1.12948 |   1.05162 |\n",
    "| Prc                        |       17.2 |    14.3017 |   10.9042 |    7.59124 |   4.98958 |   3.72595 |\n",
    "| Taxa de comp. Global       |     29.068 |    22.3593 |   15.1064 |    9.41871 |   5.63565 |   3.91828 |\n",
    "| Temp. Saída do Combustor   |    1529.52 |    1345.31 |   1166.82 |    1013.36 |   884.936 |   781.537 |\n",
    "| Vazão mássica de ar quente |    131.056 |    95.2792 |   63.0639 |    38.8194 |   23.4889 |   18.8928 |\n",
    "| Consumo                    |    2.52679 |    1.53565 |  0.835651 |   0.433983 |  0.229901 |  0.158326 |\n",
    "| Razão de Passagem          |      4.749 |    5.38464 |   6.01871 |    6.49411 |   6.81085 |   6.96894 |"
   ]
  },
  {
   "cell_type": "markdown",
   "id": "e938010c",
   "metadata": {},
   "source": [
    "<center><img src=\"images/questao1/ex2_3.jpg\" alt=\"turboprop-schema\" style=\"width:1000px\"/></center>"
   ]
  },
  {
   "cell_type": "markdown",
   "id": "73c87b41",
   "metadata": {},
   "source": [
    "#### Comparação de resultados\n",
    "\n",
    "Para facilitar a comparação de resultados optou-se por gerar respostas para os mesmos pontos que rotação que os apresentados no material de referência. Além disso, foi utilizado os mesmos valores nos eixos e grade. Por não ter os valores exatos no material, apenas uma análise comparativa visual foi possível.\n",
    "\n",
    "Nesse sentido, verificou-se que todos os gráficos apresentaram a mesma tendência de aumento ou redução do valor de interesse, na maioria os valores são aparentemente os mesmos para o modelo e o material de referência. Apesar disso, houve variações perceptíveis para os resultados de consumo específico de combustível e consumo de combustível, esses valores variam principalmente para rotações menores de 80% em que começam a ter problemas de pressão no bocal de saída dos gases quentes. Nesse ponto a pressão de entrada do bocal se torna menor que a atmosférica e foi optado por definir a velocidade de saída como 0 para poder calcular o restante dos valores."
   ]
  },
  {
   "cell_type": "markdown",
   "id": "62ca74ec",
   "metadata": {},
   "source": [
    "---"
   ]
  },
  {
   "cell_type": "markdown",
   "id": "c1118923",
   "metadata": {},
   "source": [
    "### Exemplo 7.1: Turboélice - Calibrando o Modelo"
   ]
  },
  {
   "cell_type": "markdown",
   "id": "550a45eb",
   "metadata": {},
   "source": [
    "#### Descrição do Exercício\n",
    "\n",
    "Tomando os dados do motor PW127 ao nível do mar e estacionário: potência de eixo da turbina livre 2457 kW, vazão de ar no\n",
    "compressor de 8,49 kg/s, razão de pressão do compressor 15,77 e temperatura de saída da câmara de combustão de 1600K. Fazer uma calibração do motor na simulação de desempenho para que se obtenha uma potência de eixo próxima à informada pelo fabricante.\n",
    "\n",
    "Parâmetros de funcionamento do motor:\n",
    "\n",
    "| Condição de funcionamento de referência     | Valores   |\n",
    "| ------------------------------------------- | --------- |\n",
    "| Vazão de massa                              | 8,49 kg/s |\n",
    "| Temperatura de saída na câmara de combustão | 1600 K    |\n",
    "| Razão de Pressão no Compressor              | 15.77     |\n",
    "\n",
    "\n",
    "Condição de funcionamento:\n",
    "\n",
    "| Condição de funcionamento         | Valores    |\n",
    "| --------------------------------- | ---------- |\n",
    "| Flight Mach                       | 0          |\n",
    "| Pressão atmosférica               | 101,30 kPa |\n",
    "| Temperatura atmosférica           | 288.15 K   |\n",
    "| % de rotação máxima do compressor | 1,00       |\n",
    "\n",
    "\n",
    "Eficiência e dados específicos sobre a relação de calor:\n",
    "\n",
    "| Componente            | Eficiência Adiabática | $\\gamma$ |\n",
    "| --------------------- |:---------------------:| -------- |\n",
    "| entrada               | 0,85                  | 1,40     |\n",
    "| compressor            | 0,75                  | 1,37     |\n",
    "| combustão             | 1,00                  | 1,35     |\n",
    "| turbina do compressor | 0,90                  | 1,33     |\n",
    "| Turbina livre         | 0,90                  | 1,33     |\n",
    "| bocal de ar quente    | 0,98                  | 1,36     |\n",
    "\n",
    "Dados termodinâmicos:\n",
    "\n",
    "| Dados Termodinâmicos                    | Valores           |\n",
    "| --------------------------------------- | ----------------- |\n",
    "| PCI                                     | 45000 kJ/kg       |\n",
    "| Média R                                 | 288,3 m^2/(s^2.K) |\n",
    "| calor específico na câmara de combustão | 1,11 kJ/(kg.K)    |\n",
    "\n",
    "\n",
    "\n",
    "\n",
    "\n",
    "\n"
   ]
  },
  {
   "cell_type": "markdown",
   "id": "9a8744c3",
   "metadata": {},
   "source": [
    "#### Parte 1:  Ajuste da razão de pressão\n",
    "Calibrar o modelo para o relatório do fabricante, variando a razão de pressão na turbina para atingir a potência da turbina especficiada de 2457 kW."
   ]
  },
  {
   "cell_type": "markdown",
   "id": "2fdb6597",
   "metadata": {},
   "source": [
    "#### Resultados:\n",
    "Variamos a taxa de expansão da turbina para encontrar a potência da turbina que corresponde à potência da turbina dada pelo fabricante. A imagem a seguir mostra os resultados obtidos:\n",
    "\n",
    "<img src=\"images/questao1/ex7_1_a.jpg\" style=\"width: 600px;\"/>\n",
    "\n",
    "A partir dos resultados acima, encontramos os seguintes parâmetros para calibrar o modelo:\n",
    "\n",
    "| Parâmetros do Motor               | Valores |\n",
    "| --------------------------------- | ------- |\n",
    "| Razão de Pressão na Turbina Livre | 2.87    |\n",
    "| % de rotação máxima no compressor | 1,00    |\n",
    "\n",
    "\n",
    "#### Comparação de resultados\n",
    "\n",
    "| Parâmetro                              | Unidade   | Modelo      | Referência do material | $\\Delta$ em % |\n",
    "| -------------------------------------- | --------- | ----------- | ---------------------- | ------------- |\n",
    "| Razão de Pressão na Turbina Livre      | -         | 2.87        | 2.87                   | 0.000         |\n",
    "| Press. Total na saída da Turbina livre | kPa       | 135.944     | 135.98                 | -0.021        |\n",
    "| Temp. total na saída da Turbina livre  | K         | 931.58      | 931.58                 | 0.000         |\n",
    "| Trabalho por vazão da Turbina livre    | kJ.s/kg   | 282.358     | 282,83                 | -0.161        |\n",
    "| Vazão na turbina                       | kg/s      | 8.68121     | 8.69                   | -0.107        |\n",
    "| Potência da turbina (termodinâmica)    | kW        | 2451.21     | 2456.49                | -0.210        |\n",
    "| Velocidade de saída do bocal           | m/s       | 385.967     | 385.97                 | -0.002        |\n",
    "| Empuxo Específico do bocal             | kN.s/kg   | 0.394757    | 0.395                  | -0.067        |\n",
    "| Empuxo do bocal                        | kN        | 3.35066     | 3.352                  | -0.033        |\n",
    "| Consumo Específico (BSFC)              | kg/(kN.s) | 7.88615e-05 | 7.87E-05               | 0.205         |\n",
    "| Potência na caixa de redução           | kW        | 2402.19     | 2407.356               | -0.214        |\n",
    "| Consumo Específico (EBSFC)             | kg/(kN.s) | 7.88615e-05 | 7.87E-05               | 0.205         |\n",
    "| Consumo de combustível                 | kg/s      | 0.193306    | 0.193                  | 0.158         |\n",
    "\n",
    "\n"
   ]
  },
  {
   "cell_type": "markdown",
   "id": "c2730797",
   "metadata": {},
   "source": [
    "### Parte 2: Ajuste da Rotação\n",
    "\n",
    "A potência termodinâmica da turbina é superior à potência limite da caixa de redução de 2050 kW.\n",
    "Assim, a solução consiste em reduzir a rotação do compressor."
   ]
  },
  {
   "cell_type": "markdown",
   "id": "6b230146",
   "metadata": {},
   "source": [
    "A imagem a seguir mostra a variação da potência em função da rotação do motor, para determinar a rotação máxima correspondente ao limite da caixa de redução:\n",
    "\n",
    "<img src=\"images/questao1/ex7_1_b.jpg\" style=\"width: 600px;\"/>\n",
    "\n",
    "Parâmetros do motor variados para atingir o desempenho do fabricante:\n",
    "\n",
    "\n",
    "| Parâmetros do motor               | Valores |\n",
    "| --------------------------------- | ------- |\n",
    "| Razão de Pressão na Turbina Livre | 2.87    |\n",
    "| % de rotação máxima no compressor | 0,941   |"
   ]
  },
  {
   "cell_type": "markdown",
   "id": "cee51b9b",
   "metadata": {},
   "source": [
    "#### Comparação de resultados\n",
    "\n",
    "| Parâmetro                              | Unidade   | Modelo      | Referência do material | $\\Delta$ em % |\n",
    "| -------------------------------------- | --------- | ----------- | ---------------------- | ------------- |\n",
    "| % da rotação máxima do compressor      | -         | 0.941       | 0.941                  | 0.0000        |\n",
    "| Razão de Pressão na Turbina Livre      | -         | 2.87        | 2.87                   | 0.0000        |\n",
    "| Temp. total na saída da Camara         | K         | 1491.42     | 1491.87                | -0.0301       |\n",
    "| Press. Total na saída da Camara        | kPa       | 1446.44     | 1447.03                | -0.0407       |\n",
    "| Razão combustivel/ar                   | -         | 0.0206016   | 0.02061                | -0.0407       |\n",
    "| Press. Total na saída da Turbina livre | kPa       | 119.654     | 119.68                 | -0.0217       |\n",
    "| Temp. total na saída da Turbina livre  | K         | 863.739     | 863.96                 | -0.0255       |\n",
    "| Trabalho por vazão da Turbina livre    | kJ.s/kg   | 264.167     | 264.69                 | -0.1975       |\n",
    "| Vazão na turbina                       | kg/s      | 7.74105     | 7.75                   | -0.1154       |\n",
    "| Potência da turbina (termodinâmica)    | kW        | 2044.93     | 2050.13                | -0.2536       |\n",
    "| Velocidade de saída do bocal           | m/s       | 281.973     | 282.18                 | -0.0733       |\n",
    "| Empuxo Específico do bocal             | kN.s/kg   | 0.287782    | 0.288                  | -0.0756       |\n",
    "| Empuxo do bocal                        | kN        | 2.18277     | 2.186                  | -0.1477       |\n",
    "| Consumo Específico (BSFC)              | kg/(kN.s) | 7.64128e-05 | 7.63e-05               | 0.1478        |\n",
    "| Potência na caixa de redução           | kW        | 2004.03     | 2009.131               | -0.2538       |\n",
    "| Consumo de combustível                 | kg/s      | 0.156259    | 0.156                  | 0.1660        |"
   ]
  },
  {
   "cell_type": "markdown",
   "id": "cee9f8b1",
   "metadata": {},
   "source": [
    "---"
   ]
  },
  {
   "cell_type": "markdown",
   "id": "77fd16a1",
   "metadata": {},
   "source": [
    "### Exemplo 7.2: Turbohélice - Simulação de Condição de Vôo"
   ]
  },
  {
   "cell_type": "markdown",
   "id": "89b46e09",
   "metadata": {},
   "source": [
    "#### Descrição do exercício\n",
    "\n",
    "Simular agora o motor operando a 7.000 m e Mach 0,45, mantendo outros parâmetros de entrada constante em relação ao Exemplo 7.1. Como estratégia de operação considerar N1 =  100% e N2 = 85%.\n",
    "\n",
    "Parâmetros de funcionamento do motor:\n",
    "\n",
    "| Condição de funcionamento da linha de base  | Valores   |\n",
    "| ------------------------------------------- | --------- |\n",
    "| Fluxo de massa                              | 8,49 kg/s |\n",
    "| Temperatura de saída na câmara de combustão | 1600 K    |\n",
    "| Razão de Pressão no Compressor              | 15.77     |\n",
    "\n",
    "\n",
    "Condição de funcionamento:\n",
    "\n",
    "| Condição de operação de voo       | Valores   |\n",
    "| --------------------------------- | --------- |\n",
    "| Mach                              | 0.45      |\n",
    "| Pressão atmosférica               | 41,00 kPa |\n",
    "| Temperatura atmosférica           | 246.55 K  |\n",
    "| % de rotação máxima do compressor | 0,85      |\n",
    "\n",
    "\n",
    "Eficiência e dados específicos sobre a relação de calor:\n",
    "\n",
    "| Componente            | Eficiência Adiabática | $\\gamma$                  |\n",
    "| --------------------- |:---------------------:| ------------------------- |\n",
    "| entrada               | 0,85                  | 1,40                      |\n",
    "| compressor            | 0,75                  | 1,37                      |\n",
    "| combustão             | 1,00                  | 1,35                      |\n",
    "| turbina do compressor | 0,90                  | 1,33                      |\n",
    "| turbina livre         | 0,90                  | 1,33                      |\n",
    "| bocal de ar quente    | 0,98                  | 1,36                      |\n",
    "\n",
    "Dados termodinâmicos:\n",
    "\n",
    "| Dados Termodinâmicos                    | Valores           |\n",
    "| --------------------------------------- | ----------------- |\n",
    "| PCI                                     | 45000 kJ/kg       |\n",
    "| Média R                                 | 288,3 m^2/(s^2.K) |\n",
    "| Cp na câmara de combustão | 1,11 kJ/(kg.K)    |\n",
    "\n",
    "\n",
    "\n",
    "\n",
    "\n"
   ]
  },
  {
   "cell_type": "markdown",
   "id": "bb8c0d7b",
   "metadata": {},
   "source": [
    "#### Comparação de resultados\n",
    "\n",
    "| Parâmetro                              | Unidade   | Modelo      | Referência do material | $\\Delta$ em % |\n",
    "| -------------------------------------- | --------- | ----------- | ---------------------- | ------------- |\n",
    "| Press. Total na saída da Turbina livre | kPa       | 55.8689     | 55.87                  | -0.0019       |\n",
    "| Temp. total na saída da Turbina livre  | K         | 798.767     | 798.77                 | -0.0003       |\n",
    "| Trabalho por vazão da Turbina livre    | kJ.s/kg   | 221.816     | 222.19                 | -0.1683       |\n",
    "| Vazão na turbina                       | kg/s      | 2.85347     | 2.85                   | 0.1217        |\n",
    "| Potência da turbina (termodinâmica)    | kW        | 632.945     | 634.00                 | -0.1664       |\n",
    "| Velocidade de saída do bocal           | m/s       | 366.196     | 366.20                 | -0.0010       |\n",
    "| Empuxo Específico do bocal             | kN.s/kg   | 0.231       | 0.231                  | 0.0000        |\n",
    "| Empuxo do bocal                        | kN        | 0.647313    | 0.647                  | 0.0483        |\n",
    "| Consumo Específico no eixo (BSFC)      | kg/(kW.s) | 8.29033e-05 | 8,28E-05               | 0.1247        |\n",
    "| Potência na caixa de redução           | kW        | 620.286     | 621.323                | -0.1669       |\n",
    "| Empuxo produzido pela hélice           | kN        | 3.71415     | 3.720                  | -0.1572       |\n",
    "| Empuxo total                           | kN        | 4.36146     | 4.368                  | -0.1497       |\n",
    "| Consumo Específico equivalente(EBSFC)  | kg/(kW.s) | 7.23934e-05 | 7.23e-05               | 0.1291        |\n",
    "| Consumo Específico empuxo (TSFC)       | kg/(kN.s) | 0.0120311   | 0.012                  | 0.2591        |\n",
    "| Consumo de combustível                 | kg/s      | 0.0524732   | 0.052                  | 0.9100        |\n",
    "\n"
   ]
  },
  {
   "cell_type": "markdown",
   "id": "ef291508",
   "metadata": {},
   "source": [
    "---"
   ]
  },
  {
   "cell_type": "markdown",
   "id": "9ad2adbc",
   "metadata": {},
   "source": [
    "### Exemplo 7.3: TurboFan - Comparando ao Turboélice (Ex. 7.2)"
   ]
  },
  {
   "cell_type": "markdown",
   "id": "596e96da",
   "metadata": {},
   "source": [
    "#### Descrição do exercício\n",
    "\n",
    "Simular um motor turbofan para cumprir a mesma missão do motor turbo hélice do exemplo 7.2, ou seja, gerar o empuxo de 4.26 kN a 7.000 m e a Mach de voo 0,45. Para fazer as simulação tomou-se como referência dados do motor PW545B, com razão de pressão total de 12,5 e razão de passagem 4,2 na condição de decolagem ao nível do mar. Algumas hipóteses foram feitas para simulação como vai ser discutido na sequência.\n",
    "\n",
    "Parâmetros de funcionamento do motor:\n",
    "\n",
    "| Parametros de funcionamento do motor        | Valores |\n",
    "| ------------------------------------------- | ------- |\n",
    "| Temperatura de saída na câmara de combustão | 1550 K  |\n",
    "| Razão de Pressão no Compressor              | 8.33    |\n",
    "| Razão de Pressão em Booster                 | 1.00    |\n",
    "| Razão de Pressão no fan                     | 1.50    |\n",
    "| Razao de passagem de ar                     | 4.2     |\n",
    "| Perda de pressão na câmara de combustão     | 0 %     |\n",
    "\n",
    "Condição de funcionamento:\n",
    "\n",
    "| Condição de operação de voo       | Valores   |\n",
    "| --------------------------------- | --------- |\n",
    "| mach                              | 0.45      |\n",
    "| Pressão atmosférica               | 41,00 kPa |\n",
    "| Temperatura atmosférica           | 246.55 K  |\n",
    "| % de rotação máxima do compressor | 0,85      |\n",
    "\n",
    "\n",
    "Eficiência e dados específicos sobre a relação de calor:\n",
    "\n",
    "| Componente            | Eficiência Adiabática | $\\gamma$ |\n",
    "| --------------------- |:---------------------:| ------------------------- |\n",
    "| entrada               | 0,97                  | 1,40                      |\n",
    "| fan                   | 0,90                  | 1,40                      |\n",
    "| compressor            | 0,75                  | 1,37                      | \n",
    "| combustão             | 0,9995                | 1,35                      |\n",
    "| turbina do compressor | 0,90                  | 1,33                      |\n",
    "| Turbina do fan        | 0,90                  | 1,33                      |\n",
    "| Bocal de ar quente    | 0,98                  | 1,36                      |\n",
    "| Bocal do fan          | 0,98                  | 1,40                      |\n",
    "\n",
    "Dados termodinâmicos:\n",
    "\n",
    "| Dados Termodinâmicos                    | Valores           |\n",
    "| --------------------------------------- | ----------------- |\n",
    "| PCI                                     | 45000 kJ/kg       |\n",
    "| Média R                                 | 288,3 m^2/(s^2.K) |\n",
    "| Cp na câmara de combustão | 1,11 kJ/(kg.K)    |\n",
    "\n",
    "Os parâmetros do motor variaram para alcançar o exemplo do TurboProp 7.2 de desempenho:\n",
    "\n",
    "| Parâmetros do motor | Valores    |\n",
    "| ------------------- | ---------- |\n",
    "| Fluxo de massa      | 88,42 kg/s |\n"
   ]
  },
  {
   "cell_type": "markdown",
   "id": "5179fc7d",
   "metadata": {},
   "source": [
    "#### Comparação de resultados\n",
    "\n",
    "| Parâmetro                        | Unidade   | Modelo    | Referência do material | $\\Delta$ em % |\n",
    "| -------------------------------- | --------- | --------- | ---------------------- | ------------- |\n",
    "| Empuxo Específico do bocal       | kN.s/kg   | 0.926056  | 0.8849                 | 4.65092       |\n",
    "| Vazão massica                    | kg/s      | 29.1712   | 29.18                  | -0.03015      |\n",
    "| Vazão massica do gerador de gas  | kg/s      | 24.3576   | 24.365                 | -0.03037      |\n",
    "| Vazão massica do bocal de fan    | kg/s      | 4.81367   | 4.814                  | -0.00685      |\n",
    "| Empuxo total                     | kN        | 4.45773   | 4.26                   | 4.64154       |\n",
    "| Consumo Específico empuxo (TSFC) | kg/(kN.s) | 0.020879  | 0.02186                | -4.48764      |\n",
    "| Consumo de combustível           | kg/s      | 0.0930729 | 0.09313                | -0.06131      |"
   ]
  },
  {
   "cell_type": "markdown",
   "id": "f61ac450",
   "metadata": {},
   "source": [
    "---"
   ]
  },
  {
   "cell_type": "markdown",
   "id": "83c36e54",
   "metadata": {},
   "source": [
    "## Exercício 2: Conceito da Operação do Motor Turbofan (ponto de projeto)\n",
    "\n",
    "* Lucas Schroeder\n",
    "* Jonas Degrave"
   ]
  },
  {
   "cell_type": "markdown",
   "id": "5795fe96",
   "metadata": {},
   "source": [
    "---"
   ]
  },
  {
   "cell_type": "markdown",
   "id": "50927506",
   "metadata": {},
   "source": [
    "## Questão 2 - Operação de Turbofan no Ponto de Projeto\n",
    "\n",
    "![turbofan_termodynamic_scheme](images/turbofan.svg)\n",
    "\n",
    "_Modelo termodinâmico do motor turbofan e suas estações de análise._\n"
   ]
  },
  {
   "cell_type": "markdown",
   "id": "1656473b",
   "metadata": {},
   "source": [
    "### a) Variação do BPR\n",
    "Para situação de temperatura na saída da câmara de combustão de 1700 K, razão de compressão no compressor de 20, razão de pressão no fan de 1,4; varie a razão de passagem de zero (motor turbojato) até o máximo possível para estas condições de operação ao nível do mar e início da decolagem (Mach 0). \n",
    "\n",
    "* Em função da razão de passagem, apresente o comportamento do empuxo específico e consumo específico.\n",
    "\n",
    "* Admitindo que a vazão de ar para o motor de razão de passagem igual zero (turbojato) é 100 kg/s, determine qual a vazão total de ar (total) e o consumo de combustível para as versões com razão de passagem diferente de zero de tal forma a propiciar o mesmo empuxo que a versão turbojato."
   ]
  },
  {
   "cell_type": "markdown",
   "id": "4f81c241",
   "metadata": {},
   "source": [
    "| bpr                  |         0.0 |         3.0 |          6.0 |           9.0 |   10.4              |   10.64               |   10.70              \n",
    "|:---------------------|------------:|------------:|-------------:|--------------:|---------------------:|---------------------:|---------------------:\n",
    "| n1                   |   1         |   1         |    1         |    1          |           1          |           1          |            1         \n",
    "| u_s                  | 964.221     | 825.73      |  654.297     |  407.807      |         201.079      |         136.259      |          114.393     \n",
    "| p06                  | 563.401     | 375.232     |  238.761     |  143.479      |         110.448      |         105.418      |          104.188     \n",
    "| hot_mass_flow        |  99.9233    |  24.9808    |   14.2748    |    9.99233    |           8.7652     |           8.58448    |            8.54045   \n",
    "| hot_specific_thrust  | 986.682     | 844.965     |  669.539     |  417.306      |         205.763      |         139.433      |          117.058     \n",
    "| cold_mass_flow       |   0         |  74.9425    |   85.6486    |   89.931      |          91.1581     |          91.3388     |           91.3829    \n",
    "| cold_specific_thrust |   0         | 725.394     | 1450.79      | 2176.18       |        2514.7        |        2572.73       |         2587.24      \n",
    "| bypass_ratio         |   0         |   3         |    6         |    9          |          10.4        |          10.64       |           10.7       \n",
    "| TSFC                 |   0.0236087 |   0.0148337 |    0.0109862 |    0.00898183 |           0.00856261 |           0.00858881 |            0.0086138 \n",
    "| thrust_total         |  98.5925    |  39.2289    |   30.2672    |   25.915      |          23.8454     |          23.2825     |           23.0959    \n",
    "| specific_thrust      |   0.986682  |   1.57036   |    2.12033   |    2.59349    |           2.72046    |           2.71216    |            2.7043    "
   ]
  },
  {
   "cell_type": "markdown",
   "id": "5e7c317f",
   "metadata": {},
   "source": [
    "| bpr                  |   10.76              |   10.82               |   10.88             |\n",
    "|:---------------------|---------------------:|---------------------:|---------------------:|\n",
    "| n1                   |           1          |           1          |           1          |\n",
    "| u_s                  |          87.1736     |          45.9008     |         0          |\n",
    "| p06                  |         102.969      |         101.76       |         100.563      |\n",
    "| hot_mass_flow        |           8.49688    |           8.45375    |           8.41105    |\n",
    "| hot_specific_thrust  |          89.2043     |          46.97       |          0          |\n",
    "| cold_mass_flow       |          91.4264     |          91.4696     |          91.5123     |\n",
    "| cold_specific_thrust |        2601.75       |        2616.26       |        2630.76       |\n",
    "| bypass_ratio         |          10.76       |          10.82       |          10.88       |\n",
    "| TSFC                 |           0.00865652 |           0.00874664 |           0.00885457 |\n",
    "| thrust_total         |          22.8647     |          22.5142     |          22.1275     |\n",
    "| specific_thrust      |           2.69095    |           2.66323    |           2.63076    |"
   ]
  },
  {
   "cell_type": "markdown",
   "id": "3451a569",
   "metadata": {},
   "source": [
    "Razão de passagem máxima: 10.84"
   ]
  },
  {
   "cell_type": "markdown",
   "id": "540e22c1",
   "metadata": {},
   "source": [
    "<img src=\"images/questao2/questao2_fig1.jpg\" style=\"width:700px\"/>"
   ]
  },
  {
   "cell_type": "markdown",
   "id": "f8e05f86",
   "metadata": {},
   "source": [
    "Partindo de um tubofan de razão de passagem ($B$) igual a zero (técnicamente, um turbojato), quando aumentamos o valor de $B$ passamos a absorver a energia do escoamento pós turbina do compressor (HPT) utilizando a turbina do fan (LPT). A medida que a razão de passagem aumenta, a vazão mássica no gerador de gás ($\\dot{m}_H$) permanece constante, mas a potência gerada não é utilizada apenas para acelerar os gases nos bacal quente, mas também para comprimir o ar no fan. Há, portanto, um limite energético de quanto ar frio ($\\dot{m}_C$) o fan consegue comprimir, que implica em uma limitação na razão de passagem $B$.\n",
    "\n",
    "Na figura acima, o gráfico (d) mostra que a pressão total na saída da turbina do fan ($p_{06}$) decresce monotonicamente com o aumento da razão de passagem até se igualar a pressão ambiente quando $B=10.84$. A partir deste valor, o modelo nos mostra que a pressão cairia abaixo da pressão atmosférica, o que faria o escoamento na turbina ir contra o gradiente de pressão. Na prática, isso não ocorre, e o que o modelo nos diz, na verdade, é que não é possível operar com a razão de passagem superior a $B=10.84$. Da mesma maneira, o gráfico (c) mostra a evolução da velocidade de saída dos gases quentes, que descresce monotonicamente até atingir o vor de zero para o memo limite, o que nos leva às mesmas conclusões do gráfico (c).\n",
    "\n",
    "Os gráficos (a) e (b) da figura acima nos mostram o empuxo específico e o consumo especícifico até o valor limite da razão de passagem, respectivamente. Os dois gráficos nos dizem que a eficiência do motor cresce com a razão de passagem, tanto do ponto de vista do consumo quanto do empuxo específico."
   ]
  },
  {
   "cell_type": "markdown",
   "id": "1b358224",
   "metadata": {},
   "source": [
    "| bpr              |        0.0 |         1.0 |         2.0 |         3.0 |         4.0 |         5.0 |         6.0 \n",
    "|:-----------------|-----------:|------------:|------------:|------------:|------------:|------------:|------------:\n",
    "| fuel_consumption |  2.32764   |   1.93985   |   1.66588   |   1.46248   |   1.30601   |   1.18246   |   1.08315   \n",
    "| thrust_total     | 98.5925    |  98.5919    |  98.5919    |  98.5917    |  98.5919    |  98.5916    |  98.5917    \n",
    "| TSFC             |  0.0236087 |   0.0196756 |   0.0168967 |   0.0148337 |   0.0132466 |   0.0119935 |   0.0109862 \n",
    "| mass_flow        | 99.9233    | 166.552     | 214.544     | 251.132     | 280.328     | 304.572     | 325.488     "
   ]
  },
  {
   "cell_type": "markdown",
   "id": "43fa4dfd",
   "metadata": {},
   "source": [
    "| bpr              |         7.0 |          8.0 |          9.0 |         10.0 |         11.0 |\n",
    "|:-----------------|------------:|-------------:|-------------:|-------------:|-------------:|\n",
    "| fuel_consumption |   1.00249   |   0.9371     |   0.885533   |   0.850178   |   0.863463   |\n",
    "| thrust_total     |  98.5917    |  98.5916     |  98.5916     |  98.5917     |  98.5917     |\n",
    "| TSFC             |   0.0101681 |   0.00950487 |   0.00898183 |   0.00862322 |   0.00875797 |\n",
    "| mass_flow        | 344.288     | 362.059      | 380.15       | 401.47       | 444.812      |"
   ]
  },
  {
   "cell_type": "markdown",
   "id": "f46679cc",
   "metadata": {},
   "source": [
    "Nesta parte do estudo, estamos interessados em fazer com que o motor turbofan apresente o mesmo empuxo total $T$ que a versão turbojato, que foi calculado pelo modelo como $T=98.59\\;kN$. Então, para cada possível valor da razão de passagem $0 \\leq B \\leq 10.84$, o valor da vazão mássica foi alterado até que se atingisse o mesmo empuxo total que o turbojato. Os valores obtidos podem ser vistos na tabela resumida ou na figura acima.\n",
    "\n",
    "O gráfico (a) da figura acima mostra que para produzir o mesmo empuxo, um motor turbofan sempre é mais econômico. Porém, como mostra a figura (b), para produzir o mesmo empuxo, a vazão mássica deve aumentar significativamente, possivelmente atingindo valores que apresentam desafios tecnológicos e geométricos para ser implementado."
   ]
  },
  {
   "cell_type": "markdown",
   "id": "08b24b90",
   "metadata": {},
   "source": [
    "Emputo total do turbojato: 98.59 kN"
   ]
  },
  {
   "cell_type": "markdown",
   "id": "040da8dc",
   "metadata": {},
   "source": [
    "<img src=\"images/questao2/questao2_fig2.jpg\" style=\"width:800px\"/>"
   ]
  },
  {
   "cell_type": "markdown",
   "id": "50a3d5af",
   "metadata": {},
   "source": [
    "---"
   ]
  },
  {
   "cell_type": "markdown",
   "id": "d6bacafc",
   "metadata": {},
   "source": [
    "## Exercício 3: Evolução dos Motores Turbofan\n",
    "\n",
    "* Eloi Antonio\n",
    "* Gabriel Henrique"
   ]
  },
  {
   "cell_type": "markdown",
   "id": "ab840292",
   "metadata": {},
   "source": [
    "\n",
    "Deseja-se produzir 100 kN no início da decolagem (Mach = 0) ao nível do mar (Ta =\n",
    "288,2K e Pa = 101,3 kPa) usando motores turbofans com tecnologias de diferentes\n",
    "décadas, conforme tabela abaixo (ponto de projeto estático ao nível do mar)."
   ]
  },
  {
   "cell_type": "markdown",
   "id": "87a6c4a9",
   "metadata": {},
   "source": [
    "---"
   ]
  },
  {
   "cell_type": "markdown",
   "id": "c2903133",
   "metadata": {},
   "source": [
    "### A) Compare:\n",
    " Compare a vazão de ar, consumo de combustível, consumo específico de combustível e empuxo específico (parâmetros de desempenho) na condição de projeto, estática ao nível do mar."
   ]
  },
  {
   "cell_type": "markdown",
   "id": "09096583",
   "metadata": {},
   "source": [
    "#### Geração dos resultados \n",
    "\n",
    "Para a resolução deste exercício são utilizados os valores de eficiência dos componentes, constante do gás para o ar e poder calorífico do combustível definidos para o Exercício 2. Para garantir que os diferentes motores gerassem o empuxo total igual a 100 kN na condição estática a nível do mar foram calibrados os valores de vazão mássica de ar na entrada para cada motor. Os resultados são indicados nas tabelas e gráficos seguintes:"
   ]
  },
  {
   "cell_type": "markdown",
   "id": "034aa4e9",
   "metadata": {},
   "source": [
    "***Calibração da vazão mássica de ar***\n",
    "\n",
    "| Década do motor   |    Vazão mássica de ar na entrada [kg/s] |    Empuxo total [kN] |\n",
    "|:-----------------:|:----------------------------------------:|:--------------------:|\n",
    "| 60/70             |                                  266.338 |                  100 |\n",
    "| 70/80             |                                  306.021 |                  100 |\n",
    "| 80/90             |                                  318.217 |                  100 |\n",
    "| 90/00             |                                  343.206 |                  100 |\n",
    "| 00/10             |                                  356.071 |                  100 |"
   ]
  },
  {
   "cell_type": "markdown",
   "id": "ccac98ac",
   "metadata": {},
   "source": [
    "***Comparação dos parâmetros de desempenho entre os motores***\n",
    "\n",
    "|  Década do motor     |   Vazão mássica de gases quentes [kg/s] |   Consumo de combustível [kg/s] |   TSFC [kg/(kN s)] |   Empuxo Específico [(kN s)/kg] |\n",
    "|:-----:|:---------------:|:------------------:|:------:|:-----------------:|\n",
    "| 60/70 |          88.779 |              1.491 |  0.015 |             1.126 |\n",
    "| 70/80 |          61.204 |              1.179 |  0.012 |             1.634 |\n",
    "| 80/90 |          53.036 |              1.083 |  0.011 |             1.886 |\n",
    "| 90/00 |          38.134 |              0.951 |  0.01  |             2.622 |\n",
    "| 00/10 |          32.37  |              0.874 |  0.009 |             3.089 |"
   ]
  },
  {
   "cell_type": "markdown",
   "id": "dee667b7",
   "metadata": {},
   "source": [
    "***Gráficos contendo os parâmetros de desempenho***"
   ]
  },
  {
   "cell_type": "markdown",
   "id": "5419f650",
   "metadata": {},
   "source": [
    "<img src=\"images/questao3/itemA.jpg\" alt=\"Fluxo mássico e consumo de combustível das diferentes geracoes de motores variando N2\" style=\"width: 700px;\"/>"
   ]
  },
  {
   "cell_type": "markdown",
   "id": "089c210c",
   "metadata": {},
   "source": [
    "#### Análise dos resultados\n",
    "\n",
    "A partir dos dados é possível concluir que houve um aumento da eficiência na geração de empuxo ao modernizar os motores turbofan. Isso pode ser confirmado quando verificado que para um mesmo valor de empuxo (nesse exercício o empuxo total gerado foi de 100kN) menores valores de consumo de combustível específico e maiores valores do empuxo específico são obtidos a medida em que são analisados motores de décadas subsequentes.\n",
    " \n",
    "Ademais é possível constatar a diminuição do fluxo mássico de gases quentes a medida que se avança em gerações subsequentes de motores turbofan. Que pode ser explicado pelos seguintes fatores:\n",
    "- Aumento da razão de passagem é possibilitado um aumento na geração do empuxo sem a necessidade de aumento da vazão mássica que adentra o interior do motor; \n",
    "- Aumento da razão de pressão do compressor possibilitando que um menor fluxo mássico de ar de gases quentes seja capaz de produzir uma quantidade maior de empuxo."
   ]
  },
  {
   "cell_type": "markdown",
   "id": "fca6fd53",
   "metadata": {},
   "source": [
    "---"
   ]
  },
  {
   "cell_type": "markdown",
   "id": "fe07708f",
   "metadata": {},
   "source": [
    "### B) Variação da rotação do compressor na condição estática a nível do mar\n",
    "Ainda na condição estática e ao nível do mar, varie a rotação até 70% de N2 e\n",
    "compare como cada motor se comporta sobre os parâmetros de desempenho e\n",
    "empuxo em valores absolutos e normalizados pela condição de 100% de N2."
   ]
  },
  {
   "cell_type": "markdown",
   "id": "f08b5740",
   "metadata": {},
   "source": [
    "#### Geração dos resultados \n",
    "\n",
    "Partindo dos valores de projeto definidos no item \"a\", foram variadas os valores de velocidade de rotação do compressor (N2) e os índices de desempenho de cada motor nessas condições foram avaliadas. A seguir são apresentados os gráficos contendo os resultados encontrados, tanto em valores absolutos quanto em valores normalizados. Essa normalização foi realizada tendo como referência os valores no ponto de projeto (N2 = 100%) calculados no item \"a\"."
   ]
  },
  {
   "cell_type": "markdown",
   "id": "3a16cb0a",
   "metadata": {},
   "source": [
    "***Gráficos contendo os parâmetros de desempenho para motores***\n"
   ]
  },
  {
   "cell_type": "markdown",
   "id": "44c06319",
   "metadata": {},
   "source": [
    "<img src=\"images/questao3/itemB_1.jpg\" alt=\"Fluxo mássico e consumo de combustível das diferentes geracoes de motores variando N2\" style=\"width: 700px;\"/>"
   ]
  },
  {
   "cell_type": "markdown",
   "id": "40669298",
   "metadata": {},
   "source": [
    "<img src=\"images/questao3/itemB_2.jpg\" alt=\"TSFC e Empuxo Específico das diferentes geracoes de motores variando N2\" style=\"width: 700px;\"/>"
   ]
  },
  {
   "cell_type": "markdown",
   "id": "e3e66976",
   "metadata": {},
   "source": [
    "#### Análise dos resultados\n",
    "\n",
    "A partir dos gráficos é possível verificar que conforme a rotação do compressor é diminuída, há uma menor vazão de ar quente no motor, visto que há uma relação diretamente proporcional entre a rotação do compressor e a quantidade de fluxo de ar que admite. Ademais, também é observada uma redução do consumo de combustível com a redução da rotação, a qual inclusive é mais acentuada do que a queda de vazão mássica de ar quente. Esta redução do consumo de combustível ocorre, primeiramente, por conta da redução da vazão mássica de ar quente no motor, que implica na diminuição da necessidade de injeção de combustível para ignitar o ar. Mas a redução do consumo de combustível também ocorre por questões de manutenção do motor: como o motor não está operando em máxima potência quando a rotação do compressor é reduzida, a câmara de combustão do motor não precisa operar na mesma temperatura em que opera na condição de rotação máxima, o que é desejável para que reduzir a danificação dos componentes da parte quente do motor; e para ter essa diminuição de temperatura, a razão ar/combustível precisa ser reduzida, o que implica na redução mais acelerada do consumo de combustível.\n",
    "\n",
    "No que diz respeito à comparação entre diferentes gerações de motores, é possível perceber que os motores desenvolvidos nas décadas mais recentes apresentam uma melhora significativa na quantidade de fluxo de ar e de combustível consumido. Porém, o comportamento normalizado em função da diminuição de rotação é similar para todas as gerações, com uma certa vantagem para as gerações mais novas.\n",
    "\n",
    "A partir do gráfico de consumo específico de combustível (TSFC) é observado um comportamento não-linear à medida que a variação de rotação do compressor. Nisto com a diminuição da rotação até cerca de 85% da rotação de N2 em ponto de projeto o parâmetro TSFC é levemente reduzido, mas ao diminuir ainda mais N2, ocorre o comportamento inverso com o aumento de TSFC. Isso pode ser explicado sabendo que a nas rotações próximas ao ponto de projeto operação do motor é mantida com uma eficiência praticamente constante, mas nos regimes de menor rotação, a eficiência do motor começa a ser comprometida, resultando na necessidade de maior TSFC.\n",
    "\n",
    "E com o aumento do TSFC aliado à redução da razão combustível-ar, o empuxo específico (que consiste na divisão entre a razão combustível-ar e o TSFC) acaba sofrendo uma redução com a diminuição da rotação do compressor. Inicialmente, a rotações próximas do ponto de projeto, o empuxo específico, sofre menores reduções, visto que o TSFC praticamente não sofre alteração e, assim, não interfere na perda de empuxo específico. Porém, à medida que o TSFC vai sendo aumentado, uma vez que diminui-se a rotação N2, o empuxo específico passa a ter uma taxa de redução ainda mais acentuada.\n",
    "\n",
    "Porém, para os modelos de motores turbofan que apresentam alta razão de passagem (B>5) são percebidos pontos de inflexão tanto no gráfico de empuxo específico x rotação de N2 quanto de TSFC x rotação de N2. Esses pontos revelam uma limitação no modelo para representar o comportamento de motores com alta razão de passagem. Ao qual está relacionada a diminuição da pressão no bocal de saída dos gases quentes chegando esta a ser menor que a pressão atmosférica o que resulta em valores de velocidade de saída do bocal de gases quentes não condizentes (valores NaN) com o observado fisicamente, assim se pode concluir para o motor da década de 2000-2010 os valores disponíveis nos gráficos são validos de 100% até 85% de N2 e para o motor da década de 1990/2000 existe validade dos dados de 100% até aproximadamente 80% de N2. \n",
    "\n",
    "Portanto comparando os motores de diferentes gerações, é possível notar que os motores desenvolvidos nas décadas mais recentes, são mais eficientes tanto no consumo de combustível (já que apresentam menor TSFC) e na geração de empuxo específico. Finalmente no que se refere ao TSFC, também é observado que os motores turbofan mais novos são capazes de se manter mais eficientes a velocidades de rotação do compressor mais baixas, o que é comprovado pelo menor aumento do TSFC."
   ]
  },
  {
   "cell_type": "markdown",
   "id": "9cf265a3",
   "metadata": {},
   "source": [
    "---"
   ]
  },
  {
   "cell_type": "markdown",
   "id": "345d533a",
   "metadata": {},
   "source": [
    "### C) Parâmetros de desempenho a voo de cruzeiro\n",
    "Pensando no voo de cruzeiro a Mach 0,85 e 12.200m ((Ta = 216,7K e Pa =\n",
    "18,75 kPa) e que os motores operam a 85% de N2, calcule os parâmetros de\n",
    "desempenho anteriores, somando-se a eles o empuxo gerado."
   ]
  },
  {
   "cell_type": "markdown",
   "id": "8ce059f4",
   "metadata": {},
   "source": [
    "#### Geração dos resultados \n",
    "\n",
    "Nesse exercício manteve-se os valores de eficiências dos componentes do motor, de $\\gamma$, da constantes do gás e poder calorífico do combustível  do item \"a\".\n",
    "\n",
    "Porém para o cálculo dos parâmetros de desempenho nas condições estabelecidas foi realizada uma nova avaliação de operação dos motores a voo de cruzeiro (M=0.85, Ta=216,7 K e Pa= 18,75 kPa) e com uma rotação do compressor igual a 85% do valor de projeto.\n",
    "\n",
    "Ademais foram atualizadas as vazões mássicas de ar para a altitude de 12.200 m. Dessa maneira são disponibilizados na tabela e gráficos seguintes os resultados obtidos:"
   ]
  },
  {
   "cell_type": "markdown",
   "id": "d63bc183",
   "metadata": {},
   "source": [
    "**Comparação entre os motores turbofan de diferentes décadas**\n",
    "\n",
    "|  Década do motor     |   Vazão mássica de gases quentes [kg/s] |   Consumo de combustível [kg/s] |   TSFC [Kg/(kN s)] |   Empuxo Específico [(kN s)/kg] | Empuxo total [kN] | N2 |\n",
    "|:-----:|:---------------:|:------------------:|:------:|:-----------------:|:--------------:|:----:|\n",
    "| 60/70 |          13.415 |              0.201 |  0.026 |             0.583 |          7.822 | 0.85 |\n",
    "| 70/80 |           9.031 |              0.154 |  0.022 |             0.76  |          6.867 | 0.85 |\n",
    "| 80/90 |           7.78  |              0.141 |  0.021 |             0.849 |          6.609 | 0.85 |\n",
    "| 90/00 |           5.54  |              0.121 |  0.02  |             1.09  |          6.038 | 0.85 |\n",
    "| 00/10 |           4.687 |              0.111 |  0.019 |             1.237 |          5.797 | 0.85 |"
   ]
  },
  {
   "cell_type": "markdown",
   "id": "24c54487",
   "metadata": {},
   "source": [
    "***Gráficos contendo os parâmetros de desempenho***"
   ]
  },
  {
   "cell_type": "markdown",
   "id": "0dc5c94c",
   "metadata": {},
   "source": [
    "<img src=\"images/questao3/itemC_1.jpg\" alt=\"Parametros de desempenho das diferentes geracoes de motores\" style=\"width: 700px;\"/>"
   ]
  },
  {
   "cell_type": "markdown",
   "id": "e6b5d896",
   "metadata": {},
   "source": [
    "<img src=\"images/questao3/itemC_2.jpg\" alt=\"Empuxo gerado pelas diferentes geracoes de motores\" style=\"width: 700px;\"/>"
   ]
  },
  {
   "cell_type": "markdown",
   "id": "5421cb93",
   "metadata": {},
   "source": [
    "#### Análise dos resultados\n",
    "\n",
    "Com o aumento da altitude de voo é possível identificar um aumento do TSFC e diminuição do empuxo específico, o que é consequência da queda de massa específica do ar e do fluxo de quantidade de movimento na entrada do motor (que é acrescido com a razão de passagem e velocidade de voo). Este último é diminuido do empuxo gerado pela exaustão dos gases nas saídas dos bocais.\n",
    "\n",
    "A redução verificada na vazão mássica de gases quentes é consequência direta da diminuição da vazão da massa de ar que entra no motor que por sua vez é resultado da diminuição da massa específica do ar atmosférico em maiores altitudes. \n",
    "\n",
    "Similarmente ao verificado no item \"a\" ocorre a diminuição do consumo de combustível, uma vez que há menor necessidade de sua injeção na mistura ar-combustível.\n",
    "\n",
    "Em relação ao empuxo gerado nas condições de vôo em cruzeiro é possível notar que há uma redução do seu valor quando comparado com o valor verificado em condições á nível do mar. Além disso os motores mais recentes necessitam gerar menos empuxo para manter a aeronave nas condições de voo de cruzeiro o que corrobora com a maior eficiência de gerações mais novas de motores.\n"
   ]
  },
  {
   "cell_type": "markdown",
   "id": "31228631",
   "metadata": {},
   "source": [
    "---"
   ]
  },
  {
   "cell_type": "markdown",
   "id": "0ff92b13",
   "metadata": {},
   "source": [
    "## Exercício 4: Operação dos Motores Turbo Hélice\n",
    "\n",
    "* Camilla Santos\n",
    "* Orlando Gabriel"
   ]
  },
  {
   "cell_type": "markdown",
   "id": "32c3fbb4",
   "metadata": {},
   "source": [
    "---"
   ]
  },
  {
   "cell_type": "markdown",
   "id": "ed25a1f1",
   "metadata": {},
   "source": [
    "### Ex. 4-A)\n",
    "\n",
    "Os dados considerados neste exercício são:\n",
    "\n",
    "| Componente    | Eficiência Adiabática | $\\gamma$ |\n",
    "| ------------- | --------------------- | -------- |\n",
    "| entrada do ar | 0,85                  | 1,40     |\n",
    "| compressor    | 0,75                  | 1,37     |\n",
    "| combustão     | 1,00                  | 1,35     |\n",
    "| turbina       | 0.90                  | 1,33     |\n",
    "| bocal         | 0,98                  | 1,36     |\n",
    "| turbina livre | 0,90                  | 1,33     |\n",
    "\n",
    "\n",
    "E os dados operacionais são:\n",
    "\n",
    "| Dados operacionais:                         | Valor             |\n",
    "| ------------------------------------------- | ----------------- |\n",
    "| Razão de Pressão no compressor              | 12                |\n",
    "| Temperatura na sáida da câmara de combustão | 1400 K            |\n",
    "| Poder Calorífico Inferior do Combustível    | 45000 kJ/kg       |\n",
    "| R Médio                                     | 288,3 m^2/(s^2.K) |\n",
    "| Cp no combustor                             | 1,11 kJ/(kg.K)    |\n",
    "| Cp na turbina livre                         | 1,11 kJ/(kg.K)    |\n",
    "| Cp na turbina livre isentrópica             | 1,16 kJ/(kg.K)    |\n",
    "| Razão de potência na caixa de redução       | 0,98              |\n",
    "| Efiiciência da Hélice                       | 0,85              |\n",
    "\n",
    "Inicialmente, o motor foi calibrado considerando os seguintes parâmetros:\n",
    "\n",
    "| Dados operacionais:  | Valor     |\n",
    "| -------------------- | --------- |\n",
    "| Mach                 | 0 M       |\n",
    "| Rotação N2           | 1         |\n",
    "| Vazão de ar          | 6,7 kg/s  |\n",
    "| Temperatura ambiente | 288,2 K   |\n",
    "| Pressão ambiente     | 101,3 kPa |\n",
    "\n",
    "Para isso, como o único parâmetro que não foi informado foi a razão de expansão na turbina livre (pr_tl), este parâmetro foi determinado variando-o até que a potência obtida fosse a máxima fornecida pelo motor, ou seja, a maior potência termodinâmica que é igual à 1440 kW. Essa potência do motor corresponde às condições acima e não considera a potência limite da caixa de redução. No código, apenas a variável pr_tl que corresponde a essa razão de expansão foi variada de 0.0001 em 0.0001, desde o valor igual a 2 e até que a potência obtida fosse igual à 1440kW. A cada variação a potência obtida foi comparada com o valor de 1440 kW, logo foi obtida a razão de expansão na turbina livre que permite ao motor fornecer a potência de 1440kW dada as condições acima."
   ]
  },
  {
   "cell_type": "markdown",
   "id": "7ace1142",
   "metadata": {},
   "source": [
    "#### Solução"
   ]
  },
  {
   "cell_type": "markdown",
   "id": "a6d3654c",
   "metadata": {},
   "source": [
    "<img src=\"images/questao4/calib_pt_tl.jpg\" style=\"width:600px\"/>"
   ]
  },
  {
   "cell_type": "markdown",
   "id": "fab7d6dc",
   "metadata": {},
   "source": [
    "Após a calibração para a optência mecânica igual à \n",
    "\n",
    "| Rotação N2             |              1 |\n",
    "|:-----------------------|---------------:|\n",
    "| BSFC                   |    9.13368e-05 |\n",
    "| EBSFC                  |    9.13368e-05 |\n",
    "| TSFC                   |    0.0532952   |\n",
    "| aircraft_speed         |    0           |\n",
    "| fuel_consumption       |    0.13152     |\n",
    "| gearbox_power          | 1411.14        |\n",
    "| mass_flow              |    6.73536     |\n",
    "| specific_power_turbine |  213.788       |\n",
    "| specific_thrust        |    0.366388    |\n",
    "| thrust_hot_air         |    2.46776     |\n",
    "| thrust_propeller       |    0           |\n",
    "| thrust_total           |    2.46776     |\n",
    "| turbine_power          | 1439.94        |\n",
    "\n",
    "Como o motor havia sido calibrado em uma rotação de 100% e com essa rotação o motor fornece a potência máxima, a rotação do motor foi reduzida até que a potência fornecida pelo motor fosse menor ou igual à potência limite suportada pela caixa de redução, que é 1282 kW. Assim, no código e utilizando como razão de expansão da turbina livre o valor encontrado anteriormente, a variável N2, que representa a rotação entre 0 e 1, foi variada de 0.0001 em 0.0001. A cada variação a potência do motor foi comparada à potência limite da caixa de redução. E enquanto a potência do motor fosse maior do que a potência limite, a rotação N2 foi reduzida até que a potência do motor fosse menor ou igual à potência limite, obtendo assim o valor de rotação N2 com o qual o motor entrega a potência limite da caixa de redução."
   ]
  },
  {
   "cell_type": "markdown",
   "id": "a77e29e8",
   "metadata": {},
   "source": [
    "<img src=\"images/questao4/calib_N2.jpg\" style=\"width:600px\"/>"
   ]
  },
  {
   "cell_type": "markdown",
   "id": "0fffd476",
   "metadata": {},
   "source": [
    "Com a rotação encontrada foram obtidos os seguintes valores:\n",
    "\n",
    "| Rotação N2             |   0.9633 |\n",
    "|:-----------------------|--------------------:|\n",
    "| BSFC                   |         8.83361e-05 |\n",
    "| EBSFC                  |         8.83361e-05 |\n",
    "| TSFC                   |         0.0637705   |\n",
    "| aircraft_speed         |         0           |\n",
    "| fuel_consumption       |         0.113237    |\n",
    "| gearbox_power          |      1256.24        |\n",
    "| mass_flow              |         6.28179     |\n",
    "| specific_power_turbine |       204.063       |\n",
    "| specific_thrust        |         0.282673    |\n",
    "| thrust_hot_air         |         1.77569     |\n",
    "| thrust_propeller       |         0           |\n",
    "| thrust_total           |         1.77569     |\n",
    "| turbine_power          |      1281.88        |"
   ]
  },
  {
   "cell_type": "markdown",
   "id": "78e42c0b",
   "metadata": {},
   "source": [
    "---"
   ]
  },
  {
   "cell_type": "markdown",
   "id": "b1629b12",
   "metadata": {},
   "source": [
    "### Ex. 4-B)\n",
    "\n",
    "O ponto de Flat rating é o qual, dada uma temperatura ambiente e considerando que o motor fornece a potência limitada pela caixa de redução, é possível obter a temperatura na saída da câmara de combustão igual àquela estipulada para calibração do motor inicial, que neste caso é igual à 1400 K.\n",
    "\n",
    "Assim para obter este ponto, no código, a temperatura ambiente foi variada de 0.1 em 0.1 partindo de 288.2K, sendo que para cada temperatura a rotação N2 foi variada encontrando a rotação que permite o motor fornecer a potência limitante de 1282 kW. Ao encontrar essa rotação também foi obtida a temperatura da saída de combustão, a qual foi comparada com a temperatura de 1400 K. O ponto de flat-rating, portanto, foi a temperatura ambiente para a qual obteve-se a temperatura de saída da câmara de combustão igual à 1400 K. "
   ]
  },
  {
   "cell_type": "markdown",
   "id": "c3a2a7de",
   "metadata": {},
   "source": [
    "<img src=\"images/questao4/flat_rating.jpg\" style=\"width:600px\"/>"
   ]
  },
  {
   "cell_type": "markdown",
   "id": "34025f29",
   "metadata": {},
   "source": [
    "<img src=\"images/questao4/rotacao_tempAmb.jpg\" style=\"width:600px\"/>"
   ]
  },
  {
   "cell_type": "markdown",
   "id": "f0c60f98",
   "metadata": {},
   "source": [
    "Temperatura do ponto de flat-rating:  307.90"
   ]
  },
  {
   "cell_type": "markdown",
   "id": "466b7647",
   "metadata": {},
   "source": [
    "Os dados encontrados são:\n",
    "\n",
    "| Rotação N2             |   0.9913 |\n",
    "|:-----------------------|--------------------:|\n",
    "| BSFC                   |         8.72792e-05 |\n",
    "| EBSFC                  |         8.72792e-05 |\n",
    "| TSFC                   |         0.0709189   |\n",
    "| aircraft_speed         |         0           |\n",
    "| fuel_consumption       |         0.111912    |\n",
    "| gearbox_power          |      1256.58        |\n",
    "| mass_flow              |         6.20803     |\n",
    "| specific_power_turbine |       206.543       |\n",
    "| specific_thrust        |         0.254191    |\n",
    "| thrust_hot_air         |         1.57802     |\n",
    "| thrust_propeller       |         0           |\n",
    "| thrust_total           |         1.57802     |\n",
    "| turbine_power          |      1282.23        |\n",
    "\n",
    "Analisando as potências apresentadas no gráfico Flat-rating, percebe-se que a medida que a temperatura ambiente aumenta, a potência termodinâmica, que é a potência máxima que o motor consegue fornecer para aquela temperatura ambiente a uma rotação em 100%, diminui. Isso ocorre devido à necessidade de manter a temperatura na saída da câmara de combustão máxima constante, dado que a temperatura ambiente aumenta. Para isso, é injetado menos combustível, o que faz com que a potência diminua. Enquanto isso, a potência mecânica observada, que é a potência efetiva que o motor entrega, é limitada à potência máxima suportada pela caixa de redução. \n",
    "\n",
    "Visto que a potência térmodinâmica do motor cai, a medida que a temperatura ambiente aumenta, é necessário uma maior rotação para obter a potência máxima suportada pela caixa de redução, o que é observado no gráfico Rotação N2 x Temperatura Ambiente.\n",
    "\n",
    "Como a rotação aumenta a medida que a temperatura ambiente aumenta, a temperatura na saída da câmara de combustão também aumenta até o ponto de flat-rating, em que se alcança essa temperatura igual à 1400K. No gráfico de flat-rating observa-se que neste ponto a máxima potência termodinâmica possível dada aquelas condições não é igual à potência efetiva entregue a caixa de redução, pois a rotação neste ponto não é a máxima possível.\n",
    "\n",
    "É importante mencionar que devido ao polinômio de correção da temperatura da saída da câmara de combustão, essa temperatura não fica em 1400 K, mas sim em 1417.688 K quando a rotação é máxima. Logo, o ponto de flat-rating se dá um pouco depois que este obtido. No entanto, para preservar o ponto de operação estabelecido no exercício, utilizou-se o valor de 1400 K para obter o ponto de flat-rating."
   ]
  },
  {
   "cell_type": "markdown",
   "id": "0caf6b30",
   "metadata": {},
   "source": [
    "<img src=\"images/questao4/TET_tempAmb.jpg\" style=\"width:600px\"/>"
   ]
  },
  {
   "cell_type": "markdown",
   "id": "86ac4519",
   "metadata": {},
   "source": [
    "Como a temperatura na saída da câmara de combustão aumenta com o aumento da rotação e as temperaturas da entrada e saída do compressor também aumenta devido ao aumento da temperatura ambiente, a temperatura entre turbinas também aumenta."
   ]
  },
  {
   "cell_type": "markdown",
   "id": "1cba19ed",
   "metadata": {},
   "source": [
    "<img src=\"images/questao4/BSFC_tempAmb.jpg\" style=\"width:600px\"/>"
   ]
  },
  {
   "cell_type": "markdown",
   "id": "f34c5ae1",
   "metadata": {},
   "source": [
    "<img src=\"images/questao4/consComb_tempAmb.jpg\" style=\"width:600px\"/>"
   ]
  },
  {
   "cell_type": "markdown",
   "id": "329d656e",
   "metadata": {},
   "source": [
    "Com o aumento da temperatura ambiente, as temperaturas nas diferentes etapas do processo propulsivo também se elevam, dentre elas a temperatura na saída da câmara de combustão. Entretanto, há um limite operacional para a temperatura da saída da câmara de combustão que deve ser respeitado. Dessa forma, faz-se necessário introduzir uma menor energia na câmara de combustão, ou seja, diminui-se a injeção de combustível, de forma que o limite de temperatura seja respeitado. Assim, tem-se a relação apresentada nos gráficos de BSFC x Temperatura ambiente e Consumo de combustível x Temperatura ambiente, no qual a temperatura ambiente e o consumo de combustível possuem comportamentos inversos."
   ]
  },
  {
   "cell_type": "markdown",
   "id": "0ff44e4e",
   "metadata": {},
   "source": [
    "---"
   ]
  },
  {
   "cell_type": "markdown",
   "id": "1b0c94bf",
   "metadata": {},
   "source": [
    "### Ex. 4-C)\n",
    "Primeiramente deve-se alterar as condições de entrada, adotando-se uma altitude de 7000 m (Pa = 45 kPa e Ta = 246,55 K)."
   ]
  },
  {
   "cell_type": "markdown",
   "id": "69858866",
   "metadata": {},
   "source": [
    "Em seguida, deve-se variar os valores de número de Mach (0.25, 0.35 e 0.45), alterando-se valores de rotação do gerador de gás (entre 65% e 100% do valor nominal máximo), para cada valor de Mach."
   ]
  },
  {
   "cell_type": "markdown",
   "id": "6428eef8",
   "metadata": {},
   "source": [
    "Por fim, deve-se plotar os gráficos, mostrando-se a relação entre os parâmetros específicos e os valores de N2, para cada valor de Mach."
   ]
  },
  {
   "cell_type": "markdown",
   "id": "b91433ac",
   "metadata": {},
   "source": [
    "<img src=\"images/questao4/fin1_questao4.jpg\" style=\"width:900px\"/>"
   ]
  },
  {
   "cell_type": "markdown",
   "id": "d998c7f8",
   "metadata": {},
   "source": [
    "<img src=\"images/questao4/fin2_questao4.jpg\" style=\"width:400px\"/>"
   ]
  }
 ],
 "metadata": {
  "interpreter": {
   "hash": "0ec6322c57b47b4334586c1ef558a67e98d9fc2e423b1c8a70787ffd3754dc5d"
  },
  "kernelspec": {
   "display_name": "Python 3 (ipykernel)",
   "language": "python",
   "name": "python3"
  },
  "language_info": {
   "codemirror_mode": {
    "name": "ipython",
    "version": 3
   },
   "file_extension": ".py",
   "mimetype": "text/x-python",
   "name": "python",
   "nbconvert_exporter": "python",
   "pygments_lexer": "ipython3",
   "version": "3.8.10"
  },
  "toc": {
   "base_numbering": 1,
   "nav_menu": {},
   "number_sections": true,
   "sideBar": true,
   "skip_h1_title": false,
   "title_cell": "Table of Contents",
   "title_sidebar": "Contents",
   "toc_cell": false,
   "toc_position": {
    "height": "calc(100% - 180px)",
    "left": "10px",
    "top": "150px",
    "width": "165px"
   },
   "toc_section_display": true,
   "toc_window_display": true
  }
 },
 "nbformat": 4,
 "nbformat_minor": 5
}
