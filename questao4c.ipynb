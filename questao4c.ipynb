{
 "cells": [
  {
   "cell_type": "markdown",
   "metadata": {},
   "source": [
    "### QUESTÃO 4 - LETRA C\n",
    "\n",
    "Primeiramente deve-se alterar as condições de entrada, adotando-se uma altitude de 7000 m (Pa = 45 kPa e Ta = 246,55 K).\n"
   ]
  },
  {
   "cell_type": "code",
   "execution_count": null,
   "metadata": {},
   "outputs": [],
   "source": [
    "import model_reference as mf\n",
    "import numpy as np\n",
    "import warnings\n",
    "import matplotlib.pyplot as plt\n",
    "\n",
    "plt.style.use('seaborn')\n",
    "warnings.filterwarnings('ignore')\n",
    "\n",
    "values = {\n",
    "    'mass_flow': 6.7,  # Vazão mássica = vazão de ar no compressor [kg/s]\n",
    "    't04': 1400,       # Temperatura da saída da câmara de combustão [K]\n",
    "    'prc': 12,         # Razão de pressão do compressor\n",
    "    'mach': 0,         # Mach de voo [M]\n",
    "    'ta': 288.2,       # Temperatura ambiente [K]\n",
    "    'pa': 101.3,       # Pressão ambiente [kPa]\n",
    "    'n_d': 0.85,       # Eficiência da entrada de ar\n",
    "    'gamma_d': 1.4,    # Gamma da entrada de ar\n",
    "    'n_c': 0.75,       # Eficiência do compressor\n",
    "    'gamma_c': 1.37,   # Gamma do compressor\n",
    "    'n_b': 1,          # Eficiência da câmera de combustão\n",
    "    'gamma_b': 1.35,   # Gamma da câmera de combustão\n",
    "    'n_t': 0.9,        # Eficiência da turbina do compressor\n",
    "    'gamma_t': 1.33,   # Gamma da turbina do compressor\n",
    "    'n_tl': 0.9,       # Eficiência da turbina livre\n",
    "    'gamma_tl': 1.33,  # Gamma da turbina livre\n",
    "    'n_n': 0.98,       # Eficiência do bocal de gases quentes\n",
    "    'gamma_n': 1.36,   # Gamma do bocal de gases quentes\n",
    "    'pc_fuel': 45000,  # Poder calorífico inferior do combustível [kJ/kg]\n",
    "    'cp_fuel': 1.110,  # Cp no combustor [kJ/(kg.K)]  \n",
    "    'cp_tls': 1.160,\n",
    "    'cp_tl': 1.110, \n",
    "    'r': 288.3,         # R médio m2/(s2.K)\n",
    "    'pr_tl': 2.3528,    # Razão de pressão da turbina livre    \n",
    "    'gearbox_power_ratio': 0.98,  # Razão de potência da gearbox\n",
    "    'propeller_efficiency': 0.85, # Eficiência da hélice\n",
    "    }\n",
    "\n",
    "\n",
    "## INICIO DA QUESTÃO 4 - LETRA C ##\n",
    "\n",
    "#Atualização de values para a letra c\n",
    "values[\"pa\"] = 45\n",
    "values[\"ta\"] = 246.55"
   ]
  },
  {
   "cell_type": "markdown",
   "metadata": {},
   "source": [
    "Em seguida, deve-se variar os valores de número de Mach (0.25, 0.35 e 0.45), alterando-se valores de rotação do gerador de gás (entre 65% e 100% do valor nominal máximo), para cada valor de Mach."
   ]
  },
  {
   "cell_type": "code",
   "execution_count": null,
   "metadata": {},
   "outputs": [],
   "source": [
    "#Variáveis procuradas (alvos) e suas unidades\n",
    "target = ['thrust_propeller', 'thrust_hot_air', 'thrust_total', 'BSFC', 'EBSFC', 'TSFC', 'fuel_consumption']\n",
    "target_title = ['Empuxo produzido pela hélice', 'Empuxo produzido pelo Bocal', 'Empuxo produzido total', 'BSFC', 'EBSFC', 'TSFC', 'Consumo de combustível']\n",
    "target_ylabel = ['Empuxo [kN]', 'Empuxo [kN]', 'Empuxo [kN]', 'BSFC [kg/(kW.s)]', 'EBSFC [kg/(kW.s)]', 'TSFC [kg/(kN.s)]', 'Consumo de combustível [kg/s]']\n",
    "\n",
    "#valores de mach utilizados\n",
    "mach = [0.25, 0.35, 0.45]\n",
    "\n",
    "#laço variando os valores de mach\n",
    "for i in mach:\n",
    "\n",
    "    values[\"mach\"] = i\n",
    "\n",
    "    turboprop = mf.TurboProp(values)\n",
    "    performance_results = turboprop.sumarise_results()\n",
    "    results = (turboprop.sumarise().append(turboprop.sumarise_results()).loc[target])\n",
    "\n",
    "    # laço variando os valores de N2\n",
    "    for j in np.linspace(1.0, 0.65, 20):\n",
    "\n",
    "        turboprop.set_n2(j)\n",
    "        results[j] = (turboprop.sumarise().append(turboprop.sumarise_results()).loc[target])\n",
    "\n",
    "    results = results.loc[target]\n",
    "\n",
    "    # alocando os resultados para cada mach (para plotar posteriormente)\n",
    "    if i==mach[0]:\n",
    "\n",
    "        results1 = results\n",
    "    \n",
    "    elif i==mach[1]:\n",
    "\n",
    "        results2 = results\n",
    "\n",
    "    elif i==mach[2]:\n",
    "\n",
    "        results3 = results\n"
   ]
  },
  {
   "cell_type": "markdown",
   "metadata": {},
   "source": [
    "Por fim, deve-se plotar os gráficos, mostrando-se a relação entre os parâmetros específicos e os valores de N2, para cada valor de Mach."
   ]
  },
  {
   "cell_type": "code",
   "execution_count": null,
   "metadata": {},
   "outputs": [],
   "source": [
    "#plot dos graficos\n",
    "fontsize=14\n",
    "cols = 1\n",
    "rows= 7\n",
    "fig, ax = plt.subplots(nrows=rows, ncols=cols, figsize=(10,75))\n",
    "aux=0\n",
    "\n",
    "for i in range(0,rows):\n",
    "\n",
    "    for j in range(0,cols):\n",
    "\n",
    "        plt.sca(ax[i])\n",
    "        plt.plot(results1.iloc[aux], marker='o', label=\"Mach = \" + str(mach[0]))\n",
    "        plt.plot(results2.iloc[aux], marker='o', label=\"Mach = \" + str(mach[1]))\n",
    "        plt.plot(results3.iloc[aux], marker='o', label=\"Mach = \" + str(mach[2]))\n",
    "        plt.title(target_title[aux]+\" vs N2\", fontsize=fontsize)\n",
    "        plt.xlabel('Rotação N2', fontsize=fontsize)\n",
    "        plt.ylabel(target_ylabel[aux], fontsize=fontsize)\n",
    "        plt.xlim([0.64,1.01])\n",
    "        plt.legend(fontsize=fontsize)\n",
    "        aux += 1\n"
   ]
  }
 ],
 "metadata": {
  "interpreter": {
   "hash": "088723bf9ec669b6236dce0cd0e926584e2fa2ca42c0aaaf5ad3bbd323dfd082"
  },
  "kernelspec": {
   "display_name": "Python 3.10.4 ('embraer')",
   "language": "python",
   "name": "python3"
  },
  "language_info": {
   "codemirror_mode": {
    "name": "ipython",
    "version": 3
   },
   "file_extension": ".py",
   "mimetype": "text/x-python",
   "name": "python",
   "nbconvert_exporter": "python",
   "pygments_lexer": "ipython3",
   "version": "3.10.4"
  },
  "orig_nbformat": 4
 },
 "nbformat": 4,
 "nbformat_minor": 2
}
